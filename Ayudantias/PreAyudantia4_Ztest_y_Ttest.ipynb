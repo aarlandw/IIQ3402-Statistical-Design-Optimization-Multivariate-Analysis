{
  "cells": [
    {
      "cell_type": "markdown",
      "metadata": {
        "id": "L7RqACku0USp"
      },
      "source": [
        "# preAyudantía 4: Z-test y T-test\n",
        "\n",
        "En este Google Colab podrán encontrar diferentes ejemplos de como realizar test de hipótesis sobre la media -o mediana- de muestras.  \n",
        "\n",
        "<a target=\"_blank\" href=\"https://colab.research.google.com/github/SysBioengLab/IIQ3402-Statistical-Design/blob/main/Ayudantias/preAyudantia4_Ztest_y_Ttest.ipynb\">\n",
        "  <img src=\"https://colab.research.google.com/assets/colab-badge.svg\" alt=\"Open In Colab\"/>\n",
        "</a>"
      ]
    },
    {
      "cell_type": "code",
      "execution_count": 1,
      "metadata": {
        "id": "hxpOBjbt0xT3"
      },
      "outputs": [],
      "source": [
        "!pip install numpy -q\n",
        "!pip install scipy -q\n",
        "!pip install statsmodels -q\n",
        "!pip install matplotlib -q\n",
        "!pip install seaborn -q\n",
        "!pip install pandas -q"
      ]
    },
    {
      "cell_type": "markdown",
      "metadata": {
        "id": "jHl2Cu0K0i14"
      },
      "source": [
        "# Z-test\n",
        "\n",
        "El z-test es un test sobre la media que se caracteriza por ser estricto en sus supuestos. Este asume\n",
        "- Varianza conocida\n",
        "- Independencia de muestras\n",
        "- Normalidad de los datos y n≥30\n",
        "\n",
        "En este test estamos comparando dos poblaciones.\n",
        "\n"
      ]
    },
    {
      "cell_type": "code",
      "execution_count": 2,
      "metadata": {
        "colab": {
          "base_uri": "https://localhost:8080/",
          "height": 465
        },
        "id": "t1U4affw0QUO",
        "outputId": "df121eb5-58ed-496c-e48c-7c69386a347f"
      },
      "outputs": [
        {
          "data": {
            "image/png": "[encoded data removed]",
            "text/plain": [
              "<Figure size 640x480 with 1 Axes>"
            ]
          },
          "metadata": {},
          "output_type": "display_data"
        },
        {
          "name": "stdout",
          "output_type": "stream",
          "text": [
            "z-crítico:  -2.165744647338607\n",
            "p-value:  0.015165352622095386\n"
          ]
        }
      ],
      "source": [
        "import numpy as np\n",
        "import scipy.stats as st\n",
        "import matplotlib.pyplot as plt\n",
        "np.random.seed(42)\n",
        "def ztest_course(dato1, dato2, pop_var1 = 1, pop_var2 = 1, significance = 0.05 ,alternative = 'two-sided'):\n",
        "    '''\n",
        "    Z-test para comparar dos poblaciones.\n",
        "    Este test asume varianzas poblacionales conocidas, que las muestras son independientes\n",
        "    y siguen una distribución normal.\n",
        "    ---\n",
        "    Parámetros:\n",
        "        dato1 : array_like\n",
        "            Primera muestra de datos.\n",
        "        dato2 : array_like\n",
        "            Segunda muestra de datos.\n",
        "        pop_var1 : float, optional\n",
        "            Varianza poblacional de la primera muestra. Por defecto es 1.\n",
        "        pop_var2 : float, optional\n",
        "            Varianza poblacional de la segunda muestra. Por defecto es 1.\n",
        "        significance : float, optional\n",
        "            Nivel de significancia para el test. Por defecto es 0.05.\n",
        "        alternative : str, optional\n",
        "            Tipo de test de hipótesis a realizar. Puede ser 'two-sided', 'larger' o 'smaller'.\n",
        "            Por defecto es 'two-sided'.\n",
        "\n",
        "    Retorna:\n",
        "        z : float\n",
        "            Valor del estadístico z.\n",
        "        p_value : float\n",
        "            Valor p del test.\n",
        "    '''\n",
        "    mean1 = np.mean(dato1)\n",
        "    mean2 = np.mean(dato2)\n",
        "\n",
        "    n1 = len(dato1)\n",
        "    n2 = len(dato2)\n",
        "\n",
        "\n",
        "    z = (mean1 - mean2)/ np.sqrt(pop_var1/n1 + pop_var2/n2)\n",
        "\n",
        "    if alternative == 'two-sided':\n",
        "        p_value = 2 * (1 - st.norm.cdf(np.abs(z)))\n",
        "    elif alternative == 'larger':\n",
        "        p_value = 1 - st.norm.cdf(z)\n",
        "    elif alternative == 'smaller':\n",
        "        p_value = st.norm.cdf(z)\n",
        "    else:\n",
        "        raise ValueError(\"El valor de 'alternative' debe ser 'two-sided', 'larger' o 'smaller'.\")\n",
        "\n",
        "    return z, p_value,\n",
        "\n",
        "\n",
        "# comparamos los datos\n",
        "# datos\n",
        "dato1 = np.random.normal(\n",
        "    loc = 10,\n",
        "    scale = 12,\n",
        "    size = 50)\n",
        "dato2 = np.random.normal(\n",
        "    loc = 13,\n",
        "    scale = 10,\n",
        "    size = 50\n",
        ")\n",
        "\n",
        "var1 = 12**2\n",
        "var2 = 15**2\n",
        "\n",
        "z, p_value = ztest_course(dato1, dato2, pop_var1 = var1, pop_var2 = var2, significance = 0.05 ,alternative = 'smaller')\n",
        "fig, ax = plt.subplots()\n",
        "ax.hist(dato1, bins = 20, alpha = 0.5, label = 'dato1')\n",
        "ax.axvline(np.mean(dato1), color = 'red', label = 'media1')\n",
        "ax.hist(dato2, bins = 20, alpha = 0.5, label = 'dato2')\n",
        "ax.axvline(np.mean(dato2), color = 'blue', label = 'media2')\n",
        "ax.legend()\n",
        "plt.show()\n",
        "print('z-crítico: ', z)\n",
        "print('p-value: ', p_value)\n"
      ]
    },
    {
      "cell_type": "markdown",
      "metadata": {
        "id": "Xlied5uG5XYX"
      },
      "source": [
        "# T-test\n",
        "\n",
        "El t-test es una relajación del supuesto de varianza conocida del z-test. En particular se utiliza la varianza de la muestra para realizar los cálculos. Así, los supuestos que se tienen son:\n",
        "- Independencia de muestras\n",
        "- (casi)Normalidad de los datos. N puede ser < 30.\n",
        "\n",
        "---\n",
        "Documentación:\n",
        "https://docs.scipy.org/doc/scipy/reference/generated/scipy.stats.ttest_ind.html#scipy.stats.ttest_ind\n",
        "https://docs.scipy.org/doc/scipy/reference/generated/scipy.stats.ttest_1samp.html#scipy.stats.ttest_1samp\n"
      ]
    },
    {
      "cell_type": "code",
      "execution_count": 3,
      "metadata": {
        "colab": {
          "base_uri": "https://localhost:8080/"
        },
        "id": "YQ3eO3Bb1oKv",
        "outputId": "21152cb6-2d1f-4a20-b6fa-45b6a53a5596"
      },
      "outputs": [
        {
          "name": "stdout",
          "output_type": "stream",
          "text": [
            "t-crítico: -2.93\n",
            "p-value: 4.30e-03\n",
            "Grados de libertas92.53\n",
            "Intervalo de confianza: [-9.87, -1.89]\n"
          ]
        }
      ],
      "source": [
        "\n",
        "\n",
        "np.random.seed(42)\n",
        "dato1 = np.random.normal(\n",
        "    loc = 10,\n",
        "    scale = 12,\n",
        "    size = 50)\n",
        "dato2 = np.random.normal(\n",
        "    loc = 13,\n",
        "    scale = 10,\n",
        "    size = 50\n",
        ")\n",
        "# En este caso se utiliza ttest_ind de scipy\n",
        "ttest = st.ttest_ind(dato1, dato2,\n",
        "                     equal_var = False,# asumimos que las varianzas no son iguales\n",
        "                     alternative = 'two-sided' # µ1 ≠ µ2\n",
        "                     )\n",
        "print(f't-crítico: { ttest[0]:.2f}')\n",
        "print(f'p-value: { ttest[1]:.2e}')\n",
        "print(f'Grados de libertas{ ttest.df:.2f}')\n",
        "### Y también podemos obtener los intervalos de confianza.\n",
        "\n",
        "ci_95 = ttest.confidence_interval(0.95)\n",
        "print(f'Intervalo de confianza: [{ci_95[0]:.2f}, {ci_95[1]:.2f}]' ) # Notar que es un intervalo de confianza para la diferencia"
      ]
    },
    {
      "cell_type": "markdown",
      "metadata": {
        "id": "7eYsuvYi8HWO"
      },
      "source": [
        "## T-test pareado\n",
        "\n",
        "El t-test puede también aplicarse a casos donde ambas muestras no necesariamente son independientes. Es decir, sirven para comparar poblaciones que pueden estar relacionadas, o los datos fueron tomados en pares. En estos casos, por lo general los datos están correlacionados, por lo cual no existe independencia entre ellos.\n",
        "Entonces, en este test, solamente asumimos:\n",
        "- Datos (casi)Normales\n",
        "---\n",
        "\n",
        "https://docs.scipy.org/doc/scipy/reference/generated/scipy.stats.ttest_rel.html"
      ]
    },
    {
      "cell_type": "code",
      "execution_count": 4,
      "metadata": {
        "colab": {
          "base_uri": "https://localhost:8080/"
        },
        "id": "3qo61WU981oq",
        "outputId": "ee026b2c-2fb9-4e0f-e3e8-14140176d4be"
      },
      "outputs": [
        {
          "name": "stdout",
          "output_type": "stream",
          "text": [
            "t-crítico: -1.60\n",
            "p-value: 1.16e-01\n",
            "Grados de libertad: 49.00\n",
            "Intervalo de confianza: [-2.23, 0.25]\n"
          ]
        }
      ],
      "source": [
        "np.random.seed(42)\n",
        "dato1 = np.random.normal(loc = 3, scale = 2, size = 50)\n",
        "dato2 = dato1 +  np.random.normal(loc = 0.9, scale = 5, size = 50)\n",
        "\n",
        "rel_ttest = st.ttest_rel(dato1, dato2, alternative = 'two-sided')\n",
        "print(f't-crítico: { rel_ttest[0]:.2f}')\n",
        "print(f'p-value: { rel_ttest[1]:.2e}')\n",
        "print(f'Grados de libertad: { rel_ttest.df:.2f}')\n",
        "\n",
        "# intervalos de confianza\n",
        "ci_95 = rel_ttest.confidence_interval(0.95)\n",
        "print(f'Intervalo de confianza: [{ci_95[0]:.2f}, {ci_95[1]:.2f}]' )\n"
      ]
    },
    {
      "cell_type": "markdown",
      "metadata": {
        "id": "BruUgcgPOe0_"
      },
      "source": [
        "# propTest\n",
        "Los test de proporción se basan en realizar test sobre la proporción o porcentaje de ciertas variables. Este tipo de tests son adaptaciones de los z-test y t-test para variables binarias. Debido a que hay una carencía en la documentación de python sobre estos test se genero el método PropTest2Samp para dos muestras.\n",
        "\n",
        "Este test se basa en la aproximación de una distribución\n",
        "Binomial a una Normal.\n",
        "\n",
        "En estos casos es más sencillo aplicar los test t-test y z-test -teniendo precausión en los supuestos. Recordando que:\n",
        "\n",
        "$$\n",
        "E[X] = \\sum_{i=1}^n \\frac{x_i}{n}\n",
        "$$\n",
        "Y si $X\\sim Ber(p)$\n",
        "$$\n",
        "E[X] = \\sum_{i=1}^n \\frac{x_i}{n} = \\frac{1}{n}\\sum_{i=1}^n \\mathbf{1}_{x_i = 1} = p\n",
        "$$\n",
        "Así, el promedio de una variable binaría equivale a su propoción o \"probabilidad\"."
      ]
    },
    {
      "cell_type": "code",
      "execution_count": 40,
      "metadata": {
        "colab": {
          "base_uri": "https://localhost:8080/",
          "height": 430
        },
        "id": "n6vXycMN9gMr",
        "outputId": "8fb67f02-e5cb-40e1-a353-08f7d9e12c05"
      },
      "outputs": [
        {
          "data": {
            "image/png": "[encoded data removed]",
            "text/plain": [
              "<Figure size 640x480 with 1 Axes>"
            ]
          },
          "metadata": {},
          "output_type": "display_data"
        }
      ],
      "source": [
        "np.random.seed(42)\n",
        "dato_1 = np.random.binomial(n = 1, p = 0.45, size = 50)\n",
        "dato_2 = np.random.binomial(n = 1, p = 0.6, size = 50)\n",
        "### Exploramos\n",
        "fig, ax = plt.subplots()\n",
        "ax.hist(dato_1, bins = 20, alpha = 0.5, label = 'dato1')\n",
        "ax.hist(dato_2, bins = 20, alpha = 0.5, label = 'dato2')\n",
        "ax.axvline(np.mean(dato_1), color = 'red', label = 'media1')\n",
        "ax.axvline(np.mean(dato_2), color = 'blue', label = 'media2')\n",
        "ax.legend()\n",
        "plt.show()"
      ]
    },
    {
      "cell_type": "code",
      "execution_count": null,
      "metadata": {},
      "outputs": [
        {
          "name": "stdout",
          "output_type": "stream",
          "text": [
            "p-value: 6.49e-02\n"
          ]
        }
      ],
      "source": [
        "# Para casos de test de una muestra\n",
        "\n",
        "# H0: p = 0.5\n",
        "# H1: p != 0.5\n",
        "positivos = np.sum(dato_1)\n",
        "n = len(dato_1)\n",
        "p = 0.5\n",
        "# p-value\n",
        "binom = st.binomtest(positivos, n, p = p, alternative = 'two-sided')\n",
        "print(f'p-value: { binom.pvalue:.2e}')\n",
        "\n"
      ]
    },
    {
      "cell_type": "code",
      "execution_count": 75,
      "metadata": {
        "colab": {
          "base_uri": "https://localhost:8080/"
        },
        "id": "TeSjS1zPSTWp",
        "outputId": "69a21760-ae01-4a91-e25b-257c64f0ae0e"
      },
      "outputs": [
        {
          "name": "stdout",
          "output_type": "stream",
          "text": [
            "z-crítico: 1.34\n",
            "p-value: 0.18\n",
            "z-crítico: 0.50\n",
            "p-value: 0.62\n",
            "0.11764705882352941 0.09411764705882353\n"
          ]
        }
      ],
      "source": [
        "class PropTest2Samp:\n",
        "    '''\n",
        "    Prueba de hipótesis para dos proporciones. Basado en la aproximación normal de una binomial.\n",
        "    ---\n",
        "    Parámetros:\n",
        "        dato1 : array_like\n",
        "            Primera muestra de datos.\n",
        "        dato2 : array_like\n",
        "            Segunda muestra de datos.\n",
        "        alpha : float, optional\n",
        "            Nivel de significancia para el test. Por defecto es 0.05.\n",
        "        alternative : str, optional\n",
        "            Tipo de test de hipótesis a realizar. Puede ser 'two-sided', 'larger' o 'smaller'.\n",
        "            Por defecto es 'two-sided'.\n",
        "    ---\n",
        "    Retorna:\n",
        "    Por medio de los atributos de la clase\n",
        "        z : float\n",
        "            Valor del estadístico z.\n",
        "        p_value : float\n",
        "            Valor p del test.\n",
        "    ---\n",
        "    Métodos:\n",
        "        gen_counts() : None\n",
        "            Genera los conteos y proporciones de las muestras.\n",
        "        proptest2s() : None\n",
        "            Realiza la prueba de hipótesis para dos proporciones.\n",
        "        confidence_interval(conf = 0.95) : tuple\n",
        "            Calcula el intervalo de confianza para la diferencia de proporciones.\n",
        "        beta() : float\n",
        "            Calcula el valor beta (1 - poder estadístico) del test.\n",
        "    ---\n",
        "    Ejemplo:\n",
        "    >>> count = np.array([27, 19])\n",
        "    >>> nobs = np.array([100, 100])\n",
        "    >>> # paramos a datos\n",
        "    >>> dato1 = [1] * count[0] + [0] * (nobs[0] - count[0])\n",
        "    >>> dato2 = [1] * count[1] + [0] * (nobs[1] - count[1])\n",
        "    >>> proptest = PropTest2Samp(dato1, dato2, alpha = 0.05, alternative = 'two-sided')\n",
        "    >>> print(f'z-crítico: { proptest.z:.2f}')\n",
        "    >>> print(f'p-value: { proptest.p_value:.2f}')\n",
        "    '''\n",
        "    def __init__(self, dato1, dato2 = None, alpha = 0.05, alternative = 'two-sided'):\n",
        "        self._dato1 = dato1\n",
        "        self._dato2 = dato2\n",
        "        self._alpha = alpha\n",
        "        self._alternative = alternative\n",
        "        self.gen_counts()\n",
        "        self.proptest2s()\n",
        "    def gen_counts(self):\n",
        "        '''\n",
        "        Función que genera los conteos y proporciones de las muestras.\n",
        "        '''\n",
        "        self._pos1 = np.sum(self._dato1)\n",
        "        self._pos2 = np.sum(self._dato2)\n",
        "        self._n1 = len(self._dato1)\n",
        "        self._n2 = len(self._dato2)\n",
        "        self._p1 = self._pos1/self._n1\n",
        "        self._p2 = self._pos2/self._n2\n",
        "        self._p =( self._pos1 + self._pos2 ) / (self._n1 + self._n2)\n",
        "    def proptest2s(self):\n",
        "        '''\n",
        "        Función que realiza la prueba de hipótesis para dos proporciones.\n",
        "        Se basa en la aproximación normal de una binomial.\n",
        "        '''\n",
        "        # calculamos el estadístico z\n",
        "        self.z = (self._p1 - self._p2) / np.sqrt(self._p * (1 - self._p) * (1/self._n1 + 1/self._n2))\n",
        "        # calculamos el valor p dependiendo del tipo de prueba\n",
        "        # de hipótesis\n",
        "        \n",
        "        # dos colas\n",
        "        if self._alternative == 'two-sided':\n",
        "            self.p_value = 2 * (1 - st.norm.cdf(np.abs(self.z)))\n",
        "        # una cola >\n",
        "        elif self._alternative == 'larger':\n",
        "            self.p_value = 1 - st.norm.cdf(self.z)\n",
        "        # una cola <\n",
        "        elif self._alternative == 'smaller':\n",
        "            self.p_value = st.norm.cdf(self.z)\n",
        "        else:\n",
        "            raise ValueError(\"El valor de 'alternative' debe ser 'two-sided', 'larger' o 'smaller'.\")\n",
        "        \n",
        "        # no retornamos nada, los resultados se guardan en los atributos de la clase\n",
        "        # self.p_value = p_value\n",
        "        # self.z = z\n",
        "    def confidence_interval(self, conf = 0.95):\n",
        "        '''\n",
        "        Función que calcula el intervalo de confianza para la diferencia de proporciones.\n",
        "        ---\n",
        "        Parámetros:\n",
        "            conf : float, optional\n",
        "                Nivel de confianza para el intervalo. Por defecto es 0.95.\n",
        "        ---\n",
        "        Retorna:\n",
        "            lower_bound : float\n",
        "                Límite inferior del intervalo de confianza.\n",
        "            upper_bound : float\n",
        "                Límite superior del intervalo de confianza.\n",
        "        '''\n",
        "        alpha = 1 - conf # calculamos el nivel de significancia\n",
        "        z_alpha2 = st.norm.ppf(1 - alpha/2) # z crítico para dos colas\n",
        "        sigma_p1_p2 = np.sqrt(\n",
        "            ((self._p1 * (1-self._p1)) / (self._n1)) + ((self._p2 * (1 - self._p2))/(self._n2)) # varianza\n",
        "        )\n",
        "        diff = self._p1 - self._p2 \n",
        "        lower_bound = diff - z_alpha2 * sigma_p1_p2\n",
        "        upper_bound = diff + z_alpha2 * sigma_p1_p2\n",
        "        return lower_bound, upper_bound\n",
        "    def beta(self, alpha): \n",
        "        '''\n",
        "        Función que calcula el valor beta (1 - poder estadístico) del test.\n",
        "        ---\n",
        "        Retorna:\n",
        "            beta : float\n",
        "                Valor beta del test.\n",
        "        '''\n",
        "        phat = ( self._n1 * self._p1 + self._n2 * self._p2 )/(self._n1 + self._n2)\n",
        "        qhat = ( self._n1 * (1 - self._p1) + self._n2 * (1 - self._p2) ) / (self._n1 + self._n2)\n",
        "        sigma_p1_p2 = np.sqrt(\n",
        "            ((self._p1 * (1-self._p1)) / (self._n1)) + ((self._p2 * (1 - self._p2))/(self._n2))\n",
        "        )\n",
        "        if self._alternative == 'two-sided':\n",
        "            \n",
        "            z_alpha2 = st.norm.ppf(1 - alpha/2)\n",
        "            numerator = z_alpha2 * np.sqrt(\n",
        "                (phat * qhat) * (1/self._n1 + 1/self._n2)\n",
        "            ) - (self._p1 - self._p2)\n",
        "            beta = st.norm.cdf(numerator/sigma_p1_p2) + st.norm.cdf(-numerator/sigma_p1_p2)\n",
        "        elif self._alternative == 'larger':\n",
        "            z_alpha = st.norm.ppf(1 - alpha)\n",
        "            numerator = z_alpha * np.sqrt(\n",
        "                (phat * qhat) * (1/self._n1 + 1/self._n2)\n",
        "            ) - (self._p1 - self._p2)\n",
        "            beta = st.norm.cdf(numerator/sigma_p1_p2)\n",
        "        elif self._alternative == 'smaller':\n",
        "            z_alpha = st.norm.ppf(alpha)\n",
        "            numerator = z_alpha * np.sqrt(\n",
        "                (phat * qhat) * (1/self._n1 + 1/self._n2)\n",
        "            ) - (self._p1 - self._p2)\n",
        "            beta = st.norm.cdf(-numerator/sigma_p1_p2)\n",
        "        else:\n",
        "            raise ValueError(\"El valor de 'alternative' debe ser 'two-sided', 'larger' o 'smaller'.\")\n",
        "        return beta\n",
        "\n",
        "    def samplesize(self, beta, alpha):\n",
        "        '''\n",
        "        Función que calcula el tamaño de muestra necesario para alcanzar un poder estadístico deseado. \n",
        "        Y la hipótesis alternativa realizada.\n",
        "        ---\n",
        "        Parámetros:\n",
        "            beta : float\n",
        "                Valor beta (1 - poder estadístico) deseado.\n",
        "            alpha : float\n",
        "                Nivel de significancia deseado.\n",
        "        ---\n",
        "        Retorna:\n",
        "            n : int\n",
        "                Tamaño de muestra necesario.\n",
        "        '''\n",
        "        q1 = 1 - self._p1\n",
        "        q2 = 1 - self._p2\n",
        "        z_beta = st.norm.ppf(1 - beta)\n",
        "        den = (self._p1 - self._p2) ** 2\n",
        "        num_1 = np.sqrt(\n",
        "            (self._p1 + self._p2)*(q1+q2) * 1/2\n",
        "        )\n",
        "        num2 = np.sqrt(\n",
        "            (self._p1 * q1)  + (self._p2 * q2) \n",
        "        )\n",
        "        \n",
        "        if self._alternative == 'two-sided':\n",
        "            z_alpha = st.norm.ppf(1 - alpha/2)\n",
        "        elif self._alternative == 'larger':\n",
        "            z_alpha = st.norm.ppf(1 - alpha)\n",
        "        elif self._alternative == 'smaller':\n",
        "            z_alpha = st.norm.ppf(alpha)\n",
        "        else:\n",
        "            raise ValueError(\"El valor de 'alternative' debe ser 'two-sided', 'larger' o 'smaller'.\")\n",
        "        n = ((z_alpha*num_1 + z_beta*num2) ** 2) / den\n",
        "        n = np.ceil(n)\n",
        "        n = int(n)\n",
        "        if n < 0:\n",
        "            raise ValueError(\"El tamaño de muestra no puede ser negativo.\")\n",
        "        return n\n",
        "        \n",
        "### Ejemplo de uso\n",
        "# datos\n",
        "count = np.array([27, 19])\n",
        "nobs = np.array([100, 100])\n",
        "# paramos a datos\n",
        "dato1 = [1] * count[0] + [0] * (nobs[0] - count[0])\n",
        "dato2 = [1] * count[1] + [0] * (nobs[1] - count[1])\n",
        "\n",
        "# realizamos la prueba de hipótesis\n",
        "proptest = PropTest2Samp(dato1, dato2, alpha = 0.05, alternative = 'two-sided')\n",
        "print(f'z-crítico: { proptest.z:.2f}')\n",
        "print(f'p-value: { proptest.p_value:.2f}')\n",
        "\n",
        "### calculamos el intervalo de confianza\n",
        "\n",
        "count_2 = np.array([10, 8])\n",
        "nobs_2 = np.array([85, 85])\n",
        "dato1_2 = [1] * count_2[0] + [0] * (nobs_2[0] - count_2[0])\n",
        "dato2_2 = [1] * count_2[1] + [0] * (nobs_2[1] - count_2[1])\n",
        "\n",
        "proptest = PropTest2Samp(dato1_2, dato2_2, alpha = 0.05, alternative = 'two-sided')\n",
        "print(f'z-crítico: { proptest.z:.2f}')\n",
        "print(f'p-value: { proptest.p_value:.2f}')\n",
        "print(proptest._p1, proptest._p2)\n"
      ]
    },
    {
      "cell_type": "markdown",
      "metadata": {
        "id": "UfDib_FleXP1"
      },
      "source": [
        "# Tests No paramétricos\n",
        "Los test no paramétricos son útiles para distribuciones que escapan de una distribución normal. Así, podemos relajar el supuesto de normalidad de los datos. La desventaja de dichos test es que son de bajo poder comparado a los demás test paramétricos."
      ]
    },
    {
      "cell_type": "markdown",
      "metadata": {
        "id": "QiP8kZ78qGmx"
      },
      "source": [
        "## Sign Test\n",
        "Fuente: https://www.geeksforgeeks.org/sign-test-in-r/"
      ]
    },
    {
      "cell_type": "code",
      "execution_count": 7,
      "metadata": {
        "colab": {
          "base_uri": "https://localhost:8080/",
          "height": 1000
        },
        "id": "PBNt9Z7NeUNf",
        "outputId": "440feda9-3c4e-476e-efca-4353105916b4"
      },
      "outputs": [
        {
          "data": {
            "image/png": "[encoded data removed]",
            "text/plain": [
              "<Figure size 640x480 with 1 Axes>"
            ]
          },
          "metadata": {},
          "output_type": "display_data"
        },
        {
          "data": {
            "image/png": "[encoded data removed]",
            "text/plain": [
              "<Figure size 640x480 with 1 Axes>"
            ]
          },
          "metadata": {},
          "output_type": "display_data"
        },
        {
          "data": {
            "image/png": "[encoded data removed]",
            "text/plain": [
              "<Figure size 640x480 with 1 Axes>"
            ]
          },
          "metadata": {},
          "output_type": "display_data"
        }
      ],
      "source": [
        "\n",
        "dato1 = np.random.laplace(size = 50)\n",
        "dato2 = np.random.lognormal(size = 50)\n",
        "\n",
        "\n",
        "fig, ax = plt.subplots()\n",
        "ax.hist(dato1, bins = 20, alpha = 0.5, label = 'dato1')\n",
        "ax.axvline(np.mean(dato1), color = 'red', label = 'media1')\n",
        "ax.hist(dato2, bins = 20, alpha = 0.5, label = 'dato2')\n",
        "ax.axvline(np.mean(dato2), color = 'blue', label = 'media2')\n",
        "ax.legend()\n",
        "plt.show()\n",
        "st.probplot(dato1, plot = plt)\n",
        "plt.show()\n",
        "st.probplot(dato2, plot = plt)\n",
        "plt.show()\n"
      ]
    },
    {
      "cell_type": "code",
      "execution_count": 8,
      "metadata": {
        "colab": {
          "base_uri": "https://localhost:8080/"
        },
        "id": "1oYkZPBUeoNG",
        "outputId": "3d967ac0-ae75-4f08-feda-5d5592406aa8"
      },
      "outputs": [
        {
          "name": "stdout",
          "output_type": "stream",
          "text": [
            "p-value: 3.24e-08\n",
            "statistic: 0.12\n"
          ]
        }
      ],
      "source": [
        "# signed test\n",
        "# En este caso utilizamos un test binomial para aproximar\n",
        "\n",
        "def sign_test(data, mu0=0, alternative='two-sided'):\n",
        "    # positivos\n",
        "    pos = np.sum(data > mu0)\n",
        "    # negativos\n",
        "    neg = np.sum(data < mu0)\n",
        "    n = pos + neg\n",
        "    if n == 0: # empates\n",
        "        return 1.0\n",
        "\n",
        "    # binom test\n",
        "    signed = st.binomtest(pos, n, p=0.5, alternative=alternative)\n",
        "\n",
        "    return signed\n",
        "\n",
        "# este test es de una muestra así que se trata como es\n",
        "sign_test = sign_test(dato1, mu0=np.mean(dato2), alternative='two-sided')\n",
        "print(f'p-value: { sign_test.pvalue:.2e}')\n",
        "print(f'statistic: { sign_test.statistic}')\n"
      ]
    },
    {
      "cell_type": "markdown",
      "metadata": {
        "id": "chFErLgOqF-m"
      },
      "source": [
        "## Wilcoxon Signed-Rank test\n",
        "\n",
        "Este tipo de test se utiliza para comparar dos muestras de datos simétricas. Y permite corroborar si dos datos provienen de una misma distribución al comparar la diferencia de estos.\n",
        "\n",
        "Al tratarse sobre distribuciones paramétricas, la hipótesis nula se realiza sobre la media.\n",
        "---\n",
        "https://docs.scipy.org/doc/scipy/reference/generated/scipy.stats.wilcoxon.html"
      ]
    },
    {
      "cell_type": "code",
      "execution_count": 9,
      "metadata": {
        "colab": {
          "base_uri": "https://localhost:8080/"
        },
        "id": "tEvHarWVnxfZ",
        "outputId": "d2e54a25-d409-4d4a-d65d-96daf0c542fd"
      },
      "outputs": [
        {
          "name": "stdout",
          "output_type": "stream",
          "text": [
            "p-value: 3.04e-07\n",
            "statistic: 146.0\n"
          ]
        }
      ],
      "source": [
        "# diferencia\n",
        "wil = st.wilcoxon(dato1, dato2, alternative='two-sided')\n",
        "print(f'p-value: { wil.pvalue:.2e}')\n",
        "print(f'statistic: { wil.statistic}')"
      ]
    },
    {
      "cell_type": "markdown",
      "metadata": {
        "id": "ei9xb8hAq4rE"
      },
      "source": [
        "## Mann-Whitney U test\n",
        "\n",
        "Este test se utiliza como una extensión del *Sign Test* debido a que permite comparar dos muestras desde su localización, la cual no necesariamente es la media. Así, existe una manera de utilizarlo para distribuciones no necesariamente simétricas.\n",
        "\n",
        "---\n",
        "https://docs.scipy.org/doc/scipy/reference/generated/scipy.stats.mannwhitneyu.html#scipy.stats.mannwhitneyu"
      ]
    },
    {
      "cell_type": "code",
      "execution_count": 10,
      "metadata": {
        "id": "5HcKY5MWqwjm"
      },
      "outputs": [
        {
          "name": "stdout",
          "output_type": "stream",
          "text": [
            "p-value: 5.89e-08\n",
            "statistic: 463.0\n"
          ]
        }
      ],
      "source": [
        "mannU = st.mannwhitneyu(dato1, dato2, alternative='two-sided')\n",
        "print(f'p-value: { mannU.pvalue:.2e}')\n",
        "print(f'statistic: { mannU.statistic}')"
      ]
    }
  ],
  "metadata": {
    "colab": {
      "provenance": [],
      "toc_visible": true
    },
    "kernelspec": {
      "display_name": "Python 3",
      "name": "python3"
    },
    "language_info": {
      "codemirror_mode": {
        "name": "ipython",
        "version": 3
      },
      "file_extension": ".py",
      "mimetype": "text/x-python",
      "name": "python",
      "nbconvert_exporter": "python",
      "pygments_lexer": "ipython3",
      "version": "3.9.19"
    }
  },
  "nbformat": 4,
  "nbformat_minor": 0
}
