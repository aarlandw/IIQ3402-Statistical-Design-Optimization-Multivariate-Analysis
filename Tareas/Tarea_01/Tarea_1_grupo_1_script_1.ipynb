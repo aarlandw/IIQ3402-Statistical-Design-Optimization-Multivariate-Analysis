{
 "cells": [
  {
   "cell_type": "markdown",
   "id": "26d356a9",
   "metadata": {},
   "source": [
    "# IIQ3402 - Tarea 1 \n",
    "This task entails the Exploratory Data Analysis (EDA) of a dataset containing information whether individuals could smell certain smells, and comorbitities such as fever, coughing, muscle pain, and more. At last it contains a column with the result of a PCR test for that individual."
   ]
  },
  {
   "cell_type": "code",
   "execution_count": 1,
   "id": "ba2498de",
   "metadata": {},
   "outputs": [],
   "source": [
    "import polars as pl\n",
    "import numpy as np\n",
    "import plotly.express as px\n",
    "from sklearn import linear_model"
   ]
  },
  {
   "cell_type": "code",
   "execution_count": 2,
   "id": "ea078098",
   "metadata": {},
   "outputs": [
    {
     "data": {
      "text/html": [
       "<div><style>\n",
       ".dataframe > thead > tr,\n",
       ".dataframe > tbody > tr {\n",
       "  text-align: right;\n",
       "  white-space: pre-wrap;\n",
       "}\n",
       "</style>\n",
       "<small>shape: (926, 14)</small><table border=\"1\" class=\"dataframe\"><thead><tr><th>Banana</th><th>Caramel</th><th>Mint</th><th>Orange</th><th>Pineapple</th><th>Vanilla</th><th>Cold</th><th>Cough</th><th>Fever</th><th>Muscular Pain</th><th>Breathing difficulty</th><th>Self-reported anosmia</th><th>Self-reported ageusia</th><th>COVID19 PCR Result</th></tr><tr><td>i64</td><td>i64</td><td>i64</td><td>i64</td><td>i64</td><td>i64</td><td>i64</td><td>i64</td><td>i64</td><td>i64</td><td>i64</td><td>i64</td><td>i64</td><td>i64</td></tr></thead><tbody><tr><td>0</td><td>0</td><td>1</td><td>0</td><td>1</td><td>1</td><td>1</td><td>0</td><td>0</td><td>0</td><td>0</td><td>1</td><td>0</td><td>1</td></tr><tr><td>0</td><td>1</td><td>1</td><td>1</td><td>0</td><td>1</td><td>0</td><td>1</td><td>0</td><td>1</td><td>0</td><td>0</td><td>0</td><td>1</td></tr><tr><td>0</td><td>1</td><td>1</td><td>0</td><td>1</td><td>1</td><td>1</td><td>0</td><td>0</td><td>1</td><td>0</td><td>0</td><td>0</td><td>1</td></tr><tr><td>0</td><td>0</td><td>1</td><td>1</td><td>0</td><td>1</td><td>1</td><td>1</td><td>1</td><td>1</td><td>0</td><td>0</td><td>0</td><td>1</td></tr><tr><td>0</td><td>1</td><td>1</td><td>0</td><td>0</td><td>1</td><td>1</td><td>1</td><td>1</td><td>0</td><td>0</td><td>0</td><td>0</td><td>1</td></tr><tr><td>&hellip;</td><td>&hellip;</td><td>&hellip;</td><td>&hellip;</td><td>&hellip;</td><td>&hellip;</td><td>&hellip;</td><td>&hellip;</td><td>&hellip;</td><td>&hellip;</td><td>&hellip;</td><td>&hellip;</td><td>&hellip;</td><td>&hellip;</td></tr><tr><td>1</td><td>1</td><td>1</td><td>1</td><td>1</td><td>1</td><td>0</td><td>0</td><td>0</td><td>0</td><td>0</td><td>0</td><td>0</td><td>0</td></tr><tr><td>1</td><td>1</td><td>1</td><td>1</td><td>1</td><td>0</td><td>0</td><td>1</td><td>0</td><td>1</td><td>0</td><td>0</td><td>0</td><td>0</td></tr><tr><td>1</td><td>1</td><td>1</td><td>1</td><td>1</td><td>0</td><td>0</td><td>0</td><td>0</td><td>0</td><td>0</td><td>0</td><td>0</td><td>0</td></tr><tr><td>1</td><td>1</td><td>1</td><td>0</td><td>1</td><td>1</td><td>0</td><td>1</td><td>0</td><td>0</td><td>0</td><td>0</td><td>0</td><td>0</td></tr><tr><td>1</td><td>1</td><td>1</td><td>1</td><td>1</td><td>1</td><td>0</td><td>0</td><td>0</td><td>0</td><td>0</td><td>0</td><td>0</td><td>0</td></tr></tbody></table></div>"
      ],
      "text/plain": [
       "shape: (926, 14)\n",
       "┌────────┬─────────┬──────┬────────┬───┬──────────────┬──────────────┬──────────────┬──────────────┐\n",
       "│ Banana ┆ Caramel ┆ Mint ┆ Orange ┆ … ┆ Breathing    ┆ Self-reporte ┆ Self-reporte ┆ COVID19 PCR  │\n",
       "│ ---    ┆ ---     ┆ ---  ┆ ---    ┆   ┆ difficulty   ┆ d anosmia    ┆ d ageusia    ┆ Result       │\n",
       "│ i64    ┆ i64     ┆ i64  ┆ i64    ┆   ┆ ---          ┆ ---          ┆ ---          ┆ ---          │\n",
       "│        ┆         ┆      ┆        ┆   ┆ i64          ┆ i64          ┆ i64          ┆ i64          │\n",
       "╞════════╪═════════╪══════╪════════╪═══╪══════════════╪══════════════╪══════════════╪══════════════╡\n",
       "│ 0      ┆ 0       ┆ 1    ┆ 0      ┆ … ┆ 0            ┆ 1            ┆ 0            ┆ 1            │\n",
       "│ 0      ┆ 1       ┆ 1    ┆ 1      ┆ … ┆ 0            ┆ 0            ┆ 0            ┆ 1            │\n",
       "│ 0      ┆ 1       ┆ 1    ┆ 0      ┆ … ┆ 0            ┆ 0            ┆ 0            ┆ 1            │\n",
       "│ 0      ┆ 0       ┆ 1    ┆ 1      ┆ … ┆ 0            ┆ 0            ┆ 0            ┆ 1            │\n",
       "│ 0      ┆ 1       ┆ 1    ┆ 0      ┆ … ┆ 0            ┆ 0            ┆ 0            ┆ 1            │\n",
       "│ …      ┆ …       ┆ …    ┆ …      ┆ … ┆ …            ┆ …            ┆ …            ┆ …            │\n",
       "│ 1      ┆ 1       ┆ 1    ┆ 1      ┆ … ┆ 0            ┆ 0            ┆ 0            ┆ 0            │\n",
       "│ 1      ┆ 1       ┆ 1    ┆ 1      ┆ … ┆ 0            ┆ 0            ┆ 0            ┆ 0            │\n",
       "│ 1      ┆ 1       ┆ 1    ┆ 1      ┆ … ┆ 0            ┆ 0            ┆ 0            ┆ 0            │\n",
       "│ 1      ┆ 1       ┆ 1    ┆ 0      ┆ … ┆ 0            ┆ 0            ┆ 0            ┆ 0            │\n",
       "│ 1      ┆ 1       ┆ 1    ┆ 1      ┆ … ┆ 0            ┆ 0            ┆ 0            ┆ 0            │\n",
       "└────────┴─────────┴──────┴────────┴───┴──────────────┴──────────────┴──────────────┴──────────────┘"
      ]
     },
     "execution_count": 2,
     "metadata": {},
     "output_type": "execute_result"
    }
   ],
   "source": [
    "df = pl.read_csv(\"Enunciado_Tarea1/datos_tarea1.csv\")\n",
    "df = df.rename(\n",
    "    {\n",
    "        \"1__Cold\": \"Cold\",\n",
    "        \"2__Cough\": \"Cough\",\n",
    "        \"3__Fever\": \"Fever\",\n",
    "        \"4__Muscular_pain\": \"Muscular Pain\",\n",
    "        \"5__Breathing_difficulty\": \"Breathing difficulty\",\n",
    "        \"6__Self_reported_anosmia\": \"Self-reported anosmia\",\n",
    "        \"7__Self_reported_ageusia\": \"Self-reported ageusia\",\n",
    "        \"COVID19_PCR\": \"COVID19 PCR Result\",\n",
    "    }\n",
    ")\n",
    "df"
   ]
  },
  {
   "cell_type": "code",
   "execution_count": 3,
   "id": "3d5dc1b0",
   "metadata": {},
   "outputs": [
    {
     "name": "stdout",
     "output_type": "stream",
     "text": [
      "Total number of positive PCR: 309\n",
      "Total number of negative PCR: 617\n"
     ]
    }
   ],
   "source": [
    "df_neg = df.filter(pl.col(\"COVID19 PCR Result\") == 0)\n",
    "df_pos = df.filter(pl.col(\"COVID19 PCR Result\") == 1)\n",
    "\n",
    "neg_pcr = df.filter(pl.col(\"COVID19 PCR Result\") == 0).shape[0]\n",
    "pos_pcr = df.filter(pl.col(\"COVID19 PCR Result\") == 1).shape[0]\n",
    "\n",
    "print(f\"Total number of positive PCR: {pos_pcr}\")\n",
    "print(f\"Total number of negative PCR: {neg_pcr}\")"
   ]
  },
  {
   "cell_type": "markdown",
   "id": "faddf402",
   "metadata": {},
   "source": [
    "## Hypothesis 1\n",
    "\n",
    "**Covid-positive individuals most frequently identify orange, pineapple and mint odors.**\n"
   ]
  },
  {
   "cell_type": "code",
   "execution_count": 4,
   "id": "a5595c54",
   "metadata": {},
   "outputs": [
    {
     "data": {
      "text/html": [
       "<div><style>\n",
       ".dataframe > thead > tr,\n",
       ".dataframe > tbody > tr {\n",
       "  text-align: right;\n",
       "  white-space: pre-wrap;\n",
       "}\n",
       "</style>\n",
       "<small>shape: (12, 4)</small><table border=\"1\" class=\"dataframe\"><thead><tr><th>Scent</th><th>Group</th><th>Count</th><th>Percentage</th></tr><tr><td>str</td><td>str</td><td>i64</td><td>f64</td></tr></thead><tbody><tr><td>&quot;Banana&quot;</td><td>&quot;PCR Positive&quot;</td><td>192</td><td>62.1</td></tr><tr><td>&quot;Banana&quot;</td><td>&quot;PCR Negative&quot;</td><td>514</td><td>83.3</td></tr><tr><td>&quot;Caramel&quot;</td><td>&quot;PCR Positive&quot;</td><td>229</td><td>74.1</td></tr><tr><td>&quot;Caramel&quot;</td><td>&quot;PCR Negative&quot;</td><td>523</td><td>84.8</td></tr><tr><td>&quot;Mint&quot;</td><td>&quot;PCR Positive&quot;</td><td>214</td><td>69.3</td></tr><tr><td>&hellip;</td><td>&hellip;</td><td>&hellip;</td><td>&hellip;</td></tr><tr><td>&quot;Orange&quot;</td><td>&quot;PCR Negative&quot;</td><td>488</td><td>79.1</td></tr><tr><td>&quot;Pineapple&quot;</td><td>&quot;PCR Positive&quot;</td><td>194</td><td>62.8</td></tr><tr><td>&quot;Pineapple&quot;</td><td>&quot;PCR Negative&quot;</td><td>544</td><td>88.2</td></tr><tr><td>&quot;Vanilla&quot;</td><td>&quot;PCR Positive&quot;</td><td>222</td><td>71.8</td></tr><tr><td>&quot;Vanilla&quot;</td><td>&quot;PCR Negative&quot;</td><td>548</td><td>88.8</td></tr></tbody></table></div>"
      ],
      "text/plain": [
       "shape: (12, 4)\n",
       "┌───────────┬──────────────┬───────┬────────────┐\n",
       "│ Scent     ┆ Group        ┆ Count ┆ Percentage │\n",
       "│ ---       ┆ ---          ┆ ---   ┆ ---        │\n",
       "│ str       ┆ str          ┆ i64   ┆ f64        │\n",
       "╞═══════════╪══════════════╪═══════╪════════════╡\n",
       "│ Banana    ┆ PCR Positive ┆ 192   ┆ 62.1       │\n",
       "│ Banana    ┆ PCR Negative ┆ 514   ┆ 83.3       │\n",
       "│ Caramel   ┆ PCR Positive ┆ 229   ┆ 74.1       │\n",
       "│ Caramel   ┆ PCR Negative ┆ 523   ┆ 84.8       │\n",
       "│ Mint      ┆ PCR Positive ┆ 214   ┆ 69.3       │\n",
       "│ …         ┆ …            ┆ …     ┆ …          │\n",
       "│ Orange    ┆ PCR Negative ┆ 488   ┆ 79.1       │\n",
       "│ Pineapple ┆ PCR Positive ┆ 194   ┆ 62.8       │\n",
       "│ Pineapple ┆ PCR Negative ┆ 544   ┆ 88.2       │\n",
       "│ Vanilla   ┆ PCR Positive ┆ 222   ┆ 71.8       │\n",
       "│ Vanilla   ┆ PCR Negative ┆ 548   ┆ 88.8       │\n",
       "└───────────┴──────────────┴───────┴────────────┘"
      ]
     },
     "execution_count": 4,
     "metadata": {},
     "output_type": "execute_result"
    }
   ],
   "source": [
    "scent_cols = [\"Banana\", \"Caramel\", \"Mint\", \"Orange\", \"Pineapple\", \"Vanilla\"]\n",
    "\n",
    "scent_data = {\n",
    "    \"Scent\": [],\n",
    "    \"Group\": [],\n",
    "    \"Count\": [],\n",
    "    \"Percentage\": [],\n",
    "}\n",
    "\n",
    "for i, scent in enumerate(scent_cols):\n",
    "    scent_data[\"Scent\"].append(scent)\n",
    "    scent_data[\"Group\"].append(\"PCR Positive\")\n",
    "    scent_data[\"Count\"].append(df_pos.filter(pl.col(scent) == 1).shape[0])\n",
    "    scent_data[\"Percentage\"].append(round(\n",
    "        100 * df_pos.filter(pl.col(scent) == 1).shape[0] / pos_pcr, 1\n",
    "    ))\n",
    "\n",
    "    scent_data[\"Scent\"].append(scent)\n",
    "    scent_data[\"Group\"].append(\"PCR Negative\")\n",
    "    scent_data[\"Count\"].append(df_neg.filter(pl.col(scent) == 1).shape[0])\n",
    "    scent_data[\"Percentage\"].append(round(\n",
    "        100 * df_neg.filter(pl.col(scent) == 1).shape[0] / neg_pcr, 1\n",
    "        ))\n",
    "\n",
    "scent_df = pl.from_dict(scent_data)\n",
    "scent_df"
   ]
  },
  {
   "cell_type": "code",
   "execution_count": 5,
   "id": "1ea5adc9",
   "metadata": {},
   "outputs": [
    {
     "data": {
      "application/vnd.plotly.v1+json": {
       "config": {
        "plotlyServerURL": "https://plot.ly"
       },
       "data": [
        {
         "alignmentgroup": "True",
         "hovertemplate": "Group=PCR Positive<br>Scent=%{x}<br>Count of Patients=%{text}<extra></extra>",
         "legendgroup": "PCR Positive",
         "marker": {
          "color": "#636efa",
          "pattern": {
           "shape": ""
          }
         },
         "name": "PCR Positive",
         "offsetgroup": "PCR Positive",
         "orientation": "v",
         "showlegend": true,
         "text": {
          "bdata": "AAAAAAAAaEAAAAAAAKBsQAAAAAAAwGpAAAAAAADAZUAAAAAAAEBoQAAAAAAAwGtA",
          "dtype": "f8"
         },
         "textposition": "auto",
         "type": "bar",
         "x": [
          "Banana",
          "Caramel",
          "Mint",
          "Orange",
          "Pineapple",
          "Vanilla"
         ],
         "xaxis": "x",
         "y": {
          "bdata": "wADlANYArgDCAN4A",
          "dtype": "i2"
         },
         "yaxis": "y"
        },
        {
         "alignmentgroup": "True",
         "hovertemplate": "Group=PCR Negative<br>Scent=%{x}<br>Count of Patients=%{text}<extra></extra>",
         "legendgroup": "PCR Negative",
         "marker": {
          "color": "#EF553B",
          "pattern": {
           "shape": ""
          }
         },
         "name": "PCR Negative",
         "offsetgroup": "PCR Negative",
         "orientation": "v",
         "showlegend": true,
         "text": {
          "bdata": "AAAAAAAQgEAAAAAAAFiAQAAAAAAA6IFAAAAAAACAfkAAAAAAAACBQAAAAAAAIIFA",
          "dtype": "f8"
         },
         "textposition": "auto",
         "type": "bar",
         "x": [
          "Banana",
          "Caramel",
          "Mint",
          "Orange",
          "Pineapple",
          "Vanilla"
         ],
         "xaxis": "x",
         "y": {
          "bdata": "AgILAj0C6AEgAiQC",
          "dtype": "i2"
         },
         "yaxis": "y"
        }
       ],
       "layout": {
        "barmode": "group",
        "legend": {
         "title": {
          "text": "Group"
         },
         "tracegroupgap": 0
        },
        "template": {
         "data": {
          "bar": [
           {
            "error_x": {
             "color": "#2a3f5f"
            },
            "error_y": {
             "color": "#2a3f5f"
            },
            "marker": {
             "line": {
              "color": "#E5ECF6",
              "width": 0.5
             },
             "pattern": {
              "fillmode": "overlay",
              "size": 10,
              "solidity": 0.2
             }
            },
            "type": "bar"
           }
          ],
          "barpolar": [
           {
            "marker": {
             "line": {
              "color": "#E5ECF6",
              "width": 0.5
             },
             "pattern": {
              "fillmode": "overlay",
              "size": 10,
              "solidity": 0.2
             }
            },
            "type": "barpolar"
           }
          ],
          "carpet": [
           {
            "aaxis": {
             "endlinecolor": "#2a3f5f",
             "gridcolor": "white",
             "linecolor": "white",
             "minorgridcolor": "white",
             "startlinecolor": "#2a3f5f"
            },
            "baxis": {
             "endlinecolor": "#2a3f5f",
             "gridcolor": "white",
             "linecolor": "white",
             "minorgridcolor": "white",
             "startlinecolor": "#2a3f5f"
            },
            "type": "carpet"
           }
          ],
          "choropleth": [
           {
            "colorbar": {
             "outlinewidth": 0,
             "ticks": ""
            },
            "type": "choropleth"
           }
          ],
          "contour": [
           {
            "colorbar": {
             "outlinewidth": 0,
             "ticks": ""
            },
            "colorscale": [
             [
              0,
              "#0d0887"
             ],
             [
              0.1111111111111111,
              "#46039f"
             ],
             [
              0.2222222222222222,
              "#7201a8"
             ],
             [
              0.3333333333333333,
              "#9c179e"
             ],
             [
              0.4444444444444444,
              "#bd3786"
             ],
             [
              0.5555555555555556,
              "#d8576b"
             ],
             [
              0.6666666666666666,
              "#ed7953"
             ],
             [
              0.7777777777777778,
              "#fb9f3a"
             ],
             [
              0.8888888888888888,
              "#fdca26"
             ],
             [
              1,
              "#f0f921"
             ]
            ],
            "type": "contour"
           }
          ],
          "contourcarpet": [
           {
            "colorbar": {
             "outlinewidth": 0,
             "ticks": ""
            },
            "type": "contourcarpet"
           }
          ],
          "heatmap": [
           {
            "colorbar": {
             "outlinewidth": 0,
             "ticks": ""
            },
            "colorscale": [
             [
              0,
              "#0d0887"
             ],
             [
              0.1111111111111111,
              "#46039f"
             ],
             [
              0.2222222222222222,
              "#7201a8"
             ],
             [
              0.3333333333333333,
              "#9c179e"
             ],
             [
              0.4444444444444444,
              "#bd3786"
             ],
             [
              0.5555555555555556,
              "#d8576b"
             ],
             [
              0.6666666666666666,
              "#ed7953"
             ],
             [
              0.7777777777777778,
              "#fb9f3a"
             ],
             [
              0.8888888888888888,
              "#fdca26"
             ],
             [
              1,
              "#f0f921"
             ]
            ],
            "type": "heatmap"
           }
          ],
          "histogram": [
           {
            "marker": {
             "pattern": {
              "fillmode": "overlay",
              "size": 10,
              "solidity": 0.2
             }
            },
            "type": "histogram"
           }
          ],
          "histogram2d": [
           {
            "colorbar": {
             "outlinewidth": 0,
             "ticks": ""
            },
            "colorscale": [
             [
              0,
              "#0d0887"
             ],
             [
              0.1111111111111111,
              "#46039f"
             ],
             [
              0.2222222222222222,
              "#7201a8"
             ],
             [
              0.3333333333333333,
              "#9c179e"
             ],
             [
              0.4444444444444444,
              "#bd3786"
             ],
             [
              0.5555555555555556,
              "#d8576b"
             ],
             [
              0.6666666666666666,
              "#ed7953"
             ],
             [
              0.7777777777777778,
              "#fb9f3a"
             ],
             [
              0.8888888888888888,
              "#fdca26"
             ],
             [
              1,
              "#f0f921"
             ]
            ],
            "type": "histogram2d"
           }
          ],
          "histogram2dcontour": [
           {
            "colorbar": {
             "outlinewidth": 0,
             "ticks": ""
            },
            "colorscale": [
             [
              0,
              "#0d0887"
             ],
             [
              0.1111111111111111,
              "#46039f"
             ],
             [
              0.2222222222222222,
              "#7201a8"
             ],
             [
              0.3333333333333333,
              "#9c179e"
             ],
             [
              0.4444444444444444,
              "#bd3786"
             ],
             [
              0.5555555555555556,
              "#d8576b"
             ],
             [
              0.6666666666666666,
              "#ed7953"
             ],
             [
              0.7777777777777778,
              "#fb9f3a"
             ],
             [
              0.8888888888888888,
              "#fdca26"
             ],
             [
              1,
              "#f0f921"
             ]
            ],
            "type": "histogram2dcontour"
           }
          ],
          "mesh3d": [
           {
            "colorbar": {
             "outlinewidth": 0,
             "ticks": ""
            },
            "type": "mesh3d"
           }
          ],
          "parcoords": [
           {
            "line": {
             "colorbar": {
              "outlinewidth": 0,
              "ticks": ""
             }
            },
            "type": "parcoords"
           }
          ],
          "pie": [
           {
            "automargin": true,
            "type": "pie"
           }
          ],
          "scatter": [
           {
            "fillpattern": {
             "fillmode": "overlay",
             "size": 10,
             "solidity": 0.2
            },
            "type": "scatter"
           }
          ],
          "scatter3d": [
           {
            "line": {
             "colorbar": {
              "outlinewidth": 0,
              "ticks": ""
             }
            },
            "marker": {
             "colorbar": {
              "outlinewidth": 0,
              "ticks": ""
             }
            },
            "type": "scatter3d"
           }
          ],
          "scattercarpet": [
           {
            "marker": {
             "colorbar": {
              "outlinewidth": 0,
              "ticks": ""
             }
            },
            "type": "scattercarpet"
           }
          ],
          "scattergeo": [
           {
            "marker": {
             "colorbar": {
              "outlinewidth": 0,
              "ticks": ""
             }
            },
            "type": "scattergeo"
           }
          ],
          "scattergl": [
           {
            "marker": {
             "colorbar": {
              "outlinewidth": 0,
              "ticks": ""
             }
            },
            "type": "scattergl"
           }
          ],
          "scattermap": [
           {
            "marker": {
             "colorbar": {
              "outlinewidth": 0,
              "ticks": ""
             }
            },
            "type": "scattermap"
           }
          ],
          "scattermapbox": [
           {
            "marker": {
             "colorbar": {
              "outlinewidth": 0,
              "ticks": ""
             }
            },
            "type": "scattermapbox"
           }
          ],
          "scatterpolar": [
           {
            "marker": {
             "colorbar": {
              "outlinewidth": 0,
              "ticks": ""
             }
            },
            "type": "scatterpolar"
           }
          ],
          "scatterpolargl": [
           {
            "marker": {
             "colorbar": {
              "outlinewidth": 0,
              "ticks": ""
             }
            },
            "type": "scatterpolargl"
           }
          ],
          "scatterternary": [
           {
            "marker": {
             "colorbar": {
              "outlinewidth": 0,
              "ticks": ""
             }
            },
            "type": "scatterternary"
           }
          ],
          "surface": [
           {
            "colorbar": {
             "outlinewidth": 0,
             "ticks": ""
            },
            "colorscale": [
             [
              0,
              "#0d0887"
             ],
             [
              0.1111111111111111,
              "#46039f"
             ],
             [
              0.2222222222222222,
              "#7201a8"
             ],
             [
              0.3333333333333333,
              "#9c179e"
             ],
             [
              0.4444444444444444,
              "#bd3786"
             ],
             [
              0.5555555555555556,
              "#d8576b"
             ],
             [
              0.6666666666666666,
              "#ed7953"
             ],
             [
              0.7777777777777778,
              "#fb9f3a"
             ],
             [
              0.8888888888888888,
              "#fdca26"
             ],
             [
              1,
              "#f0f921"
             ]
            ],
            "type": "surface"
           }
          ],
          "table": [
           {
            "cells": {
             "fill": {
              "color": "#EBF0F8"
             },
             "line": {
              "color": "white"
             }
            },
            "header": {
             "fill": {
              "color": "#C8D4E3"
             },
             "line": {
              "color": "white"
             }
            },
            "type": "table"
           }
          ]
         },
         "layout": {
          "annotationdefaults": {
           "arrowcolor": "#2a3f5f",
           "arrowhead": 0,
           "arrowwidth": 1
          },
          "autotypenumbers": "strict",
          "coloraxis": {
           "colorbar": {
            "outlinewidth": 0,
            "ticks": ""
           }
          },
          "colorscale": {
           "diverging": [
            [
             0,
             "#8e0152"
            ],
            [
             0.1,
             "#c51b7d"
            ],
            [
             0.2,
             "#de77ae"
            ],
            [
             0.3,
             "#f1b6da"
            ],
            [
             0.4,
             "#fde0ef"
            ],
            [
             0.5,
             "#f7f7f7"
            ],
            [
             0.6,
             "#e6f5d0"
            ],
            [
             0.7,
             "#b8e186"
            ],
            [
             0.8,
             "#7fbc41"
            ],
            [
             0.9,
             "#4d9221"
            ],
            [
             1,
             "#276419"
            ]
           ],
           "sequential": [
            [
             0,
             "#0d0887"
            ],
            [
             0.1111111111111111,
             "#46039f"
            ],
            [
             0.2222222222222222,
             "#7201a8"
            ],
            [
             0.3333333333333333,
             "#9c179e"
            ],
            [
             0.4444444444444444,
             "#bd3786"
            ],
            [
             0.5555555555555556,
             "#d8576b"
            ],
            [
             0.6666666666666666,
             "#ed7953"
            ],
            [
             0.7777777777777778,
             "#fb9f3a"
            ],
            [
             0.8888888888888888,
             "#fdca26"
            ],
            [
             1,
             "#f0f921"
            ]
           ],
           "sequentialminus": [
            [
             0,
             "#0d0887"
            ],
            [
             0.1111111111111111,
             "#46039f"
            ],
            [
             0.2222222222222222,
             "#7201a8"
            ],
            [
             0.3333333333333333,
             "#9c179e"
            ],
            [
             0.4444444444444444,
             "#bd3786"
            ],
            [
             0.5555555555555556,
             "#d8576b"
            ],
            [
             0.6666666666666666,
             "#ed7953"
            ],
            [
             0.7777777777777778,
             "#fb9f3a"
            ],
            [
             0.8888888888888888,
             "#fdca26"
            ],
            [
             1,
             "#f0f921"
            ]
           ]
          },
          "colorway": [
           "#636efa",
           "#EF553B",
           "#00cc96",
           "#ab63fa",
           "#FFA15A",
           "#19d3f3",
           "#FF6692",
           "#B6E880",
           "#FF97FF",
           "#FECB52"
          ],
          "font": {
           "color": "#2a3f5f"
          },
          "geo": {
           "bgcolor": "white",
           "lakecolor": "white",
           "landcolor": "#E5ECF6",
           "showlakes": true,
           "showland": true,
           "subunitcolor": "white"
          },
          "hoverlabel": {
           "align": "left"
          },
          "hovermode": "closest",
          "mapbox": {
           "style": "light"
          },
          "paper_bgcolor": "white",
          "plot_bgcolor": "#E5ECF6",
          "polar": {
           "angularaxis": {
            "gridcolor": "white",
            "linecolor": "white",
            "ticks": ""
           },
           "bgcolor": "#E5ECF6",
           "radialaxis": {
            "gridcolor": "white",
            "linecolor": "white",
            "ticks": ""
           }
          },
          "scene": {
           "xaxis": {
            "backgroundcolor": "#E5ECF6",
            "gridcolor": "white",
            "gridwidth": 2,
            "linecolor": "white",
            "showbackground": true,
            "ticks": "",
            "zerolinecolor": "white"
           },
           "yaxis": {
            "backgroundcolor": "#E5ECF6",
            "gridcolor": "white",
            "gridwidth": 2,
            "linecolor": "white",
            "showbackground": true,
            "ticks": "",
            "zerolinecolor": "white"
           },
           "zaxis": {
            "backgroundcolor": "#E5ECF6",
            "gridcolor": "white",
            "gridwidth": 2,
            "linecolor": "white",
            "showbackground": true,
            "ticks": "",
            "zerolinecolor": "white"
           }
          },
          "shapedefaults": {
           "line": {
            "color": "#2a3f5f"
           }
          },
          "ternary": {
           "aaxis": {
            "gridcolor": "white",
            "linecolor": "white",
            "ticks": ""
           },
           "baxis": {
            "gridcolor": "white",
            "linecolor": "white",
            "ticks": ""
           },
           "bgcolor": "#E5ECF6",
           "caxis": {
            "gridcolor": "white",
            "linecolor": "white",
            "ticks": ""
           }
          },
          "title": {
           "x": 0.05
          },
          "xaxis": {
           "automargin": true,
           "gridcolor": "white",
           "linecolor": "white",
           "ticks": "",
           "title": {
            "standoff": 15
           },
           "zerolinecolor": "white",
           "zerolinewidth": 2
          },
          "yaxis": {
           "automargin": true,
           "gridcolor": "white",
           "linecolor": "white",
           "ticks": "",
           "title": {
            "standoff": 15
           },
           "zerolinecolor": "white",
           "zerolinewidth": 2
          }
         }
        },
        "title": {
         "text": "Scent Detection by PCR Result"
        },
        "xaxis": {
         "anchor": "y",
         "domain": [
          0,
          1
         ],
         "title": {
          "text": "Scent"
         }
        },
        "yaxis": {
         "anchor": "x",
         "domain": [
          0,
          1
         ],
         "title": {
          "text": "Count of Patients"
         }
        }
       }
      }
     },
     "metadata": {},
     "output_type": "display_data"
    }
   ],
   "source": [
    "fig = px.bar(\n",
    "    scent_df,\n",
    "    x=\"Scent\",\n",
    "    y=\"Count\",\n",
    "    color=\"Group\",\n",
    "    barmode=\"group\",\n",
    "    labels={\"Count\": \"Count of Patients\"},\n",
    "    title=\"Scent Detection by PCR Result\",\n",
    "    text=\"Count\",\n",
    ")\n",
    "fig.show()"
   ]
  },
  {
   "cell_type": "code",
   "execution_count": 6,
   "id": "a912c824",
   "metadata": {},
   "outputs": [
    {
     "data": {
      "application/vnd.plotly.v1+json": {
       "config": {
        "plotlyServerURL": "https://plot.ly"
       },
       "data": [
        {
         "alignmentgroup": "True",
         "hovertemplate": "Group=PCR Positive<br>Scent=%{x}<br>Percentage of Patients=%{text}<extra></extra>",
         "legendgroup": "PCR Positive",
         "marker": {
          "color": "#636efa",
          "pattern": {
           "shape": ""
          }
         },
         "name": "PCR Positive",
         "offsetgroup": "PCR Positive",
         "orientation": "v",
         "showlegend": true,
         "text": {
          "bdata": "zczMzMwMT0BmZmZmZoZSQDMzMzMzU1FAZmZmZmYmTEBmZmZmZmZPQDMzMzMz81FA",
          "dtype": "f8"
         },
         "textposition": "auto",
         "type": "bar",
         "x": [
          "Banana",
          "Caramel",
          "Mint",
          "Orange",
          "Pineapple",
          "Vanilla"
         ],
         "xaxis": "x",
         "y": {
          "bdata": "zczMzMwMT0BmZmZmZoZSQDMzMzMzU1FAZmZmZmYmTEBmZmZmZmZPQDMzMzMz81FA",
          "dtype": "f8"
         },
         "yaxis": "y"
        },
        {
         "alignmentgroup": "True",
         "hovertemplate": "Group=PCR Negative<br>Scent=%{x}<br>Percentage of Patients=%{text}<extra></extra>",
         "legendgroup": "PCR Negative",
         "marker": {
          "color": "#EF553B",
          "pattern": {
           "shape": ""
          }
         },
         "name": "PCR Negative",
         "offsetgroup": "PCR Negative",
         "orientation": "v",
         "showlegend": true,
         "text": {
          "bdata": "MzMzMzPTVEAzMzMzMzNVQJqZmZmZOVdAZmZmZmbGU0DNzMzMzAxWQDMzMzMzM1ZA",
          "dtype": "f8"
         },
         "textposition": "auto",
         "type": "bar",
         "x": [
          "Banana",
          "Caramel",
          "Mint",
          "Orange",
          "Pineapple",
          "Vanilla"
         ],
         "xaxis": "x",
         "y": {
          "bdata": "MzMzMzPTVEAzMzMzMzNVQJqZmZmZOVdAZmZmZmbGU0DNzMzMzAxWQDMzMzMzM1ZA",
          "dtype": "f8"
         },
         "yaxis": "y"
        }
       ],
       "layout": {
        "barmode": "group",
        "legend": {
         "title": {
          "text": "Group"
         },
         "tracegroupgap": 0
        },
        "template": {
         "data": {
          "bar": [
           {
            "error_x": {
             "color": "#2a3f5f"
            },
            "error_y": {
             "color": "#2a3f5f"
            },
            "marker": {
             "line": {
              "color": "#E5ECF6",
              "width": 0.5
             },
             "pattern": {
              "fillmode": "overlay",
              "size": 10,
              "solidity": 0.2
             }
            },
            "type": "bar"
           }
          ],
          "barpolar": [
           {
            "marker": {
             "line": {
              "color": "#E5ECF6",
              "width": 0.5
             },
             "pattern": {
              "fillmode": "overlay",
              "size": 10,
              "solidity": 0.2
             }
            },
            "type": "barpolar"
           }
          ],
          "carpet": [
           {
            "aaxis": {
             "endlinecolor": "#2a3f5f",
             "gridcolor": "white",
             "linecolor": "white",
             "minorgridcolor": "white",
             "startlinecolor": "#2a3f5f"
            },
            "baxis": {
             "endlinecolor": "#2a3f5f",
             "gridcolor": "white",
             "linecolor": "white",
             "minorgridcolor": "white",
             "startlinecolor": "#2a3f5f"
            },
            "type": "carpet"
           }
          ],
          "choropleth": [
           {
            "colorbar": {
             "outlinewidth": 0,
             "ticks": ""
            },
            "type": "choropleth"
           }
          ],
          "contour": [
           {
            "colorbar": {
             "outlinewidth": 0,
             "ticks": ""
            },
            "colorscale": [
             [
              0,
              "#0d0887"
             ],
             [
              0.1111111111111111,
              "#46039f"
             ],
             [
              0.2222222222222222,
              "#7201a8"
             ],
             [
              0.3333333333333333,
              "#9c179e"
             ],
             [
              0.4444444444444444,
              "#bd3786"
             ],
             [
              0.5555555555555556,
              "#d8576b"
             ],
             [
              0.6666666666666666,
              "#ed7953"
             ],
             [
              0.7777777777777778,
              "#fb9f3a"
             ],
             [
              0.8888888888888888,
              "#fdca26"
             ],
             [
              1,
              "#f0f921"
             ]
            ],
            "type": "contour"
           }
          ],
          "contourcarpet": [
           {
            "colorbar": {
             "outlinewidth": 0,
             "ticks": ""
            },
            "type": "contourcarpet"
           }
          ],
          "heatmap": [
           {
            "colorbar": {
             "outlinewidth": 0,
             "ticks": ""
            },
            "colorscale": [
             [
              0,
              "#0d0887"
             ],
             [
              0.1111111111111111,
              "#46039f"
             ],
             [
              0.2222222222222222,
              "#7201a8"
             ],
             [
              0.3333333333333333,
              "#9c179e"
             ],
             [
              0.4444444444444444,
              "#bd3786"
             ],
             [
              0.5555555555555556,
              "#d8576b"
             ],
             [
              0.6666666666666666,
              "#ed7953"
             ],
             [
              0.7777777777777778,
              "#fb9f3a"
             ],
             [
              0.8888888888888888,
              "#fdca26"
             ],
             [
              1,
              "#f0f921"
             ]
            ],
            "type": "heatmap"
           }
          ],
          "histogram": [
           {
            "marker": {
             "pattern": {
              "fillmode": "overlay",
              "size": 10,
              "solidity": 0.2
             }
            },
            "type": "histogram"
           }
          ],
          "histogram2d": [
           {
            "colorbar": {
             "outlinewidth": 0,
             "ticks": ""
            },
            "colorscale": [
             [
              0,
              "#0d0887"
             ],
             [
              0.1111111111111111,
              "#46039f"
             ],
             [
              0.2222222222222222,
              "#7201a8"
             ],
             [
              0.3333333333333333,
              "#9c179e"
             ],
             [
              0.4444444444444444,
              "#bd3786"
             ],
             [
              0.5555555555555556,
              "#d8576b"
             ],
             [
              0.6666666666666666,
              "#ed7953"
             ],
             [
              0.7777777777777778,
              "#fb9f3a"
             ],
             [
              0.8888888888888888,
              "#fdca26"
             ],
             [
              1,
              "#f0f921"
             ]
            ],
            "type": "histogram2d"
           }
          ],
          "histogram2dcontour": [
           {
            "colorbar": {
             "outlinewidth": 0,
             "ticks": ""
            },
            "colorscale": [
             [
              0,
              "#0d0887"
             ],
             [
              0.1111111111111111,
              "#46039f"
             ],
             [
              0.2222222222222222,
              "#7201a8"
             ],
             [
              0.3333333333333333,
              "#9c179e"
             ],
             [
              0.4444444444444444,
              "#bd3786"
             ],
             [
              0.5555555555555556,
              "#d8576b"
             ],
             [
              0.6666666666666666,
              "#ed7953"
             ],
             [
              0.7777777777777778,
              "#fb9f3a"
             ],
             [
              0.8888888888888888,
              "#fdca26"
             ],
             [
              1,
              "#f0f921"
             ]
            ],
            "type": "histogram2dcontour"
           }
          ],
          "mesh3d": [
           {
            "colorbar": {
             "outlinewidth": 0,
             "ticks": ""
            },
            "type": "mesh3d"
           }
          ],
          "parcoords": [
           {
            "line": {
             "colorbar": {
              "outlinewidth": 0,
              "ticks": ""
             }
            },
            "type": "parcoords"
           }
          ],
          "pie": [
           {
            "automargin": true,
            "type": "pie"
           }
          ],
          "scatter": [
           {
            "fillpattern": {
             "fillmode": "overlay",
             "size": 10,
             "solidity": 0.2
            },
            "type": "scatter"
           }
          ],
          "scatter3d": [
           {
            "line": {
             "colorbar": {
              "outlinewidth": 0,
              "ticks": ""
             }
            },
            "marker": {
             "colorbar": {
              "outlinewidth": 0,
              "ticks": ""
             }
            },
            "type": "scatter3d"
           }
          ],
          "scattercarpet": [
           {
            "marker": {
             "colorbar": {
              "outlinewidth": 0,
              "ticks": ""
             }
            },
            "type": "scattercarpet"
           }
          ],
          "scattergeo": [
           {
            "marker": {
             "colorbar": {
              "outlinewidth": 0,
              "ticks": ""
             }
            },
            "type": "scattergeo"
           }
          ],
          "scattergl": [
           {
            "marker": {
             "colorbar": {
              "outlinewidth": 0,
              "ticks": ""
             }
            },
            "type": "scattergl"
           }
          ],
          "scattermap": [
           {
            "marker": {
             "colorbar": {
              "outlinewidth": 0,
              "ticks": ""
             }
            },
            "type": "scattermap"
           }
          ],
          "scattermapbox": [
           {
            "marker": {
             "colorbar": {
              "outlinewidth": 0,
              "ticks": ""
             }
            },
            "type": "scattermapbox"
           }
          ],
          "scatterpolar": [
           {
            "marker": {
             "colorbar": {
              "outlinewidth": 0,
              "ticks": ""
             }
            },
            "type": "scatterpolar"
           }
          ],
          "scatterpolargl": [
           {
            "marker": {
             "colorbar": {
              "outlinewidth": 0,
              "ticks": ""
             }
            },
            "type": "scatterpolargl"
           }
          ],
          "scatterternary": [
           {
            "marker": {
             "colorbar": {
              "outlinewidth": 0,
              "ticks": ""
             }
            },
            "type": "scatterternary"
           }
          ],
          "surface": [
           {
            "colorbar": {
             "outlinewidth": 0,
             "ticks": ""
            },
            "colorscale": [
             [
              0,
              "#0d0887"
             ],
             [
              0.1111111111111111,
              "#46039f"
             ],
             [
              0.2222222222222222,
              "#7201a8"
             ],
             [
              0.3333333333333333,
              "#9c179e"
             ],
             [
              0.4444444444444444,
              "#bd3786"
             ],
             [
              0.5555555555555556,
              "#d8576b"
             ],
             [
              0.6666666666666666,
              "#ed7953"
             ],
             [
              0.7777777777777778,
              "#fb9f3a"
             ],
             [
              0.8888888888888888,
              "#fdca26"
             ],
             [
              1,
              "#f0f921"
             ]
            ],
            "type": "surface"
           }
          ],
          "table": [
           {
            "cells": {
             "fill": {
              "color": "#EBF0F8"
             },
             "line": {
              "color": "white"
             }
            },
            "header": {
             "fill": {
              "color": "#C8D4E3"
             },
             "line": {
              "color": "white"
             }
            },
            "type": "table"
           }
          ]
         },
         "layout": {
          "annotationdefaults": {
           "arrowcolor": "#2a3f5f",
           "arrowhead": 0,
           "arrowwidth": 1
          },
          "autotypenumbers": "strict",
          "coloraxis": {
           "colorbar": {
            "outlinewidth": 0,
            "ticks": ""
           }
          },
          "colorscale": {
           "diverging": [
            [
             0,
             "#8e0152"
            ],
            [
             0.1,
             "#c51b7d"
            ],
            [
             0.2,
             "#de77ae"
            ],
            [
             0.3,
             "#f1b6da"
            ],
            [
             0.4,
             "#fde0ef"
            ],
            [
             0.5,
             "#f7f7f7"
            ],
            [
             0.6,
             "#e6f5d0"
            ],
            [
             0.7,
             "#b8e186"
            ],
            [
             0.8,
             "#7fbc41"
            ],
            [
             0.9,
             "#4d9221"
            ],
            [
             1,
             "#276419"
            ]
           ],
           "sequential": [
            [
             0,
             "#0d0887"
            ],
            [
             0.1111111111111111,
             "#46039f"
            ],
            [
             0.2222222222222222,
             "#7201a8"
            ],
            [
             0.3333333333333333,
             "#9c179e"
            ],
            [
             0.4444444444444444,
             "#bd3786"
            ],
            [
             0.5555555555555556,
             "#d8576b"
            ],
            [
             0.6666666666666666,
             "#ed7953"
            ],
            [
             0.7777777777777778,
             "#fb9f3a"
            ],
            [
             0.8888888888888888,
             "#fdca26"
            ],
            [
             1,
             "#f0f921"
            ]
           ],
           "sequentialminus": [
            [
             0,
             "#0d0887"
            ],
            [
             0.1111111111111111,
             "#46039f"
            ],
            [
             0.2222222222222222,
             "#7201a8"
            ],
            [
             0.3333333333333333,
             "#9c179e"
            ],
            [
             0.4444444444444444,
             "#bd3786"
            ],
            [
             0.5555555555555556,
             "#d8576b"
            ],
            [
             0.6666666666666666,
             "#ed7953"
            ],
            [
             0.7777777777777778,
             "#fb9f3a"
            ],
            [
             0.8888888888888888,
             "#fdca26"
            ],
            [
             1,
             "#f0f921"
            ]
           ]
          },
          "colorway": [
           "#636efa",
           "#EF553B",
           "#00cc96",
           "#ab63fa",
           "#FFA15A",
           "#19d3f3",
           "#FF6692",
           "#B6E880",
           "#FF97FF",
           "#FECB52"
          ],
          "font": {
           "color": "#2a3f5f"
          },
          "geo": {
           "bgcolor": "white",
           "lakecolor": "white",
           "landcolor": "#E5ECF6",
           "showlakes": true,
           "showland": true,
           "subunitcolor": "white"
          },
          "hoverlabel": {
           "align": "left"
          },
          "hovermode": "closest",
          "mapbox": {
           "style": "light"
          },
          "paper_bgcolor": "white",
          "plot_bgcolor": "#E5ECF6",
          "polar": {
           "angularaxis": {
            "gridcolor": "white",
            "linecolor": "white",
            "ticks": ""
           },
           "bgcolor": "#E5ECF6",
           "radialaxis": {
            "gridcolor": "white",
            "linecolor": "white",
            "ticks": ""
           }
          },
          "scene": {
           "xaxis": {
            "backgroundcolor": "#E5ECF6",
            "gridcolor": "white",
            "gridwidth": 2,
            "linecolor": "white",
            "showbackground": true,
            "ticks": "",
            "zerolinecolor": "white"
           },
           "yaxis": {
            "backgroundcolor": "#E5ECF6",
            "gridcolor": "white",
            "gridwidth": 2,
            "linecolor": "white",
            "showbackground": true,
            "ticks": "",
            "zerolinecolor": "white"
           },
           "zaxis": {
            "backgroundcolor": "#E5ECF6",
            "gridcolor": "white",
            "gridwidth": 2,
            "linecolor": "white",
            "showbackground": true,
            "ticks": "",
            "zerolinecolor": "white"
           }
          },
          "shapedefaults": {
           "line": {
            "color": "#2a3f5f"
           }
          },
          "ternary": {
           "aaxis": {
            "gridcolor": "white",
            "linecolor": "white",
            "ticks": ""
           },
           "baxis": {
            "gridcolor": "white",
            "linecolor": "white",
            "ticks": ""
           },
           "bgcolor": "#E5ECF6",
           "caxis": {
            "gridcolor": "white",
            "linecolor": "white",
            "ticks": ""
           }
          },
          "title": {
           "x": 0.05
          },
          "xaxis": {
           "automargin": true,
           "gridcolor": "white",
           "linecolor": "white",
           "ticks": "",
           "title": {
            "standoff": 15
           },
           "zerolinecolor": "white",
           "zerolinewidth": 2
          },
          "yaxis": {
           "automargin": true,
           "gridcolor": "white",
           "linecolor": "white",
           "ticks": "",
           "title": {
            "standoff": 15
           },
           "zerolinecolor": "white",
           "zerolinewidth": 2
          }
         }
        },
        "title": {
         "text": "Relative Scent Detection by PCR Result"
        },
        "xaxis": {
         "anchor": "y",
         "domain": [
          0,
          1
         ],
         "title": {
          "text": "Scent"
         }
        },
        "yaxis": {
         "anchor": "x",
         "domain": [
          0,
          1
         ],
         "range": [
          0,
          100
         ],
         "title": {
          "text": "Percentage of Patients"
         }
        }
       }
      }
     },
     "metadata": {},
     "output_type": "display_data"
    }
   ],
   "source": [
    "fig = px.bar(\n",
    "    scent_df,\n",
    "    x=\"Scent\",\n",
    "    y=\"Percentage\",\n",
    "    color=\"Group\",\n",
    "    barmode=\"group\",\n",
    "    labels={\"Percentage\": \"Percentage of Patients\"},\n",
    "    title=\"Relative Scent Detection by PCR Result\",\n",
    "    text=\"Percentage\",\n",
    "    range_y=[0, 100],\n",
    ")\n",
    "fig.show()"
   ]
  },
  {
   "cell_type": "markdown",
   "id": "55e4f081",
   "metadata": {},
   "source": [
    "Based on the plot, the hypothesis does not seem to be supported. \n",
    "Here the relative scent detection is the number of individuals who could smell the scent divided by the total number of individuals who tested positive, and negative for COVID-19.\n"
   ]
  },
  {
   "cell_type": "markdown",
   "id": "1aae3325",
   "metadata": {},
   "source": [
    "## Hypothesis 2\n",
    "**¿Son las personas con comorbilidades menos propensas a contraer COVID - 19?**\n",
    "\n",
    "English: Are people with comorbidities less prone to contracting\n",
    "COVID - 19?\n",
    "\n",
    "Meaning that we have to check if there is a correlation between the people with e.g. fever and the PCR test result."
   ]
  },
  {
   "cell_type": "code",
   "execution_count": 7,
   "id": "c70de03b",
   "metadata": {},
   "outputs": [
    {
     "data": {
      "text/html": [
       "<div><style>\n",
       ".dataframe > thead > tr,\n",
       ".dataframe > tbody > tr {\n",
       "  text-align: right;\n",
       "  white-space: pre-wrap;\n",
       "}\n",
       "</style>\n",
       "<small>shape: (14, 4)</small><table border=\"1\" class=\"dataframe\"><thead><tr><th>Symptom</th><th>Group</th><th>Count</th><th>Percentage</th></tr><tr><td>str</td><td>str</td><td>i64</td><td>f64</td></tr></thead><tbody><tr><td>&quot;Cold&quot;</td><td>&quot;Positive PCR&quot;</td><td>151</td><td>48.9</td></tr><tr><td>&quot;Cold&quot;</td><td>&quot;Negative PCR&quot;</td><td>162</td><td>26.3</td></tr><tr><td>&quot;Cough&quot;</td><td>&quot;Positive PCR&quot;</td><td>154</td><td>49.8</td></tr><tr><td>&quot;Cough&quot;</td><td>&quot;Negative PCR&quot;</td><td>166</td><td>26.9</td></tr><tr><td>&quot;Fever&quot;</td><td>&quot;Positive PCR&quot;</td><td>93</td><td>30.1</td></tr><tr><td>&hellip;</td><td>&hellip;</td><td>&hellip;</td><td>&hellip;</td></tr><tr><td>&quot;Breathing difficulty&quot;</td><td>&quot;Negative PCR&quot;</td><td>75</td><td>12.2</td></tr><tr><td>&quot;Self-reported anosmia&quot;</td><td>&quot;Positive PCR&quot;</td><td>47</td><td>15.2</td></tr><tr><td>&quot;Self-reported anosmia&quot;</td><td>&quot;Negative PCR&quot;</td><td>11</td><td>1.8</td></tr><tr><td>&quot;Self-reported ageusia&quot;</td><td>&quot;Positive PCR&quot;</td><td>26</td><td>8.4</td></tr><tr><td>&quot;Self-reported ageusia&quot;</td><td>&quot;Negative PCR&quot;</td><td>3</td><td>0.5</td></tr></tbody></table></div>"
      ],
      "text/plain": [
       "shape: (14, 4)\n",
       "┌───────────────────────┬──────────────┬───────┬────────────┐\n",
       "│ Symptom               ┆ Group        ┆ Count ┆ Percentage │\n",
       "│ ---                   ┆ ---          ┆ ---   ┆ ---        │\n",
       "│ str                   ┆ str          ┆ i64   ┆ f64        │\n",
       "╞═══════════════════════╪══════════════╪═══════╪════════════╡\n",
       "│ Cold                  ┆ Positive PCR ┆ 151   ┆ 48.9       │\n",
       "│ Cold                  ┆ Negative PCR ┆ 162   ┆ 26.3       │\n",
       "│ Cough                 ┆ Positive PCR ┆ 154   ┆ 49.8       │\n",
       "│ Cough                 ┆ Negative PCR ┆ 166   ┆ 26.9       │\n",
       "│ Fever                 ┆ Positive PCR ┆ 93    ┆ 30.1       │\n",
       "│ …                     ┆ …            ┆ …     ┆ …          │\n",
       "│ Breathing difficulty  ┆ Negative PCR ┆ 75    ┆ 12.2       │\n",
       "│ Self-reported anosmia ┆ Positive PCR ┆ 47    ┆ 15.2       │\n",
       "│ Self-reported anosmia ┆ Negative PCR ┆ 11    ┆ 1.8        │\n",
       "│ Self-reported ageusia ┆ Positive PCR ┆ 26    ┆ 8.4        │\n",
       "│ Self-reported ageusia ┆ Negative PCR ┆ 3     ┆ 0.5        │\n",
       "└───────────────────────┴──────────────┴───────┴────────────┘"
      ]
     },
     "execution_count": 7,
     "metadata": {},
     "output_type": "execute_result"
    }
   ],
   "source": [
    "symptoms = [\n",
    "    \"Cold\",\n",
    "    \"Cough\",\n",
    "    \"Fever\",\n",
    "    \"Muscular Pain\",\n",
    "    \"Breathing difficulty\",\n",
    "    \"Self-reported anosmia\",\n",
    "    \"Self-reported ageusia\",\n",
    "]\n",
    "symptom_data = {\n",
    "    \"Symptom\": [],\n",
    "    \"Group\": [],\n",
    "    \"Count\": [],\n",
    "    \"Percentage\": [],\n",
    "}\n",
    "for symptom in symptoms:\n",
    "    # Positive\n",
    "    symptom_data[\"Symptom\"].append(symptom)\n",
    "    symptom_data[\"Group\"].append(\"Positive PCR\")\n",
    "    symptom_data[\"Count\"].append(df_pos.filter(pl.col(symptom) == 1).shape[0])\n",
    "    symptom_data[\"Percentage\"].append(round(\n",
    "        100 * df_pos.filter(pl.col(symptom) == 1).shape[0] / pos_pcr, 1\n",
    "        ))\n",
    "\n",
    "    # Negative\n",
    "    symptom_data[\"Symptom\"].append(symptom)\n",
    "    symptom_data[\"Group\"].append(\"Negative PCR\")\n",
    "    symptom_data[\"Count\"].append(df_neg.filter(pl.col(symptom) == 1).shape[0])\n",
    "    symptom_data[\"Percentage\"].append(round(\n",
    "        100 * df_neg.filter(pl.col(symptom) == 1).shape[0] / neg_pcr, 1\n",
    "        ))\n",
    "    \n",
    "symptom_df = pl.from_dict(symptom_data)\n",
    "symptom_df"
   ]
  },
  {
   "cell_type": "code",
   "execution_count": 8,
   "id": "bc771271",
   "metadata": {},
   "outputs": [
    {
     "data": {
      "application/vnd.plotly.v1+json": {
       "config": {
        "plotlyServerURL": "https://plot.ly"
       },
       "data": [
        {
         "alignmentgroup": "True",
         "hovertemplate": "Group=Positive PCR<br>Symptom=%{x}<br>Count of Patients=%{text}<extra></extra>",
         "legendgroup": "Positive PCR",
         "marker": {
          "color": "#636efa",
          "pattern": {
           "shape": ""
          }
         },
         "name": "Positive PCR",
         "offsetgroup": "Positive PCR",
         "orientation": "v",
         "showlegend": true,
         "text": {
          "bdata": "AAAAAADgYkAAAAAAAEBjQAAAAAAAQFdAAAAAAAAgYkAAAAAAAABLQAAAAAAAgEdAAAAAAAAAOkA=",
          "dtype": "f8"
         },
         "textposition": "auto",
         "type": "bar",
         "x": [
          "Cold",
          "Cough",
          "Fever",
          "Muscular Pain",
          "Breathing difficulty",
          "Self-reported anosmia",
          "Self-reported ageusia"
         ],
         "xaxis": "x",
         "y": {
          "bdata": "lwCaAF0AkQA2AC8AGgA=",
          "dtype": "i2"
         },
         "yaxis": "y"
        },
        {
         "alignmentgroup": "True",
         "hovertemplate": "Group=Negative PCR<br>Symptom=%{x}<br>Count of Patients=%{text}<extra></extra>",
         "legendgroup": "Negative PCR",
         "marker": {
          "color": "#EF553B",
          "pattern": {
           "shape": ""
          }
         },
         "name": "Negative PCR",
         "offsetgroup": "Negative PCR",
         "orientation": "v",
         "showlegend": true,
         "text": {
          "bdata": "AAAAAABAZEAAAAAAAMBkQAAAAAAAgE9AAAAAAADgaEAAAAAAAMBSQAAAAAAAACZAAAAAAAAACEA=",
          "dtype": "f8"
         },
         "textposition": "auto",
         "type": "bar",
         "x": [
          "Cold",
          "Cough",
          "Fever",
          "Muscular Pain",
          "Breathing difficulty",
          "Self-reported anosmia",
          "Self-reported ageusia"
         ],
         "xaxis": "x",
         "y": {
          "bdata": "ogCmAD8AxwBLAAsAAwA=",
          "dtype": "i2"
         },
         "yaxis": "y"
        }
       ],
       "layout": {
        "barmode": "group",
        "legend": {
         "title": {
          "text": "Group"
         },
         "tracegroupgap": 0
        },
        "template": {
         "data": {
          "bar": [
           {
            "error_x": {
             "color": "#2a3f5f"
            },
            "error_y": {
             "color": "#2a3f5f"
            },
            "marker": {
             "line": {
              "color": "#E5ECF6",
              "width": 0.5
             },
             "pattern": {
              "fillmode": "overlay",
              "size": 10,
              "solidity": 0.2
             }
            },
            "type": "bar"
           }
          ],
          "barpolar": [
           {
            "marker": {
             "line": {
              "color": "#E5ECF6",
              "width": 0.5
             },
             "pattern": {
              "fillmode": "overlay",
              "size": 10,
              "solidity": 0.2
             }
            },
            "type": "barpolar"
           }
          ],
          "carpet": [
           {
            "aaxis": {
             "endlinecolor": "#2a3f5f",
             "gridcolor": "white",
             "linecolor": "white",
             "minorgridcolor": "white",
             "startlinecolor": "#2a3f5f"
            },
            "baxis": {
             "endlinecolor": "#2a3f5f",
             "gridcolor": "white",
             "linecolor": "white",
             "minorgridcolor": "white",
             "startlinecolor": "#2a3f5f"
            },
            "type": "carpet"
           }
          ],
          "choropleth": [
           {
            "colorbar": {
             "outlinewidth": 0,
             "ticks": ""
            },
            "type": "choropleth"
           }
          ],
          "contour": [
           {
            "colorbar": {
             "outlinewidth": 0,
             "ticks": ""
            },
            "colorscale": [
             [
              0,
              "#0d0887"
             ],
             [
              0.1111111111111111,
              "#46039f"
             ],
             [
              0.2222222222222222,
              "#7201a8"
             ],
             [
              0.3333333333333333,
              "#9c179e"
             ],
             [
              0.4444444444444444,
              "#bd3786"
             ],
             [
              0.5555555555555556,
              "#d8576b"
             ],
             [
              0.6666666666666666,
              "#ed7953"
             ],
             [
              0.7777777777777778,
              "#fb9f3a"
             ],
             [
              0.8888888888888888,
              "#fdca26"
             ],
             [
              1,
              "#f0f921"
             ]
            ],
            "type": "contour"
           }
          ],
          "contourcarpet": [
           {
            "colorbar": {
             "outlinewidth": 0,
             "ticks": ""
            },
            "type": "contourcarpet"
           }
          ],
          "heatmap": [
           {
            "colorbar": {
             "outlinewidth": 0,
             "ticks": ""
            },
            "colorscale": [
             [
              0,
              "#0d0887"
             ],
             [
              0.1111111111111111,
              "#46039f"
             ],
             [
              0.2222222222222222,
              "#7201a8"
             ],
             [
              0.3333333333333333,
              "#9c179e"
             ],
             [
              0.4444444444444444,
              "#bd3786"
             ],
             [
              0.5555555555555556,
              "#d8576b"
             ],
             [
              0.6666666666666666,
              "#ed7953"
             ],
             [
              0.7777777777777778,
              "#fb9f3a"
             ],
             [
              0.8888888888888888,
              "#fdca26"
             ],
             [
              1,
              "#f0f921"
             ]
            ],
            "type": "heatmap"
           }
          ],
          "histogram": [
           {
            "marker": {
             "pattern": {
              "fillmode": "overlay",
              "size": 10,
              "solidity": 0.2
             }
            },
            "type": "histogram"
           }
          ],
          "histogram2d": [
           {
            "colorbar": {
             "outlinewidth": 0,
             "ticks": ""
            },
            "colorscale": [
             [
              0,
              "#0d0887"
             ],
             [
              0.1111111111111111,
              "#46039f"
             ],
             [
              0.2222222222222222,
              "#7201a8"
             ],
             [
              0.3333333333333333,
              "#9c179e"
             ],
             [
              0.4444444444444444,
              "#bd3786"
             ],
             [
              0.5555555555555556,
              "#d8576b"
             ],
             [
              0.6666666666666666,
              "#ed7953"
             ],
             [
              0.7777777777777778,
              "#fb9f3a"
             ],
             [
              0.8888888888888888,
              "#fdca26"
             ],
             [
              1,
              "#f0f921"
             ]
            ],
            "type": "histogram2d"
           }
          ],
          "histogram2dcontour": [
           {
            "colorbar": {
             "outlinewidth": 0,
             "ticks": ""
            },
            "colorscale": [
             [
              0,
              "#0d0887"
             ],
             [
              0.1111111111111111,
              "#46039f"
             ],
             [
              0.2222222222222222,
              "#7201a8"
             ],
             [
              0.3333333333333333,
              "#9c179e"
             ],
             [
              0.4444444444444444,
              "#bd3786"
             ],
             [
              0.5555555555555556,
              "#d8576b"
             ],
             [
              0.6666666666666666,
              "#ed7953"
             ],
             [
              0.7777777777777778,
              "#fb9f3a"
             ],
             [
              0.8888888888888888,
              "#fdca26"
             ],
             [
              1,
              "#f0f921"
             ]
            ],
            "type": "histogram2dcontour"
           }
          ],
          "mesh3d": [
           {
            "colorbar": {
             "outlinewidth": 0,
             "ticks": ""
            },
            "type": "mesh3d"
           }
          ],
          "parcoords": [
           {
            "line": {
             "colorbar": {
              "outlinewidth": 0,
              "ticks": ""
             }
            },
            "type": "parcoords"
           }
          ],
          "pie": [
           {
            "automargin": true,
            "type": "pie"
           }
          ],
          "scatter": [
           {
            "fillpattern": {
             "fillmode": "overlay",
             "size": 10,
             "solidity": 0.2
            },
            "type": "scatter"
           }
          ],
          "scatter3d": [
           {
            "line": {
             "colorbar": {
              "outlinewidth": 0,
              "ticks": ""
             }
            },
            "marker": {
             "colorbar": {
              "outlinewidth": 0,
              "ticks": ""
             }
            },
            "type": "scatter3d"
           }
          ],
          "scattercarpet": [
           {
            "marker": {
             "colorbar": {
              "outlinewidth": 0,
              "ticks": ""
             }
            },
            "type": "scattercarpet"
           }
          ],
          "scattergeo": [
           {
            "marker": {
             "colorbar": {
              "outlinewidth": 0,
              "ticks": ""
             }
            },
            "type": "scattergeo"
           }
          ],
          "scattergl": [
           {
            "marker": {
             "colorbar": {
              "outlinewidth": 0,
              "ticks": ""
             }
            },
            "type": "scattergl"
           }
          ],
          "scattermap": [
           {
            "marker": {
             "colorbar": {
              "outlinewidth": 0,
              "ticks": ""
             }
            },
            "type": "scattermap"
           }
          ],
          "scattermapbox": [
           {
            "marker": {
             "colorbar": {
              "outlinewidth": 0,
              "ticks": ""
             }
            },
            "type": "scattermapbox"
           }
          ],
          "scatterpolar": [
           {
            "marker": {
             "colorbar": {
              "outlinewidth": 0,
              "ticks": ""
             }
            },
            "type": "scatterpolar"
           }
          ],
          "scatterpolargl": [
           {
            "marker": {
             "colorbar": {
              "outlinewidth": 0,
              "ticks": ""
             }
            },
            "type": "scatterpolargl"
           }
          ],
          "scatterternary": [
           {
            "marker": {
             "colorbar": {
              "outlinewidth": 0,
              "ticks": ""
             }
            },
            "type": "scatterternary"
           }
          ],
          "surface": [
           {
            "colorbar": {
             "outlinewidth": 0,
             "ticks": ""
            },
            "colorscale": [
             [
              0,
              "#0d0887"
             ],
             [
              0.1111111111111111,
              "#46039f"
             ],
             [
              0.2222222222222222,
              "#7201a8"
             ],
             [
              0.3333333333333333,
              "#9c179e"
             ],
             [
              0.4444444444444444,
              "#bd3786"
             ],
             [
              0.5555555555555556,
              "#d8576b"
             ],
             [
              0.6666666666666666,
              "#ed7953"
             ],
             [
              0.7777777777777778,
              "#fb9f3a"
             ],
             [
              0.8888888888888888,
              "#fdca26"
             ],
             [
              1,
              "#f0f921"
             ]
            ],
            "type": "surface"
           }
          ],
          "table": [
           {
            "cells": {
             "fill": {
              "color": "#EBF0F8"
             },
             "line": {
              "color": "white"
             }
            },
            "header": {
             "fill": {
              "color": "#C8D4E3"
             },
             "line": {
              "color": "white"
             }
            },
            "type": "table"
           }
          ]
         },
         "layout": {
          "annotationdefaults": {
           "arrowcolor": "#2a3f5f",
           "arrowhead": 0,
           "arrowwidth": 1
          },
          "autotypenumbers": "strict",
          "coloraxis": {
           "colorbar": {
            "outlinewidth": 0,
            "ticks": ""
           }
          },
          "colorscale": {
           "diverging": [
            [
             0,
             "#8e0152"
            ],
            [
             0.1,
             "#c51b7d"
            ],
            [
             0.2,
             "#de77ae"
            ],
            [
             0.3,
             "#f1b6da"
            ],
            [
             0.4,
             "#fde0ef"
            ],
            [
             0.5,
             "#f7f7f7"
            ],
            [
             0.6,
             "#e6f5d0"
            ],
            [
             0.7,
             "#b8e186"
            ],
            [
             0.8,
             "#7fbc41"
            ],
            [
             0.9,
             "#4d9221"
            ],
            [
             1,
             "#276419"
            ]
           ],
           "sequential": [
            [
             0,
             "#0d0887"
            ],
            [
             0.1111111111111111,
             "#46039f"
            ],
            [
             0.2222222222222222,
             "#7201a8"
            ],
            [
             0.3333333333333333,
             "#9c179e"
            ],
            [
             0.4444444444444444,
             "#bd3786"
            ],
            [
             0.5555555555555556,
             "#d8576b"
            ],
            [
             0.6666666666666666,
             "#ed7953"
            ],
            [
             0.7777777777777778,
             "#fb9f3a"
            ],
            [
             0.8888888888888888,
             "#fdca26"
            ],
            [
             1,
             "#f0f921"
            ]
           ],
           "sequentialminus": [
            [
             0,
             "#0d0887"
            ],
            [
             0.1111111111111111,
             "#46039f"
            ],
            [
             0.2222222222222222,
             "#7201a8"
            ],
            [
             0.3333333333333333,
             "#9c179e"
            ],
            [
             0.4444444444444444,
             "#bd3786"
            ],
            [
             0.5555555555555556,
             "#d8576b"
            ],
            [
             0.6666666666666666,
             "#ed7953"
            ],
            [
             0.7777777777777778,
             "#fb9f3a"
            ],
            [
             0.8888888888888888,
             "#fdca26"
            ],
            [
             1,
             "#f0f921"
            ]
           ]
          },
          "colorway": [
           "#636efa",
           "#EF553B",
           "#00cc96",
           "#ab63fa",
           "#FFA15A",
           "#19d3f3",
           "#FF6692",
           "#B6E880",
           "#FF97FF",
           "#FECB52"
          ],
          "font": {
           "color": "#2a3f5f"
          },
          "geo": {
           "bgcolor": "white",
           "lakecolor": "white",
           "landcolor": "#E5ECF6",
           "showlakes": true,
           "showland": true,
           "subunitcolor": "white"
          },
          "hoverlabel": {
           "align": "left"
          },
          "hovermode": "closest",
          "mapbox": {
           "style": "light"
          },
          "paper_bgcolor": "white",
          "plot_bgcolor": "#E5ECF6",
          "polar": {
           "angularaxis": {
            "gridcolor": "white",
            "linecolor": "white",
            "ticks": ""
           },
           "bgcolor": "#E5ECF6",
           "radialaxis": {
            "gridcolor": "white",
            "linecolor": "white",
            "ticks": ""
           }
          },
          "scene": {
           "xaxis": {
            "backgroundcolor": "#E5ECF6",
            "gridcolor": "white",
            "gridwidth": 2,
            "linecolor": "white",
            "showbackground": true,
            "ticks": "",
            "zerolinecolor": "white"
           },
           "yaxis": {
            "backgroundcolor": "#E5ECF6",
            "gridcolor": "white",
            "gridwidth": 2,
            "linecolor": "white",
            "showbackground": true,
            "ticks": "",
            "zerolinecolor": "white"
           },
           "zaxis": {
            "backgroundcolor": "#E5ECF6",
            "gridcolor": "white",
            "gridwidth": 2,
            "linecolor": "white",
            "showbackground": true,
            "ticks": "",
            "zerolinecolor": "white"
           }
          },
          "shapedefaults": {
           "line": {
            "color": "#2a3f5f"
           }
          },
          "ternary": {
           "aaxis": {
            "gridcolor": "white",
            "linecolor": "white",
            "ticks": ""
           },
           "baxis": {
            "gridcolor": "white",
            "linecolor": "white",
            "ticks": ""
           },
           "bgcolor": "#E5ECF6",
           "caxis": {
            "gridcolor": "white",
            "linecolor": "white",
            "ticks": ""
           }
          },
          "title": {
           "x": 0.05
          },
          "xaxis": {
           "automargin": true,
           "gridcolor": "white",
           "linecolor": "white",
           "ticks": "",
           "title": {
            "standoff": 15
           },
           "zerolinecolor": "white",
           "zerolinewidth": 2
          },
          "yaxis": {
           "automargin": true,
           "gridcolor": "white",
           "linecolor": "white",
           "ticks": "",
           "title": {
            "standoff": 15
           },
           "zerolinecolor": "white",
           "zerolinewidth": 2
          }
         }
        },
        "title": {
         "text": "Symptoms by PCR Result"
        },
        "xaxis": {
         "anchor": "y",
         "domain": [
          0,
          1
         ],
         "title": {
          "text": "Symptom"
         }
        },
        "yaxis": {
         "anchor": "x",
         "domain": [
          0,
          1
         ],
         "title": {
          "text": "Count of Patients"
         }
        }
       }
      }
     },
     "metadata": {},
     "output_type": "display_data"
    }
   ],
   "source": [
    "fig = px.bar(\n",
    "    symptom_df,\n",
    "    x=\"Symptom\",\n",
    "    y=\"Count\",\n",
    "    color=\"Group\",\n",
    "    barmode=\"group\",\n",
    "    labels={\"Count\": \"Count of Patients\"},\n",
    "    title=\"Symptoms by PCR Result\",\n",
    "    text=\"Count\",\n",
    ")\n",
    "fig.show()"
   ]
  },
  {
   "cell_type": "code",
   "execution_count": 9,
   "id": "f2d675b7",
   "metadata": {},
   "outputs": [
    {
     "data": {
      "application/vnd.plotly.v1+json": {
       "config": {
        "plotlyServerURL": "https://plot.ly"
       },
       "data": [
        {
         "alignmentgroup": "True",
         "hovertemplate": "Group=Positive PCR<br>Symptom=%{x}<br>Percentage of Patients=%{text}<extra></extra>",
         "legendgroup": "Positive PCR",
         "marker": {
          "color": "#636efa",
          "pattern": {
           "shape": ""
          }
         },
         "name": "Positive PCR",
         "offsetgroup": "Positive PCR",
         "orientation": "v",
         "showlegend": true,
         "text": {
          "bdata": "MzMzMzNzSEBmZmZmZuZIQJqZmZmZGT5AMzMzMzNzR0AAAAAAAIAxQGZmZmZmZi5AzczMzMzMIEA=",
          "dtype": "f8"
         },
         "textposition": "auto",
         "type": "bar",
         "x": [
          "Cold",
          "Cough",
          "Fever",
          "Muscular Pain",
          "Breathing difficulty",
          "Self-reported anosmia",
          "Self-reported ageusia"
         ],
         "xaxis": "x",
         "y": {
          "bdata": "MzMzMzNzSEBmZmZmZuZIQJqZmZmZGT5AMzMzMzNzR0AAAAAAAIAxQGZmZmZmZi5AzczMzMzMIEA=",
          "dtype": "f8"
         },
         "yaxis": "y"
        },
        {
         "alignmentgroup": "True",
         "hovertemplate": "Group=Negative PCR<br>Symptom=%{x}<br>Percentage of Patients=%{text}<extra></extra>",
         "legendgroup": "Negative PCR",
         "marker": {
          "color": "#EF553B",
          "pattern": {
           "shape": ""
          }
         },
         "name": "Negative PCR",
         "offsetgroup": "Negative PCR",
         "orientation": "v",
         "showlegend": true,
         "text": {
          "bdata": "zczMzMxMOkBmZmZmZuY6QGZmZmZmZiRAZmZmZmYmQEBmZmZmZmYoQM3MzMzMzPw/AAAAAAAA4D8=",
          "dtype": "f8"
         },
         "textposition": "auto",
         "type": "bar",
         "x": [
          "Cold",
          "Cough",
          "Fever",
          "Muscular Pain",
          "Breathing difficulty",
          "Self-reported anosmia",
          "Self-reported ageusia"
         ],
         "xaxis": "x",
         "y": {
          "bdata": "zczMzMxMOkBmZmZmZuY6QGZmZmZmZiRAZmZmZmYmQEBmZmZmZmYoQM3MzMzMzPw/AAAAAAAA4D8=",
          "dtype": "f8"
         },
         "yaxis": "y"
        }
       ],
       "layout": {
        "barmode": "group",
        "legend": {
         "title": {
          "text": "Group"
         },
         "tracegroupgap": 0
        },
        "template": {
         "data": {
          "bar": [
           {
            "error_x": {
             "color": "#2a3f5f"
            },
            "error_y": {
             "color": "#2a3f5f"
            },
            "marker": {
             "line": {
              "color": "#E5ECF6",
              "width": 0.5
             },
             "pattern": {
              "fillmode": "overlay",
              "size": 10,
              "solidity": 0.2
             }
            },
            "type": "bar"
           }
          ],
          "barpolar": [
           {
            "marker": {
             "line": {
              "color": "#E5ECF6",
              "width": 0.5
             },
             "pattern": {
              "fillmode": "overlay",
              "size": 10,
              "solidity": 0.2
             }
            },
            "type": "barpolar"
           }
          ],
          "carpet": [
           {
            "aaxis": {
             "endlinecolor": "#2a3f5f",
             "gridcolor": "white",
             "linecolor": "white",
             "minorgridcolor": "white",
             "startlinecolor": "#2a3f5f"
            },
            "baxis": {
             "endlinecolor": "#2a3f5f",
             "gridcolor": "white",
             "linecolor": "white",
             "minorgridcolor": "white",
             "startlinecolor": "#2a3f5f"
            },
            "type": "carpet"
           }
          ],
          "choropleth": [
           {
            "colorbar": {
             "outlinewidth": 0,
             "ticks": ""
            },
            "type": "choropleth"
           }
          ],
          "contour": [
           {
            "colorbar": {
             "outlinewidth": 0,
             "ticks": ""
            },
            "colorscale": [
             [
              0,
              "#0d0887"
             ],
             [
              0.1111111111111111,
              "#46039f"
             ],
             [
              0.2222222222222222,
              "#7201a8"
             ],
             [
              0.3333333333333333,
              "#9c179e"
             ],
             [
              0.4444444444444444,
              "#bd3786"
             ],
             [
              0.5555555555555556,
              "#d8576b"
             ],
             [
              0.6666666666666666,
              "#ed7953"
             ],
             [
              0.7777777777777778,
              "#fb9f3a"
             ],
             [
              0.8888888888888888,
              "#fdca26"
             ],
             [
              1,
              "#f0f921"
             ]
            ],
            "type": "contour"
           }
          ],
          "contourcarpet": [
           {
            "colorbar": {
             "outlinewidth": 0,
             "ticks": ""
            },
            "type": "contourcarpet"
           }
          ],
          "heatmap": [
           {
            "colorbar": {
             "outlinewidth": 0,
             "ticks": ""
            },
            "colorscale": [
             [
              0,
              "#0d0887"
             ],
             [
              0.1111111111111111,
              "#46039f"
             ],
             [
              0.2222222222222222,
              "#7201a8"
             ],
             [
              0.3333333333333333,
              "#9c179e"
             ],
             [
              0.4444444444444444,
              "#bd3786"
             ],
             [
              0.5555555555555556,
              "#d8576b"
             ],
             [
              0.6666666666666666,
              "#ed7953"
             ],
             [
              0.7777777777777778,
              "#fb9f3a"
             ],
             [
              0.8888888888888888,
              "#fdca26"
             ],
             [
              1,
              "#f0f921"
             ]
            ],
            "type": "heatmap"
           }
          ],
          "histogram": [
           {
            "marker": {
             "pattern": {
              "fillmode": "overlay",
              "size": 10,
              "solidity": 0.2
             }
            },
            "type": "histogram"
           }
          ],
          "histogram2d": [
           {
            "colorbar": {
             "outlinewidth": 0,
             "ticks": ""
            },
            "colorscale": [
             [
              0,
              "#0d0887"
             ],
             [
              0.1111111111111111,
              "#46039f"
             ],
             [
              0.2222222222222222,
              "#7201a8"
             ],
             [
              0.3333333333333333,
              "#9c179e"
             ],
             [
              0.4444444444444444,
              "#bd3786"
             ],
             [
              0.5555555555555556,
              "#d8576b"
             ],
             [
              0.6666666666666666,
              "#ed7953"
             ],
             [
              0.7777777777777778,
              "#fb9f3a"
             ],
             [
              0.8888888888888888,
              "#fdca26"
             ],
             [
              1,
              "#f0f921"
             ]
            ],
            "type": "histogram2d"
           }
          ],
          "histogram2dcontour": [
           {
            "colorbar": {
             "outlinewidth": 0,
             "ticks": ""
            },
            "colorscale": [
             [
              0,
              "#0d0887"
             ],
             [
              0.1111111111111111,
              "#46039f"
             ],
             [
              0.2222222222222222,
              "#7201a8"
             ],
             [
              0.3333333333333333,
              "#9c179e"
             ],
             [
              0.4444444444444444,
              "#bd3786"
             ],
             [
              0.5555555555555556,
              "#d8576b"
             ],
             [
              0.6666666666666666,
              "#ed7953"
             ],
             [
              0.7777777777777778,
              "#fb9f3a"
             ],
             [
              0.8888888888888888,
              "#fdca26"
             ],
             [
              1,
              "#f0f921"
             ]
            ],
            "type": "histogram2dcontour"
           }
          ],
          "mesh3d": [
           {
            "colorbar": {
             "outlinewidth": 0,
             "ticks": ""
            },
            "type": "mesh3d"
           }
          ],
          "parcoords": [
           {
            "line": {
             "colorbar": {
              "outlinewidth": 0,
              "ticks": ""
             }
            },
            "type": "parcoords"
           }
          ],
          "pie": [
           {
            "automargin": true,
            "type": "pie"
           }
          ],
          "scatter": [
           {
            "fillpattern": {
             "fillmode": "overlay",
             "size": 10,
             "solidity": 0.2
            },
            "type": "scatter"
           }
          ],
          "scatter3d": [
           {
            "line": {
             "colorbar": {
              "outlinewidth": 0,
              "ticks": ""
             }
            },
            "marker": {
             "colorbar": {
              "outlinewidth": 0,
              "ticks": ""
             }
            },
            "type": "scatter3d"
           }
          ],
          "scattercarpet": [
           {
            "marker": {
             "colorbar": {
              "outlinewidth": 0,
              "ticks": ""
             }
            },
            "type": "scattercarpet"
           }
          ],
          "scattergeo": [
           {
            "marker": {
             "colorbar": {
              "outlinewidth": 0,
              "ticks": ""
             }
            },
            "type": "scattergeo"
           }
          ],
          "scattergl": [
           {
            "marker": {
             "colorbar": {
              "outlinewidth": 0,
              "ticks": ""
             }
            },
            "type": "scattergl"
           }
          ],
          "scattermap": [
           {
            "marker": {
             "colorbar": {
              "outlinewidth": 0,
              "ticks": ""
             }
            },
            "type": "scattermap"
           }
          ],
          "scattermapbox": [
           {
            "marker": {
             "colorbar": {
              "outlinewidth": 0,
              "ticks": ""
             }
            },
            "type": "scattermapbox"
           }
          ],
          "scatterpolar": [
           {
            "marker": {
             "colorbar": {
              "outlinewidth": 0,
              "ticks": ""
             }
            },
            "type": "scatterpolar"
           }
          ],
          "scatterpolargl": [
           {
            "marker": {
             "colorbar": {
              "outlinewidth": 0,
              "ticks": ""
             }
            },
            "type": "scatterpolargl"
           }
          ],
          "scatterternary": [
           {
            "marker": {
             "colorbar": {
              "outlinewidth": 0,
              "ticks": ""
             }
            },
            "type": "scatterternary"
           }
          ],
          "surface": [
           {
            "colorbar": {
             "outlinewidth": 0,
             "ticks": ""
            },
            "colorscale": [
             [
              0,
              "#0d0887"
             ],
             [
              0.1111111111111111,
              "#46039f"
             ],
             [
              0.2222222222222222,
              "#7201a8"
             ],
             [
              0.3333333333333333,
              "#9c179e"
             ],
             [
              0.4444444444444444,
              "#bd3786"
             ],
             [
              0.5555555555555556,
              "#d8576b"
             ],
             [
              0.6666666666666666,
              "#ed7953"
             ],
             [
              0.7777777777777778,
              "#fb9f3a"
             ],
             [
              0.8888888888888888,
              "#fdca26"
             ],
             [
              1,
              "#f0f921"
             ]
            ],
            "type": "surface"
           }
          ],
          "table": [
           {
            "cells": {
             "fill": {
              "color": "#EBF0F8"
             },
             "line": {
              "color": "white"
             }
            },
            "header": {
             "fill": {
              "color": "#C8D4E3"
             },
             "line": {
              "color": "white"
             }
            },
            "type": "table"
           }
          ]
         },
         "layout": {
          "annotationdefaults": {
           "arrowcolor": "#2a3f5f",
           "arrowhead": 0,
           "arrowwidth": 1
          },
          "autotypenumbers": "strict",
          "coloraxis": {
           "colorbar": {
            "outlinewidth": 0,
            "ticks": ""
           }
          },
          "colorscale": {
           "diverging": [
            [
             0,
             "#8e0152"
            ],
            [
             0.1,
             "#c51b7d"
            ],
            [
             0.2,
             "#de77ae"
            ],
            [
             0.3,
             "#f1b6da"
            ],
            [
             0.4,
             "#fde0ef"
            ],
            [
             0.5,
             "#f7f7f7"
            ],
            [
             0.6,
             "#e6f5d0"
            ],
            [
             0.7,
             "#b8e186"
            ],
            [
             0.8,
             "#7fbc41"
            ],
            [
             0.9,
             "#4d9221"
            ],
            [
             1,
             "#276419"
            ]
           ],
           "sequential": [
            [
             0,
             "#0d0887"
            ],
            [
             0.1111111111111111,
             "#46039f"
            ],
            [
             0.2222222222222222,
             "#7201a8"
            ],
            [
             0.3333333333333333,
             "#9c179e"
            ],
            [
             0.4444444444444444,
             "#bd3786"
            ],
            [
             0.5555555555555556,
             "#d8576b"
            ],
            [
             0.6666666666666666,
             "#ed7953"
            ],
            [
             0.7777777777777778,
             "#fb9f3a"
            ],
            [
             0.8888888888888888,
             "#fdca26"
            ],
            [
             1,
             "#f0f921"
            ]
           ],
           "sequentialminus": [
            [
             0,
             "#0d0887"
            ],
            [
             0.1111111111111111,
             "#46039f"
            ],
            [
             0.2222222222222222,
             "#7201a8"
            ],
            [
             0.3333333333333333,
             "#9c179e"
            ],
            [
             0.4444444444444444,
             "#bd3786"
            ],
            [
             0.5555555555555556,
             "#d8576b"
            ],
            [
             0.6666666666666666,
             "#ed7953"
            ],
            [
             0.7777777777777778,
             "#fb9f3a"
            ],
            [
             0.8888888888888888,
             "#fdca26"
            ],
            [
             1,
             "#f0f921"
            ]
           ]
          },
          "colorway": [
           "#636efa",
           "#EF553B",
           "#00cc96",
           "#ab63fa",
           "#FFA15A",
           "#19d3f3",
           "#FF6692",
           "#B6E880",
           "#FF97FF",
           "#FECB52"
          ],
          "font": {
           "color": "#2a3f5f"
          },
          "geo": {
           "bgcolor": "white",
           "lakecolor": "white",
           "landcolor": "#E5ECF6",
           "showlakes": true,
           "showland": true,
           "subunitcolor": "white"
          },
          "hoverlabel": {
           "align": "left"
          },
          "hovermode": "closest",
          "mapbox": {
           "style": "light"
          },
          "paper_bgcolor": "white",
          "plot_bgcolor": "#E5ECF6",
          "polar": {
           "angularaxis": {
            "gridcolor": "white",
            "linecolor": "white",
            "ticks": ""
           },
           "bgcolor": "#E5ECF6",
           "radialaxis": {
            "gridcolor": "white",
            "linecolor": "white",
            "ticks": ""
           }
          },
          "scene": {
           "xaxis": {
            "backgroundcolor": "#E5ECF6",
            "gridcolor": "white",
            "gridwidth": 2,
            "linecolor": "white",
            "showbackground": true,
            "ticks": "",
            "zerolinecolor": "white"
           },
           "yaxis": {
            "backgroundcolor": "#E5ECF6",
            "gridcolor": "white",
            "gridwidth": 2,
            "linecolor": "white",
            "showbackground": true,
            "ticks": "",
            "zerolinecolor": "white"
           },
           "zaxis": {
            "backgroundcolor": "#E5ECF6",
            "gridcolor": "white",
            "gridwidth": 2,
            "linecolor": "white",
            "showbackground": true,
            "ticks": "",
            "zerolinecolor": "white"
           }
          },
          "shapedefaults": {
           "line": {
            "color": "#2a3f5f"
           }
          },
          "ternary": {
           "aaxis": {
            "gridcolor": "white",
            "linecolor": "white",
            "ticks": ""
           },
           "baxis": {
            "gridcolor": "white",
            "linecolor": "white",
            "ticks": ""
           },
           "bgcolor": "#E5ECF6",
           "caxis": {
            "gridcolor": "white",
            "linecolor": "white",
            "ticks": ""
           }
          },
          "title": {
           "x": 0.05
          },
          "xaxis": {
           "automargin": true,
           "gridcolor": "white",
           "linecolor": "white",
           "ticks": "",
           "title": {
            "standoff": 15
           },
           "zerolinecolor": "white",
           "zerolinewidth": 2
          },
          "yaxis": {
           "automargin": true,
           "gridcolor": "white",
           "linecolor": "white",
           "ticks": "",
           "title": {
            "standoff": 15
           },
           "zerolinecolor": "white",
           "zerolinewidth": 2
          }
         }
        },
        "title": {
         "text": "Relative Symptoms by PCR Result"
        },
        "xaxis": {
         "anchor": "y",
         "domain": [
          0,
          1
         ],
         "title": {
          "text": "Symptom"
         }
        },
        "yaxis": {
         "anchor": "x",
         "domain": [
          0,
          1
         ],
         "range": [
          0,
          100
         ],
         "title": {
          "text": "Percentage of Patients"
         }
        }
       }
      }
     },
     "metadata": {},
     "output_type": "display_data"
    }
   ],
   "source": [
    "fig = px.bar(\n",
    "    symptom_df,\n",
    "    x=\"Symptom\",\n",
    "    y=\"Percentage\",\n",
    "    color=\"Group\",\n",
    "    barmode=\"group\",\n",
    "    labels={\"Percentage\": \"Percentage of Patients\"},\n",
    "    title=\"Relative Symptoms by PCR Result\",\n",
    "    text=\"Percentage\",\n",
    "    range_y=[0, 100],\n",
    ")\n",
    "fig.show()"
   ]
  },
  {
   "cell_type": "markdown",
   "id": "b7c82223",
   "metadata": {},
   "source": [
    "## Hypthesis 3\n",
    "¿Existe une relación entre las dificultades respiratorias y la función\n",
    "olfativa en individuos?\n",
    "\n",
    "English: Is there a relationship between breathing difficulties and olfactory function in individuals\n",
    "\n",
    "### Thought process\n",
    "Make a an olfactory score, summing the number of olfactory tests that were positive. \n",
    "Then, check if there is a correlation between the olfactory score and the breathing difficulties."
   ]
  },
  {
   "cell_type": "code",
   "execution_count": 10,
   "id": "8d1403c1",
   "metadata": {},
   "outputs": [
    {
     "data": {
      "text/plain": [
       "['Banana',\n",
       " 'Caramel',\n",
       " 'Mint',\n",
       " 'Orange',\n",
       " 'Pineapple',\n",
       " 'Vanilla',\n",
       " 'Olfactory Score',\n",
       " 'Breathing difficulty']"
      ]
     },
     "execution_count": 10,
     "metadata": {},
     "output_type": "execute_result"
    }
   ],
   "source": [
    "scents = [\"Banana\", \"Caramel\", \"Mint\", \"Orange\", \"Pineapple\", \"Vanilla\"]\n",
    "df = df.with_columns(\n",
    "    [\n",
    "       pl.sum_horizontal(pl.col(scent) for scent in scents).alias(\"Olfactory Score\"),\n",
    "    ]\n",
    ")\n",
    "olfactory_df = df.select(scents + [\"Olfactory Score\", \"Breathing difficulty\"])\n",
    "olfactory_df.columns"
   ]
  },
  {
   "cell_type": "code",
   "execution_count": 11,
   "id": "96cc135c",
   "metadata": {},
   "outputs": [
    {
     "data": {
      "application/vnd.plotly.v1+json": {
       "config": {
        "plotlyServerURL": "https://plot.ly"
       },
       "data": [
        {
         "alignmentgroup": "True",
         "hovertemplate": "Difficulties breathing=%{x}<br>Olfactory Score=%{y}<extra></extra>",
         "legendgroup": "No",
         "marker": {
          "color": "#636efa"
         },
         "name": "No",
         "notched": false,
         "offsetgroup": "No",
         "orientation": "v",
         "showlegend": true,
         "type": "box",
         "x": [
          "No",
          "No",
          "No",
          "No",
          "No",
          "No",
          "No",
          "No",
          "No",
          "No",
          "No",
          "No",
          "No",
          "No",
          "No",
          "No",
          "No",
          "No",
          "No",
          "No",
          "No",
          "No",
          "No",
          "No",
          "No",
          "No",
          "No",
          "No",
          "No",
          "No",
          "No",
          "No",
          "No",
          "No",
          "No",
          "No",
          "No",
          "No",
          "No",
          "No",
          "No",
          "No",
          "No",
          "No",
          "No",
          "No",
          "No",
          "No",
          "No",
          "No",
          "No",
          "No",
          "No",
          "No",
          "No",
          "No",
          "No",
          "No",
          "No",
          "No",
          "No",
          "No",
          "No",
          "No",
          "No",
          "No",
          "No",
          "No",
          "No",
          "No",
          "No",
          "No",
          "No",
          "No",
          "No",
          "No",
          "No",
          "No",
          "No",
          "No",
          "No",
          "No",
          "No",
          "No",
          "No",
          "No",
          "No",
          "No",
          "No",
          "No",
          "No",
          "No",
          "No",
          "No",
          "No",
          "No",
          "No",
          "No",
          "No",
          "No",
          "No",
          "No",
          "No",
          "No",
          "No",
          "No",
          "No",
          "No",
          "No",
          "No",
          "No",
          "No",
          "No",
          "No",
          "No",
          "No",
          "No",
          "No",
          "No",
          "No",
          "No",
          "No",
          "No",
          "No",
          "No",
          "No",
          "No",
          "No",
          "No",
          "No",
          "No",
          "No",
          "No",
          "No",
          "No",
          "No",
          "No",
          "No",
          "No",
          "No",
          "No",
          "No",
          "No",
          "No",
          "No",
          "No",
          "No",
          "No",
          "No",
          "No",
          "No",
          "No",
          "No",
          "No",
          "No",
          "No",
          "No",
          "No",
          "No",
          "No",
          "No",
          "No",
          "No",
          "No",
          "No",
          "No",
          "No",
          "No",
          "No",
          "No",
          "No",
          "No",
          "No",
          "No",
          "No",
          "No",
          "No",
          "No",
          "No",
          "No",
          "No",
          "No",
          "No",
          "No",
          "No",
          "No",
          "No",
          "No",
          "No",
          "No",
          "No",
          "No",
          "No",
          "No",
          "No",
          "No",
          "No",
          "No",
          "No",
          "No",
          "No",
          "No",
          "No",
          "No",
          "No",
          "No",
          "No",
          "No",
          "No",
          "No",
          "No",
          "No",
          "No",
          "No",
          "No",
          "No",
          "No",
          "No",
          "No",
          "No",
          "No",
          "No",
          "No",
          "No",
          "No",
          "No",
          "No",
          "No",
          "No",
          "No",
          "No",
          "No",
          "No",
          "No",
          "No",
          "No",
          "No",
          "No",
          "No",
          "No",
          "No",
          "No",
          "No",
          "No",
          "No",
          "No",
          "No",
          "No",
          "No",
          "No",
          "No",
          "No",
          "No",
          "No",
          "No",
          "No",
          "No",
          "No",
          "No",
          "No",
          "No",
          "No",
          "No",
          "No",
          "No",
          "No",
          "No",
          "No",
          "No",
          "No",
          "No",
          "No",
          "No",
          "No",
          "No",
          "No",
          "No",
          "No",
          "No",
          "No",
          "No",
          "No",
          "No",
          "No",
          "No",
          "No",
          "No",
          "No",
          "No",
          "No",
          "No",
          "No",
          "No",
          "No",
          "No",
          "No",
          "No",
          "No",
          "No",
          "No",
          "No",
          "No",
          "No",
          "No",
          "No",
          "No",
          "No",
          "No",
          "No",
          "No",
          "No",
          "No",
          "No",
          "No",
          "No",
          "No",
          "No",
          "No",
          "No",
          "No",
          "No",
          "No",
          "No",
          "No",
          "No",
          "No",
          "No",
          "No",
          "No",
          "No",
          "No",
          "No",
          "No",
          "No",
          "No",
          "No",
          "No",
          "No",
          "No",
          "No",
          "No",
          "No",
          "No",
          "No",
          "No",
          "No",
          "No",
          "No",
          "No",
          "No",
          "No",
          "No",
          "No",
          "No",
          "No",
          "No",
          "No",
          "No",
          "No",
          "No",
          "No",
          "No",
          "No",
          "No",
          "No",
          "No",
          "No",
          "No",
          "No",
          "No",
          "No",
          "No",
          "No",
          "No",
          "No",
          "No",
          "No",
          "No",
          "No",
          "No",
          "No",
          "No",
          "No",
          "No",
          "No",
          "No",
          "No",
          "No",
          "No",
          "No",
          "No",
          "No",
          "No",
          "No",
          "No",
          "No",
          "No",
          "No",
          "No",
          "No",
          "No",
          "No",
          "No",
          "No",
          "No",
          "No",
          "No",
          "No",
          "No",
          "No",
          "No",
          "No",
          "No",
          "No",
          "No",
          "No",
          "No",
          "No",
          "No",
          "No",
          "No",
          "No",
          "No",
          "No",
          "No",
          "No",
          "No",
          "No",
          "No",
          "No",
          "No",
          "No",
          "No",
          "No",
          "No",
          "No",
          "No",
          "No",
          "No",
          "No",
          "No",
          "No",
          "No",
          "No",
          "No",
          "No",
          "No",
          "No",
          "No",
          "No",
          "No",
          "No",
          "No",
          "No",
          "No",
          "No",
          "No",
          "No",
          "No",
          "No",
          "No",
          "No",
          "No",
          "No",
          "No",
          "No",
          "No",
          "No",
          "No",
          "No",
          "No",
          "No",
          "No",
          "No",
          "No",
          "No",
          "No",
          "No",
          "No",
          "No",
          "No",
          "No",
          "No",
          "No",
          "No",
          "No",
          "No",
          "No",
          "No",
          "No",
          "No",
          "No",
          "No",
          "No",
          "No",
          "No",
          "No",
          "No",
          "No",
          "No",
          "No",
          "No",
          "No",
          "No",
          "No",
          "No",
          "No",
          "No",
          "No",
          "No",
          "No",
          "No",
          "No",
          "No",
          "No",
          "No",
          "No",
          "No",
          "No",
          "No",
          "No",
          "No",
          "No",
          "No",
          "No",
          "No",
          "No",
          "No",
          "No",
          "No",
          "No",
          "No",
          "No",
          "No",
          "No",
          "No",
          "No",
          "No",
          "No",
          "No",
          "No",
          "No",
          "No",
          "No",
          "No",
          "No",
          "No",
          "No",
          "No",
          "No",
          "No",
          "No",
          "No",
          "No",
          "No",
          "No",
          "No",
          "No",
          "No",
          "No",
          "No",
          "No",
          "No",
          "No",
          "No",
          "No",
          "No",
          "No",
          "No",
          "No",
          "No",
          "No",
          "No",
          "No",
          "No",
          "No",
          "No",
          "No",
          "No",
          "No",
          "No",
          "No",
          "No",
          "No",
          "No",
          "No",
          "No",
          "No",
          "No",
          "No",
          "No",
          "No",
          "No",
          "No",
          "No",
          "No",
          "No",
          "No",
          "No",
          "No",
          "No",
          "No",
          "No",
          "No",
          "No",
          "No",
          "No",
          "No",
          "No",
          "No",
          "No",
          "No",
          "No",
          "No",
          "No",
          "No",
          "No",
          "No",
          "No",
          "No",
          "No",
          "No",
          "No",
          "No",
          "No",
          "No",
          "No",
          "No",
          "No",
          "No",
          "No",
          "No",
          "No",
          "No",
          "No",
          "No",
          "No",
          "No",
          "No",
          "No",
          "No",
          "No",
          "No",
          "No",
          "No",
          "No",
          "No",
          "No",
          "No",
          "No",
          "No",
          "No",
          "No",
          "No",
          "No",
          "No",
          "No",
          "No",
          "No",
          "No",
          "No",
          "No",
          "No",
          "No",
          "No",
          "No",
          "No",
          "No",
          "No",
          "No",
          "No",
          "No",
          "No",
          "No",
          "No",
          "No",
          "No",
          "No",
          "No",
          "No",
          "No",
          "No",
          "No",
          "No",
          "No",
          "No",
          "No",
          "No",
          "No",
          "No",
          "No",
          "No",
          "No",
          "No",
          "No",
          "No",
          "No",
          "No",
          "No",
          "No",
          "No",
          "No",
          "No",
          "No",
          "No",
          "No",
          "No",
          "No",
          "No",
          "No",
          "No",
          "No",
          "No",
          "No",
          "No",
          "No",
          "No",
          "No",
          "No",
          "No",
          "No",
          "No",
          "No",
          "No",
          "No",
          "No",
          "No",
          "No",
          "No",
          "No",
          "No",
          "No",
          "No",
          "No",
          "No",
          "No",
          "No",
          "No",
          "No",
          "No",
          "No",
          "No",
          "No",
          "No",
          "No",
          "No",
          "No",
          "No",
          "No",
          "No",
          "No",
          "No",
          "No",
          "No",
          "No",
          "No",
          "No",
          "No",
          "No",
          "No",
          "No",
          "No",
          "No",
          "No",
          "No",
          "No",
          "No",
          "No",
          "No",
          "No",
          "No",
          "No",
          "No",
          "No",
          "No",
          "No",
          "No",
          "No",
          "No",
          "No",
          "No",
          "No",
          "No",
          "No",
          "No",
          "No",
          "No",
          "No",
          "No",
          "No",
          "No",
          "No",
          "No",
          "No",
          "No",
          "No",
          "No"
         ],
         "x0": " ",
         "xaxis": "x",
         "y": {
          "bdata": "AwQEAwMFAgEEBgEFAgYCAwYFAwMFBgYGAwYFBQQGAgMFBAAFBQYBBgYFAQUDBgYBBAQDAAQCBgAEBAYGBgMFBAYCAQYEAwUFBgIFBAQDBQMEBAAGAgMAAwQFBAMEBQYEBQECBQYDBQIGBAYFBAAGBgYFAgUDBAQGAwMDAgEFBgYEBgUEBQUEAwIFBQUGBgMGBAYCAQMEAgIDAwABBAYFBgYGBAEGBQQFBQUFAQIFAQQFBQIEAwUDBgICBQIFBgYFAgYEBAMFBgYDBgQFBQYABQYEBgACAgADBgYBBgMGBAUGBgYDBgUFAQYGBgYBAwIEBAEGAwYEBQQCBQYBAwMGBgYFBQUFBQQGBgUGBQYGBgUFBQUFBgQFBgYFBgUFBgUGBQYGBgUFAQYGBgUGBQUGBgYFBgYGBgQFBAQGBAQGBQQFBgYFBgYGAwUEBgUGBAUGBQUGBgYGBQQGBAUGBAUFBgUEBAUGBgUFBgQGBAQGBAYGBQUGAwQDBQMGBgMGBgYFBQMFBQYGBQYFBgYGBQUEBQUGBgYFBgIEAwYGBgUGBQMFBgYGBQYGBAMGBAYEBgYGBAYFBAYFBgQGBQUGBQYFBAUGBgYGBgYEBgYFBQYEBQMGBQUGBAUEBQUFBgYGBgYEBgIFBgQGBgYGBQYFBQMFBgUDBgIFBgUGBgUFBQYGBQYDBgUGBgUGAwUFAwYFBQYEBAYBBAUGBgYEBgYGAwYGBAUEAAUFBQUFBgUGBQUGBgYCBQYFBgUGBgUFBgMGBgUGBgUFBgQGBgYFBQUGBgYGAgUFBgUGBgUFBgUGBgUGBQYFBQUGBQUGBQYGBQYGBQYEBQUGBgUFBgYGBQYEBAYGBgQFBgYFBAYGBgYEBgYFBgYGBAUFBAUEBgUFBgUGBQQGBgYFBgYGBgYGBAYFBQQCBQYDBgUGBgUAAwYGBgQDBgUGBgYEBgUFBAYGBgYFAwYFBgYFBQYFBAIGBgYGBgYFBQUGBQYGBQYGBQUFBQUFBgQGBQYDBQQGBgUGBQUGBQYCBQYGBgYGBAUFBgMFBQUGBgUGAwICBQUDBgUFBQY=",
          "dtype": "i1"
         },
         "y0": " ",
         "yaxis": "y"
        },
        {
         "alignmentgroup": "True",
         "hovertemplate": "Difficulties breathing=%{x}<br>Olfactory Score=%{y}<extra></extra>",
         "legendgroup": "Yes",
         "marker": {
          "color": "#EF553B"
         },
         "name": "Yes",
         "notched": false,
         "offsetgroup": "Yes",
         "orientation": "v",
         "showlegend": true,
         "type": "box",
         "x": [
          "Yes",
          "Yes",
          "Yes",
          "Yes",
          "Yes",
          "Yes",
          "Yes",
          "Yes",
          "Yes",
          "Yes",
          "Yes",
          "Yes",
          "Yes",
          "Yes",
          "Yes",
          "Yes",
          "Yes",
          "Yes",
          "Yes",
          "Yes",
          "Yes",
          "Yes",
          "Yes",
          "Yes",
          "Yes",
          "Yes",
          "Yes",
          "Yes",
          "Yes",
          "Yes",
          "Yes",
          "Yes",
          "Yes",
          "Yes",
          "Yes",
          "Yes",
          "Yes",
          "Yes",
          "Yes",
          "Yes",
          "Yes",
          "Yes",
          "Yes",
          "Yes",
          "Yes",
          "Yes",
          "Yes",
          "Yes",
          "Yes",
          "Yes",
          "Yes",
          "Yes",
          "Yes",
          "Yes",
          "Yes",
          "Yes",
          "Yes",
          "Yes",
          "Yes",
          "Yes",
          "Yes",
          "Yes",
          "Yes",
          "Yes",
          "Yes",
          "Yes",
          "Yes",
          "Yes",
          "Yes",
          "Yes",
          "Yes",
          "Yes",
          "Yes",
          "Yes",
          "Yes",
          "Yes",
          "Yes",
          "Yes",
          "Yes",
          "Yes",
          "Yes",
          "Yes",
          "Yes",
          "Yes",
          "Yes",
          "Yes",
          "Yes",
          "Yes",
          "Yes",
          "Yes",
          "Yes",
          "Yes",
          "Yes",
          "Yes",
          "Yes",
          "Yes",
          "Yes",
          "Yes",
          "Yes",
          "Yes",
          "Yes",
          "Yes",
          "Yes",
          "Yes",
          "Yes",
          "Yes",
          "Yes",
          "Yes",
          "Yes",
          "Yes",
          "Yes",
          "Yes",
          "Yes",
          "Yes",
          "Yes",
          "Yes",
          "Yes",
          "Yes",
          "Yes",
          "Yes",
          "Yes",
          "Yes",
          "Yes",
          "Yes",
          "Yes",
          "Yes",
          "Yes",
          "Yes",
          "Yes"
         ],
         "x0": " ",
         "xaxis": "x",
         "y": {
          "bdata": "AAUGAwYFAwEFBgAEBgQEBAUFBQQGBgYGAQUDBQEGBAYCBAUBAQUCAQMGBQEABAIEAgYAAQYFBgYGBgYGBgYGBgIFBAQGBgQGBQYGBAMFBgYGBQUFBgYGBQQGBgQGBgUFBQYEBQYGBgUFBgUEAwUGBQUCBgYGBAUGBAUGBQUFAwIE",
          "dtype": "i1"
         },
         "y0": " ",
         "yaxis": "y"
        }
       ],
       "layout": {
        "boxmode": "overlay",
        "legend": {
         "title": {
          "text": "Difficulties breathing"
         },
         "tracegroupgap": 0
        },
        "template": {
         "data": {
          "bar": [
           {
            "error_x": {
             "color": "#2a3f5f"
            },
            "error_y": {
             "color": "#2a3f5f"
            },
            "marker": {
             "line": {
              "color": "#E5ECF6",
              "width": 0.5
             },
             "pattern": {
              "fillmode": "overlay",
              "size": 10,
              "solidity": 0.2
             }
            },
            "type": "bar"
           }
          ],
          "barpolar": [
           {
            "marker": {
             "line": {
              "color": "#E5ECF6",
              "width": 0.5
             },
             "pattern": {
              "fillmode": "overlay",
              "size": 10,
              "solidity": 0.2
             }
            },
            "type": "barpolar"
           }
          ],
          "carpet": [
           {
            "aaxis": {
             "endlinecolor": "#2a3f5f",
             "gridcolor": "white",
             "linecolor": "white",
             "minorgridcolor": "white",
             "startlinecolor": "#2a3f5f"
            },
            "baxis": {
             "endlinecolor": "#2a3f5f",
             "gridcolor": "white",
             "linecolor": "white",
             "minorgridcolor": "white",
             "startlinecolor": "#2a3f5f"
            },
            "type": "carpet"
           }
          ],
          "choropleth": [
           {
            "colorbar": {
             "outlinewidth": 0,
             "ticks": ""
            },
            "type": "choropleth"
           }
          ],
          "contour": [
           {
            "colorbar": {
             "outlinewidth": 0,
             "ticks": ""
            },
            "colorscale": [
             [
              0,
              "#0d0887"
             ],
             [
              0.1111111111111111,
              "#46039f"
             ],
             [
              0.2222222222222222,
              "#7201a8"
             ],
             [
              0.3333333333333333,
              "#9c179e"
             ],
             [
              0.4444444444444444,
              "#bd3786"
             ],
             [
              0.5555555555555556,
              "#d8576b"
             ],
             [
              0.6666666666666666,
              "#ed7953"
             ],
             [
              0.7777777777777778,
              "#fb9f3a"
             ],
             [
              0.8888888888888888,
              "#fdca26"
             ],
             [
              1,
              "#f0f921"
             ]
            ],
            "type": "contour"
           }
          ],
          "contourcarpet": [
           {
            "colorbar": {
             "outlinewidth": 0,
             "ticks": ""
            },
            "type": "contourcarpet"
           }
          ],
          "heatmap": [
           {
            "colorbar": {
             "outlinewidth": 0,
             "ticks": ""
            },
            "colorscale": [
             [
              0,
              "#0d0887"
             ],
             [
              0.1111111111111111,
              "#46039f"
             ],
             [
              0.2222222222222222,
              "#7201a8"
             ],
             [
              0.3333333333333333,
              "#9c179e"
             ],
             [
              0.4444444444444444,
              "#bd3786"
             ],
             [
              0.5555555555555556,
              "#d8576b"
             ],
             [
              0.6666666666666666,
              "#ed7953"
             ],
             [
              0.7777777777777778,
              "#fb9f3a"
             ],
             [
              0.8888888888888888,
              "#fdca26"
             ],
             [
              1,
              "#f0f921"
             ]
            ],
            "type": "heatmap"
           }
          ],
          "histogram": [
           {
            "marker": {
             "pattern": {
              "fillmode": "overlay",
              "size": 10,
              "solidity": 0.2
             }
            },
            "type": "histogram"
           }
          ],
          "histogram2d": [
           {
            "colorbar": {
             "outlinewidth": 0,
             "ticks": ""
            },
            "colorscale": [
             [
              0,
              "#0d0887"
             ],
             [
              0.1111111111111111,
              "#46039f"
             ],
             [
              0.2222222222222222,
              "#7201a8"
             ],
             [
              0.3333333333333333,
              "#9c179e"
             ],
             [
              0.4444444444444444,
              "#bd3786"
             ],
             [
              0.5555555555555556,
              "#d8576b"
             ],
             [
              0.6666666666666666,
              "#ed7953"
             ],
             [
              0.7777777777777778,
              "#fb9f3a"
             ],
             [
              0.8888888888888888,
              "#fdca26"
             ],
             [
              1,
              "#f0f921"
             ]
            ],
            "type": "histogram2d"
           }
          ],
          "histogram2dcontour": [
           {
            "colorbar": {
             "outlinewidth": 0,
             "ticks": ""
            },
            "colorscale": [
             [
              0,
              "#0d0887"
             ],
             [
              0.1111111111111111,
              "#46039f"
             ],
             [
              0.2222222222222222,
              "#7201a8"
             ],
             [
              0.3333333333333333,
              "#9c179e"
             ],
             [
              0.4444444444444444,
              "#bd3786"
             ],
             [
              0.5555555555555556,
              "#d8576b"
             ],
             [
              0.6666666666666666,
              "#ed7953"
             ],
             [
              0.7777777777777778,
              "#fb9f3a"
             ],
             [
              0.8888888888888888,
              "#fdca26"
             ],
             [
              1,
              "#f0f921"
             ]
            ],
            "type": "histogram2dcontour"
           }
          ],
          "mesh3d": [
           {
            "colorbar": {
             "outlinewidth": 0,
             "ticks": ""
            },
            "type": "mesh3d"
           }
          ],
          "parcoords": [
           {
            "line": {
             "colorbar": {
              "outlinewidth": 0,
              "ticks": ""
             }
            },
            "type": "parcoords"
           }
          ],
          "pie": [
           {
            "automargin": true,
            "type": "pie"
           }
          ],
          "scatter": [
           {
            "fillpattern": {
             "fillmode": "overlay",
             "size": 10,
             "solidity": 0.2
            },
            "type": "scatter"
           }
          ],
          "scatter3d": [
           {
            "line": {
             "colorbar": {
              "outlinewidth": 0,
              "ticks": ""
             }
            },
            "marker": {
             "colorbar": {
              "outlinewidth": 0,
              "ticks": ""
             }
            },
            "type": "scatter3d"
           }
          ],
          "scattercarpet": [
           {
            "marker": {
             "colorbar": {
              "outlinewidth": 0,
              "ticks": ""
             }
            },
            "type": "scattercarpet"
           }
          ],
          "scattergeo": [
           {
            "marker": {
             "colorbar": {
              "outlinewidth": 0,
              "ticks": ""
             }
            },
            "type": "scattergeo"
           }
          ],
          "scattergl": [
           {
            "marker": {
             "colorbar": {
              "outlinewidth": 0,
              "ticks": ""
             }
            },
            "type": "scattergl"
           }
          ],
          "scattermap": [
           {
            "marker": {
             "colorbar": {
              "outlinewidth": 0,
              "ticks": ""
             }
            },
            "type": "scattermap"
           }
          ],
          "scattermapbox": [
           {
            "marker": {
             "colorbar": {
              "outlinewidth": 0,
              "ticks": ""
             }
            },
            "type": "scattermapbox"
           }
          ],
          "scatterpolar": [
           {
            "marker": {
             "colorbar": {
              "outlinewidth": 0,
              "ticks": ""
             }
            },
            "type": "scatterpolar"
           }
          ],
          "scatterpolargl": [
           {
            "marker": {
             "colorbar": {
              "outlinewidth": 0,
              "ticks": ""
             }
            },
            "type": "scatterpolargl"
           }
          ],
          "scatterternary": [
           {
            "marker": {
             "colorbar": {
              "outlinewidth": 0,
              "ticks": ""
             }
            },
            "type": "scatterternary"
           }
          ],
          "surface": [
           {
            "colorbar": {
             "outlinewidth": 0,
             "ticks": ""
            },
            "colorscale": [
             [
              0,
              "#0d0887"
             ],
             [
              0.1111111111111111,
              "#46039f"
             ],
             [
              0.2222222222222222,
              "#7201a8"
             ],
             [
              0.3333333333333333,
              "#9c179e"
             ],
             [
              0.4444444444444444,
              "#bd3786"
             ],
             [
              0.5555555555555556,
              "#d8576b"
             ],
             [
              0.6666666666666666,
              "#ed7953"
             ],
             [
              0.7777777777777778,
              "#fb9f3a"
             ],
             [
              0.8888888888888888,
              "#fdca26"
             ],
             [
              1,
              "#f0f921"
             ]
            ],
            "type": "surface"
           }
          ],
          "table": [
           {
            "cells": {
             "fill": {
              "color": "#EBF0F8"
             },
             "line": {
              "color": "white"
             }
            },
            "header": {
             "fill": {
              "color": "#C8D4E3"
             },
             "line": {
              "color": "white"
             }
            },
            "type": "table"
           }
          ]
         },
         "layout": {
          "annotationdefaults": {
           "arrowcolor": "#2a3f5f",
           "arrowhead": 0,
           "arrowwidth": 1
          },
          "autotypenumbers": "strict",
          "coloraxis": {
           "colorbar": {
            "outlinewidth": 0,
            "ticks": ""
           }
          },
          "colorscale": {
           "diverging": [
            [
             0,
             "#8e0152"
            ],
            [
             0.1,
             "#c51b7d"
            ],
            [
             0.2,
             "#de77ae"
            ],
            [
             0.3,
             "#f1b6da"
            ],
            [
             0.4,
             "#fde0ef"
            ],
            [
             0.5,
             "#f7f7f7"
            ],
            [
             0.6,
             "#e6f5d0"
            ],
            [
             0.7,
             "#b8e186"
            ],
            [
             0.8,
             "#7fbc41"
            ],
            [
             0.9,
             "#4d9221"
            ],
            [
             1,
             "#276419"
            ]
           ],
           "sequential": [
            [
             0,
             "#0d0887"
            ],
            [
             0.1111111111111111,
             "#46039f"
            ],
            [
             0.2222222222222222,
             "#7201a8"
            ],
            [
             0.3333333333333333,
             "#9c179e"
            ],
            [
             0.4444444444444444,
             "#bd3786"
            ],
            [
             0.5555555555555556,
             "#d8576b"
            ],
            [
             0.6666666666666666,
             "#ed7953"
            ],
            [
             0.7777777777777778,
             "#fb9f3a"
            ],
            [
             0.8888888888888888,
             "#fdca26"
            ],
            [
             1,
             "#f0f921"
            ]
           ],
           "sequentialminus": [
            [
             0,
             "#0d0887"
            ],
            [
             0.1111111111111111,
             "#46039f"
            ],
            [
             0.2222222222222222,
             "#7201a8"
            ],
            [
             0.3333333333333333,
             "#9c179e"
            ],
            [
             0.4444444444444444,
             "#bd3786"
            ],
            [
             0.5555555555555556,
             "#d8576b"
            ],
            [
             0.6666666666666666,
             "#ed7953"
            ],
            [
             0.7777777777777778,
             "#fb9f3a"
            ],
            [
             0.8888888888888888,
             "#fdca26"
            ],
            [
             1,
             "#f0f921"
            ]
           ]
          },
          "colorway": [
           "#636efa",
           "#EF553B",
           "#00cc96",
           "#ab63fa",
           "#FFA15A",
           "#19d3f3",
           "#FF6692",
           "#B6E880",
           "#FF97FF",
           "#FECB52"
          ],
          "font": {
           "color": "#2a3f5f"
          },
          "geo": {
           "bgcolor": "white",
           "lakecolor": "white",
           "landcolor": "#E5ECF6",
           "showlakes": true,
           "showland": true,
           "subunitcolor": "white"
          },
          "hoverlabel": {
           "align": "left"
          },
          "hovermode": "closest",
          "mapbox": {
           "style": "light"
          },
          "paper_bgcolor": "white",
          "plot_bgcolor": "#E5ECF6",
          "polar": {
           "angularaxis": {
            "gridcolor": "white",
            "linecolor": "white",
            "ticks": ""
           },
           "bgcolor": "#E5ECF6",
           "radialaxis": {
            "gridcolor": "white",
            "linecolor": "white",
            "ticks": ""
           }
          },
          "scene": {
           "xaxis": {
            "backgroundcolor": "#E5ECF6",
            "gridcolor": "white",
            "gridwidth": 2,
            "linecolor": "white",
            "showbackground": true,
            "ticks": "",
            "zerolinecolor": "white"
           },
           "yaxis": {
            "backgroundcolor": "#E5ECF6",
            "gridcolor": "white",
            "gridwidth": 2,
            "linecolor": "white",
            "showbackground": true,
            "ticks": "",
            "zerolinecolor": "white"
           },
           "zaxis": {
            "backgroundcolor": "#E5ECF6",
            "gridcolor": "white",
            "gridwidth": 2,
            "linecolor": "white",
            "showbackground": true,
            "ticks": "",
            "zerolinecolor": "white"
           }
          },
          "shapedefaults": {
           "line": {
            "color": "#2a3f5f"
           }
          },
          "ternary": {
           "aaxis": {
            "gridcolor": "white",
            "linecolor": "white",
            "ticks": ""
           },
           "baxis": {
            "gridcolor": "white",
            "linecolor": "white",
            "ticks": ""
           },
           "bgcolor": "#E5ECF6",
           "caxis": {
            "gridcolor": "white",
            "linecolor": "white",
            "ticks": ""
           }
          },
          "title": {
           "x": 0.05
          },
          "xaxis": {
           "automargin": true,
           "gridcolor": "white",
           "linecolor": "white",
           "ticks": "",
           "title": {
            "standoff": 15
           },
           "zerolinecolor": "white",
           "zerolinewidth": 2
          },
          "yaxis": {
           "automargin": true,
           "gridcolor": "white",
           "linecolor": "white",
           "ticks": "",
           "title": {
            "standoff": 15
           },
           "zerolinecolor": "white",
           "zerolinewidth": 2
          }
         }
        },
        "title": {
         "text": "Olfactory Score by Breathing Difficulty"
        },
        "xaxis": {
         "anchor": "y",
         "categoryarray": [
          "No",
          "Yes"
         ],
         "categoryorder": "array",
         "domain": [
          0,
          1
         ],
         "title": {
          "text": "Difficulties breathing"
         }
        },
        "yaxis": {
         "anchor": "x",
         "domain": [
          0,
          1
         ],
         "title": {
          "text": "Olfactory Score"
         }
        }
       }
      }
     },
     "metadata": {},
     "output_type": "display_data"
    }
   ],
   "source": [
    "olfactory_df = olfactory_df.with_columns(\n",
    "    pl.when(pl.col(\"Breathing difficulty\") == 1)\n",
    "    .then(pl.lit(\"Yes\"))\n",
    "    .otherwise(pl.lit(\"No\"))\n",
    "    .alias(\"Difficulties breathing\")\n",
    ")\n",
    "\n",
    "fig = px.box(\n",
    "    olfactory_df,\n",
    "    x=\"Difficulties breathing\",\n",
    "    y=\"Olfactory Score\",\n",
    "    color=\"Difficulties breathing\",\n",
    "    title=\"Olfactory Score by Breathing Difficulty\",\n",
    "    # range_y=[0, 6],\n",
    ")\n",
    "fig.show()"
   ]
  },
  {
   "cell_type": "code",
   "execution_count": 12,
   "id": "3e500e08",
   "metadata": {},
   "outputs": [
    {
     "data": {
      "text/html": [
       "<div><style>\n",
       ".dataframe > thead > tr,\n",
       ".dataframe > tbody > tr {\n",
       "  text-align: right;\n",
       "  white-space: pre-wrap;\n",
       "}\n",
       "</style>\n",
       "<small>shape: (14, 3)</small><table border=\"1\" class=\"dataframe\"><thead><tr><th>Olfactory Score</th><th>Group</th><th>Count</th></tr><tr><td>i64</td><td>str</td><td>i64</td></tr></thead><tbody><tr><td>0</td><td>&quot;Difficulties Breathing&quot;</td><td>4</td></tr><tr><td>0</td><td>&quot;No Difficulties Breathing&quot;</td><td>12</td></tr><tr><td>1</td><td>&quot;Difficulties Breathing&quot;</td><td>8</td></tr><tr><td>1</td><td>&quot;No Difficulties Breathing&quot;</td><td>20</td></tr><tr><td>2</td><td>&quot;Difficulties Breathing&quot;</td><td>7</td></tr><tr><td>&hellip;</td><td>&hellip;</td><td>&hellip;</td></tr><tr><td>4</td><td>&quot;No Difficulties Breathing&quot;</td><td>104</td></tr><tr><td>5</td><td>&quot;Difficulties Breathing&quot;</td><td>34</td></tr><tr><td>5</td><td>&quot;No Difficulties Breathing&quot;</td><td>241</td></tr><tr><td>6</td><td>&quot;Difficulties Breathing&quot;</td><td>49</td></tr><tr><td>6</td><td>&quot;No Difficulties Breathing&quot;</td><td>321</td></tr></tbody></table></div>"
      ],
      "text/plain": [
       "shape: (14, 3)\n",
       "┌─────────────────┬───────────────────────────┬───────┐\n",
       "│ Olfactory Score ┆ Group                     ┆ Count │\n",
       "│ ---             ┆ ---                       ┆ ---   │\n",
       "│ i64             ┆ str                       ┆ i64   │\n",
       "╞═════════════════╪═══════════════════════════╪═══════╡\n",
       "│ 0               ┆ Difficulties Breathing    ┆ 4     │\n",
       "│ 0               ┆ No Difficulties Breathing ┆ 12    │\n",
       "│ 1               ┆ Difficulties Breathing    ┆ 8     │\n",
       "│ 1               ┆ No Difficulties Breathing ┆ 20    │\n",
       "│ 2               ┆ Difficulties Breathing    ┆ 7     │\n",
       "│ …               ┆ …                         ┆ …     │\n",
       "│ 4               ┆ No Difficulties Breathing ┆ 104   │\n",
       "│ 5               ┆ Difficulties Breathing    ┆ 34    │\n",
       "│ 5               ┆ No Difficulties Breathing ┆ 241   │\n",
       "│ 6               ┆ Difficulties Breathing    ┆ 49    │\n",
       "│ 6               ┆ No Difficulties Breathing ┆ 321   │\n",
       "└─────────────────┴───────────────────────────┴───────┘"
      ]
     },
     "execution_count": 12,
     "metadata": {},
     "output_type": "execute_result"
    }
   ],
   "source": [
    "olfactory_scores = [0, 1, 2, 3, 4, 5, 6]\n",
    "olfactory_data = {\n",
    "    \"Olfactory Score\": [],\n",
    "    \"Group\": [],\n",
    "    \"Count\": []\n",
    "}\n",
    "\n",
    "for score in olfactory_scores:\n",
    "    olfactory_data[\"Olfactory Score\"].append(score)\n",
    "    olfactory_data[\"Group\"].append(\"Difficulties Breathing\")\n",
    "    olfactory_data[\"Count\"].append(df.filter(pl.col(\"Breathing difficulty\") == 1).filter(pl.col(\"Olfactory Score\") == score).shape[0])\n",
    "    \n",
    "    olfactory_data[\"Olfactory Score\"].append(score)\n",
    "    olfactory_data[\"Group\"].append(\"No Difficulties Breathing\")\n",
    "    olfactory_data[\"Count\"].append(df.filter(pl.col(\"Breathing difficulty\") == 0).filter(pl.col(\"Olfactory Score\") == score).shape[0])\n",
    "    \n",
    "olfactory_df = pl.from_dict(olfactory_data)\n",
    "olfactory_df\n"
   ]
  },
  {
   "cell_type": "code",
   "execution_count": 13,
   "id": "1a503eae",
   "metadata": {},
   "outputs": [
    {
     "data": {
      "application/vnd.plotly.v1+json": {
       "config": {
        "plotlyServerURL": "https://plot.ly"
       },
       "data": [
        {
         "alignmentgroup": "True",
         "hovertemplate": "Group=Difficulties Breathing<br>Olfactory Score=%{x}<br>Count of Patients=%{text}<extra></extra>",
         "legendgroup": "Difficulties Breathing",
         "marker": {
          "color": "#636efa",
          "pattern": {
           "shape": ""
          }
         },
         "name": "Difficulties Breathing",
         "offsetgroup": "Difficulties Breathing",
         "orientation": "v",
         "showlegend": true,
         "text": {
          "bdata": "AAAAAAAAEEAAAAAAAAAgQAAAAAAAABxAAAAAAAAAHEAAAAAAAAA0QAAAAAAAAEFAAAAAAACASEA=",
          "dtype": "f8"
         },
         "textposition": "auto",
         "type": "bar",
         "x": {
          "bdata": "AAECAwQFBg==",
          "dtype": "i1"
         },
         "xaxis": "x",
         "y": {
          "bdata": "BAgHBxQiMQ==",
          "dtype": "i1"
         },
         "yaxis": "y"
        },
        {
         "alignmentgroup": "True",
         "hovertemplate": "Group=No Difficulties Breathing<br>Olfactory Score=%{x}<br>Count of Patients=%{text}<extra></extra>",
         "legendgroup": "No Difficulties Breathing",
         "marker": {
          "color": "#EF553B",
          "pattern": {
           "shape": ""
          }
         },
         "name": "No Difficulties Breathing",
         "offsetgroup": "No Difficulties Breathing",
         "orientation": "v",
         "showlegend": true,
         "text": {
          "bdata": "AAAAAAAAKEAAAAAAAAA0QAAAAAAAAEJAAAAAAACAT0AAAAAAAABaQAAAAAAAIG5AAAAAAAAQdEA=",
          "dtype": "f8"
         },
         "textposition": "auto",
         "type": "bar",
         "x": {
          "bdata": "AAECAwQFBg==",
          "dtype": "i1"
         },
         "xaxis": "x",
         "y": {
          "bdata": "DAAUACQAPwBoAPEAQQE=",
          "dtype": "i2"
         },
         "yaxis": "y"
        }
       ],
       "layout": {
        "barmode": "group",
        "legend": {
         "title": {
          "text": "Group"
         },
         "tracegroupgap": 0
        },
        "template": {
         "data": {
          "bar": [
           {
            "error_x": {
             "color": "#2a3f5f"
            },
            "error_y": {
             "color": "#2a3f5f"
            },
            "marker": {
             "line": {
              "color": "#E5ECF6",
              "width": 0.5
             },
             "pattern": {
              "fillmode": "overlay",
              "size": 10,
              "solidity": 0.2
             }
            },
            "type": "bar"
           }
          ],
          "barpolar": [
           {
            "marker": {
             "line": {
              "color": "#E5ECF6",
              "width": 0.5
             },
             "pattern": {
              "fillmode": "overlay",
              "size": 10,
              "solidity": 0.2
             }
            },
            "type": "barpolar"
           }
          ],
          "carpet": [
           {
            "aaxis": {
             "endlinecolor": "#2a3f5f",
             "gridcolor": "white",
             "linecolor": "white",
             "minorgridcolor": "white",
             "startlinecolor": "#2a3f5f"
            },
            "baxis": {
             "endlinecolor": "#2a3f5f",
             "gridcolor": "white",
             "linecolor": "white",
             "minorgridcolor": "white",
             "startlinecolor": "#2a3f5f"
            },
            "type": "carpet"
           }
          ],
          "choropleth": [
           {
            "colorbar": {
             "outlinewidth": 0,
             "ticks": ""
            },
            "type": "choropleth"
           }
          ],
          "contour": [
           {
            "colorbar": {
             "outlinewidth": 0,
             "ticks": ""
            },
            "colorscale": [
             [
              0,
              "#0d0887"
             ],
             [
              0.1111111111111111,
              "#46039f"
             ],
             [
              0.2222222222222222,
              "#7201a8"
             ],
             [
              0.3333333333333333,
              "#9c179e"
             ],
             [
              0.4444444444444444,
              "#bd3786"
             ],
             [
              0.5555555555555556,
              "#d8576b"
             ],
             [
              0.6666666666666666,
              "#ed7953"
             ],
             [
              0.7777777777777778,
              "#fb9f3a"
             ],
             [
              0.8888888888888888,
              "#fdca26"
             ],
             [
              1,
              "#f0f921"
             ]
            ],
            "type": "contour"
           }
          ],
          "contourcarpet": [
           {
            "colorbar": {
             "outlinewidth": 0,
             "ticks": ""
            },
            "type": "contourcarpet"
           }
          ],
          "heatmap": [
           {
            "colorbar": {
             "outlinewidth": 0,
             "ticks": ""
            },
            "colorscale": [
             [
              0,
              "#0d0887"
             ],
             [
              0.1111111111111111,
              "#46039f"
             ],
             [
              0.2222222222222222,
              "#7201a8"
             ],
             [
              0.3333333333333333,
              "#9c179e"
             ],
             [
              0.4444444444444444,
              "#bd3786"
             ],
             [
              0.5555555555555556,
              "#d8576b"
             ],
             [
              0.6666666666666666,
              "#ed7953"
             ],
             [
              0.7777777777777778,
              "#fb9f3a"
             ],
             [
              0.8888888888888888,
              "#fdca26"
             ],
             [
              1,
              "#f0f921"
             ]
            ],
            "type": "heatmap"
           }
          ],
          "histogram": [
           {
            "marker": {
             "pattern": {
              "fillmode": "overlay",
              "size": 10,
              "solidity": 0.2
             }
            },
            "type": "histogram"
           }
          ],
          "histogram2d": [
           {
            "colorbar": {
             "outlinewidth": 0,
             "ticks": ""
            },
            "colorscale": [
             [
              0,
              "#0d0887"
             ],
             [
              0.1111111111111111,
              "#46039f"
             ],
             [
              0.2222222222222222,
              "#7201a8"
             ],
             [
              0.3333333333333333,
              "#9c179e"
             ],
             [
              0.4444444444444444,
              "#bd3786"
             ],
             [
              0.5555555555555556,
              "#d8576b"
             ],
             [
              0.6666666666666666,
              "#ed7953"
             ],
             [
              0.7777777777777778,
              "#fb9f3a"
             ],
             [
              0.8888888888888888,
              "#fdca26"
             ],
             [
              1,
              "#f0f921"
             ]
            ],
            "type": "histogram2d"
           }
          ],
          "histogram2dcontour": [
           {
            "colorbar": {
             "outlinewidth": 0,
             "ticks": ""
            },
            "colorscale": [
             [
              0,
              "#0d0887"
             ],
             [
              0.1111111111111111,
              "#46039f"
             ],
             [
              0.2222222222222222,
              "#7201a8"
             ],
             [
              0.3333333333333333,
              "#9c179e"
             ],
             [
              0.4444444444444444,
              "#bd3786"
             ],
             [
              0.5555555555555556,
              "#d8576b"
             ],
             [
              0.6666666666666666,
              "#ed7953"
             ],
             [
              0.7777777777777778,
              "#fb9f3a"
             ],
             [
              0.8888888888888888,
              "#fdca26"
             ],
             [
              1,
              "#f0f921"
             ]
            ],
            "type": "histogram2dcontour"
           }
          ],
          "mesh3d": [
           {
            "colorbar": {
             "outlinewidth": 0,
             "ticks": ""
            },
            "type": "mesh3d"
           }
          ],
          "parcoords": [
           {
            "line": {
             "colorbar": {
              "outlinewidth": 0,
              "ticks": ""
             }
            },
            "type": "parcoords"
           }
          ],
          "pie": [
           {
            "automargin": true,
            "type": "pie"
           }
          ],
          "scatter": [
           {
            "fillpattern": {
             "fillmode": "overlay",
             "size": 10,
             "solidity": 0.2
            },
            "type": "scatter"
           }
          ],
          "scatter3d": [
           {
            "line": {
             "colorbar": {
              "outlinewidth": 0,
              "ticks": ""
             }
            },
            "marker": {
             "colorbar": {
              "outlinewidth": 0,
              "ticks": ""
             }
            },
            "type": "scatter3d"
           }
          ],
          "scattercarpet": [
           {
            "marker": {
             "colorbar": {
              "outlinewidth": 0,
              "ticks": ""
             }
            },
            "type": "scattercarpet"
           }
          ],
          "scattergeo": [
           {
            "marker": {
             "colorbar": {
              "outlinewidth": 0,
              "ticks": ""
             }
            },
            "type": "scattergeo"
           }
          ],
          "scattergl": [
           {
            "marker": {
             "colorbar": {
              "outlinewidth": 0,
              "ticks": ""
             }
            },
            "type": "scattergl"
           }
          ],
          "scattermap": [
           {
            "marker": {
             "colorbar": {
              "outlinewidth": 0,
              "ticks": ""
             }
            },
            "type": "scattermap"
           }
          ],
          "scattermapbox": [
           {
            "marker": {
             "colorbar": {
              "outlinewidth": 0,
              "ticks": ""
             }
            },
            "type": "scattermapbox"
           }
          ],
          "scatterpolar": [
           {
            "marker": {
             "colorbar": {
              "outlinewidth": 0,
              "ticks": ""
             }
            },
            "type": "scatterpolar"
           }
          ],
          "scatterpolargl": [
           {
            "marker": {
             "colorbar": {
              "outlinewidth": 0,
              "ticks": ""
             }
            },
            "type": "scatterpolargl"
           }
          ],
          "scatterternary": [
           {
            "marker": {
             "colorbar": {
              "outlinewidth": 0,
              "ticks": ""
             }
            },
            "type": "scatterternary"
           }
          ],
          "surface": [
           {
            "colorbar": {
             "outlinewidth": 0,
             "ticks": ""
            },
            "colorscale": [
             [
              0,
              "#0d0887"
             ],
             [
              0.1111111111111111,
              "#46039f"
             ],
             [
              0.2222222222222222,
              "#7201a8"
             ],
             [
              0.3333333333333333,
              "#9c179e"
             ],
             [
              0.4444444444444444,
              "#bd3786"
             ],
             [
              0.5555555555555556,
              "#d8576b"
             ],
             [
              0.6666666666666666,
              "#ed7953"
             ],
             [
              0.7777777777777778,
              "#fb9f3a"
             ],
             [
              0.8888888888888888,
              "#fdca26"
             ],
             [
              1,
              "#f0f921"
             ]
            ],
            "type": "surface"
           }
          ],
          "table": [
           {
            "cells": {
             "fill": {
              "color": "#EBF0F8"
             },
             "line": {
              "color": "white"
             }
            },
            "header": {
             "fill": {
              "color": "#C8D4E3"
             },
             "line": {
              "color": "white"
             }
            },
            "type": "table"
           }
          ]
         },
         "layout": {
          "annotationdefaults": {
           "arrowcolor": "#2a3f5f",
           "arrowhead": 0,
           "arrowwidth": 1
          },
          "autotypenumbers": "strict",
          "coloraxis": {
           "colorbar": {
            "outlinewidth": 0,
            "ticks": ""
           }
          },
          "colorscale": {
           "diverging": [
            [
             0,
             "#8e0152"
            ],
            [
             0.1,
             "#c51b7d"
            ],
            [
             0.2,
             "#de77ae"
            ],
            [
             0.3,
             "#f1b6da"
            ],
            [
             0.4,
             "#fde0ef"
            ],
            [
             0.5,
             "#f7f7f7"
            ],
            [
             0.6,
             "#e6f5d0"
            ],
            [
             0.7,
             "#b8e186"
            ],
            [
             0.8,
             "#7fbc41"
            ],
            [
             0.9,
             "#4d9221"
            ],
            [
             1,
             "#276419"
            ]
           ],
           "sequential": [
            [
             0,
             "#0d0887"
            ],
            [
             0.1111111111111111,
             "#46039f"
            ],
            [
             0.2222222222222222,
             "#7201a8"
            ],
            [
             0.3333333333333333,
             "#9c179e"
            ],
            [
             0.4444444444444444,
             "#bd3786"
            ],
            [
             0.5555555555555556,
             "#d8576b"
            ],
            [
             0.6666666666666666,
             "#ed7953"
            ],
            [
             0.7777777777777778,
             "#fb9f3a"
            ],
            [
             0.8888888888888888,
             "#fdca26"
            ],
            [
             1,
             "#f0f921"
            ]
           ],
           "sequentialminus": [
            [
             0,
             "#0d0887"
            ],
            [
             0.1111111111111111,
             "#46039f"
            ],
            [
             0.2222222222222222,
             "#7201a8"
            ],
            [
             0.3333333333333333,
             "#9c179e"
            ],
            [
             0.4444444444444444,
             "#bd3786"
            ],
            [
             0.5555555555555556,
             "#d8576b"
            ],
            [
             0.6666666666666666,
             "#ed7953"
            ],
            [
             0.7777777777777778,
             "#fb9f3a"
            ],
            [
             0.8888888888888888,
             "#fdca26"
            ],
            [
             1,
             "#f0f921"
            ]
           ]
          },
          "colorway": [
           "#636efa",
           "#EF553B",
           "#00cc96",
           "#ab63fa",
           "#FFA15A",
           "#19d3f3",
           "#FF6692",
           "#B6E880",
           "#FF97FF",
           "#FECB52"
          ],
          "font": {
           "color": "#2a3f5f"
          },
          "geo": {
           "bgcolor": "white",
           "lakecolor": "white",
           "landcolor": "#E5ECF6",
           "showlakes": true,
           "showland": true,
           "subunitcolor": "white"
          },
          "hoverlabel": {
           "align": "left"
          },
          "hovermode": "closest",
          "mapbox": {
           "style": "light"
          },
          "paper_bgcolor": "white",
          "plot_bgcolor": "#E5ECF6",
          "polar": {
           "angularaxis": {
            "gridcolor": "white",
            "linecolor": "white",
            "ticks": ""
           },
           "bgcolor": "#E5ECF6",
           "radialaxis": {
            "gridcolor": "white",
            "linecolor": "white",
            "ticks": ""
           }
          },
          "scene": {
           "xaxis": {
            "backgroundcolor": "#E5ECF6",
            "gridcolor": "white",
            "gridwidth": 2,
            "linecolor": "white",
            "showbackground": true,
            "ticks": "",
            "zerolinecolor": "white"
           },
           "yaxis": {
            "backgroundcolor": "#E5ECF6",
            "gridcolor": "white",
            "gridwidth": 2,
            "linecolor": "white",
            "showbackground": true,
            "ticks": "",
            "zerolinecolor": "white"
           },
           "zaxis": {
            "backgroundcolor": "#E5ECF6",
            "gridcolor": "white",
            "gridwidth": 2,
            "linecolor": "white",
            "showbackground": true,
            "ticks": "",
            "zerolinecolor": "white"
           }
          },
          "shapedefaults": {
           "line": {
            "color": "#2a3f5f"
           }
          },
          "ternary": {
           "aaxis": {
            "gridcolor": "white",
            "linecolor": "white",
            "ticks": ""
           },
           "baxis": {
            "gridcolor": "white",
            "linecolor": "white",
            "ticks": ""
           },
           "bgcolor": "#E5ECF6",
           "caxis": {
            "gridcolor": "white",
            "linecolor": "white",
            "ticks": ""
           }
          },
          "title": {
           "x": 0.05
          },
          "xaxis": {
           "automargin": true,
           "gridcolor": "white",
           "linecolor": "white",
           "ticks": "",
           "title": {
            "standoff": 15
           },
           "zerolinecolor": "white",
           "zerolinewidth": 2
          },
          "yaxis": {
           "automargin": true,
           "gridcolor": "white",
           "linecolor": "white",
           "ticks": "",
           "title": {
            "standoff": 15
           },
           "zerolinecolor": "white",
           "zerolinewidth": 2
          }
         }
        },
        "title": {
         "text": "Olfactory Score by Breathing Difficulty"
        },
        "xaxis": {
         "anchor": "y",
         "domain": [
          0,
          1
         ],
         "title": {
          "text": "Olfactory Score"
         }
        },
        "yaxis": {
         "anchor": "x",
         "domain": [
          0,
          1
         ],
         "title": {
          "text": "Count of Patients"
         }
        }
       }
      }
     },
     "metadata": {},
     "output_type": "display_data"
    }
   ],
   "source": [
    "fig = px.bar(\n",
    "    olfactory_df,\n",
    "    x=\"Olfactory Score\",\n",
    "    y=\"Count\",\n",
    "    color=\"Group\",\n",
    "    barmode=\"group\",\n",
    "    labels={\"Count\": \"Count of Patients\"},\n",
    "    title=\"Olfactory Score by Breathing Difficulty\",\n",
    "    text=\"Count\",\n",
    ")\n",
    "fig.show()"
   ]
  },
  {
   "cell_type": "markdown",
   "id": "ebc06a90",
   "metadata": {},
   "source": [
    "# Part 4\n",
    "## Weighted Olifactory Score\n",
    "\n",
    "By giving certain weight to the olfactory tests, we can create a continuous variable that can be used to indicate COVID19 in patients. \n",
    "The score is defined as follows:\n",
    "\n",
    "$$\n",
    "y = \\sum_{{i=1}}^{{6}} w_{i} x_{i}\n",
    "$$\n",
    "\n",
    "where\n",
    "- $y$ is the olfactory score\n",
    "- $x_{i}$ is the result of the olfactory test $i$ (1 if positive, 0 if negative)\n",
    "- $w_{i}$ is the weight of the olfactory test $i$.\n",
    "\n",
    "The weights can be found in Table 1 in [Enunciado Tarea 1](Enunciado_Tarea1/Enunciado%20Tarea%201.pdf)."
   ]
  },
  {
   "cell_type": "code",
   "execution_count": 14,
   "id": "e5fbc323",
   "metadata": {},
   "outputs": [],
   "source": [
    "olfcatory_weights = {\n",
    "    \"Banana\": 0.09332,\n",
    "    \"Caramel\": 0.09332,\n",
    "    \"Mint\": 0.34668,\n",
    "    \"Orange\": 0.09334,\n",
    "    \"Pineapple\": 0.18667,\n",
    "    \"Vanilla\": 0.18666,\n",
    "}"
   ]
  },
  {
   "cell_type": "code",
   "execution_count": 15,
   "id": "6181e84a",
   "metadata": {},
   "outputs": [
    {
     "data": {
      "text/html": [
       "<div><style>\n",
       ".dataframe > thead > tr,\n",
       ".dataframe > tbody > tr {\n",
       "  text-align: right;\n",
       "  white-space: pre-wrap;\n",
       "}\n",
       "</style>\n",
       "<small>shape: (926, 17)</small><table border=\"1\" class=\"dataframe\"><thead><tr><th>Banana</th><th>Caramel</th><th>Mint</th><th>Orange</th><th>Pineapple</th><th>Vanilla</th><th>Cold</th><th>Cough</th><th>Fever</th><th>Muscular Pain</th><th>Breathing difficulty</th><th>Self-reported anosmia</th><th>Self-reported ageusia</th><th>COVID19 PCR Result</th><th>Olfactory Score</th><th>Weighted Olfactory Score</th><th>Group</th></tr><tr><td>i64</td><td>i64</td><td>i64</td><td>i64</td><td>i64</td><td>i64</td><td>i64</td><td>i64</td><td>i64</td><td>i64</td><td>i64</td><td>i64</td><td>i64</td><td>i64</td><td>i64</td><td>f64</td><td>str</td></tr></thead><tbody><tr><td>0</td><td>0</td><td>1</td><td>0</td><td>1</td><td>1</td><td>1</td><td>0</td><td>0</td><td>0</td><td>0</td><td>1</td><td>0</td><td>1</td><td>3</td><td>0.72001</td><td>&quot;PCR Positive&quot;</td></tr><tr><td>0</td><td>1</td><td>1</td><td>1</td><td>0</td><td>1</td><td>0</td><td>1</td><td>0</td><td>1</td><td>0</td><td>0</td><td>0</td><td>1</td><td>4</td><td>0.72</td><td>&quot;PCR Positive&quot;</td></tr><tr><td>0</td><td>1</td><td>1</td><td>0</td><td>1</td><td>1</td><td>1</td><td>0</td><td>0</td><td>1</td><td>0</td><td>0</td><td>0</td><td>1</td><td>4</td><td>0.81333</td><td>&quot;PCR Positive&quot;</td></tr><tr><td>0</td><td>0</td><td>1</td><td>1</td><td>0</td><td>1</td><td>1</td><td>1</td><td>1</td><td>1</td><td>0</td><td>0</td><td>0</td><td>1</td><td>3</td><td>0.62668</td><td>&quot;PCR Positive&quot;</td></tr><tr><td>0</td><td>1</td><td>1</td><td>0</td><td>0</td><td>1</td><td>1</td><td>1</td><td>1</td><td>0</td><td>0</td><td>0</td><td>0</td><td>1</td><td>3</td><td>0.62666</td><td>&quot;PCR Positive&quot;</td></tr><tr><td>&hellip;</td><td>&hellip;</td><td>&hellip;</td><td>&hellip;</td><td>&hellip;</td><td>&hellip;</td><td>&hellip;</td><td>&hellip;</td><td>&hellip;</td><td>&hellip;</td><td>&hellip;</td><td>&hellip;</td><td>&hellip;</td><td>&hellip;</td><td>&hellip;</td><td>&hellip;</td><td>&hellip;</td></tr><tr><td>1</td><td>1</td><td>1</td><td>1</td><td>1</td><td>1</td><td>0</td><td>0</td><td>0</td><td>0</td><td>0</td><td>0</td><td>0</td><td>0</td><td>6</td><td>0.99999</td><td>&quot;PCR Negative&quot;</td></tr><tr><td>1</td><td>1</td><td>1</td><td>1</td><td>1</td><td>0</td><td>0</td><td>1</td><td>0</td><td>1</td><td>0</td><td>0</td><td>0</td><td>0</td><td>5</td><td>0.81333</td><td>&quot;PCR Negative&quot;</td></tr><tr><td>1</td><td>1</td><td>1</td><td>1</td><td>1</td><td>0</td><td>0</td><td>0</td><td>0</td><td>0</td><td>0</td><td>0</td><td>0</td><td>0</td><td>5</td><td>0.81333</td><td>&quot;PCR Negative&quot;</td></tr><tr><td>1</td><td>1</td><td>1</td><td>0</td><td>1</td><td>1</td><td>0</td><td>1</td><td>0</td><td>0</td><td>0</td><td>0</td><td>0</td><td>0</td><td>5</td><td>0.90665</td><td>&quot;PCR Negative&quot;</td></tr><tr><td>1</td><td>1</td><td>1</td><td>1</td><td>1</td><td>1</td><td>0</td><td>0</td><td>0</td><td>0</td><td>0</td><td>0</td><td>0</td><td>0</td><td>6</td><td>0.99999</td><td>&quot;PCR Negative&quot;</td></tr></tbody></table></div>"
      ],
      "text/plain": [
       "shape: (926, 17)\n",
       "┌────────┬─────────┬──────┬────────┬───┬────────────────────┬───────────┬───────────┬──────────────┐\n",
       "│ Banana ┆ Caramel ┆ Mint ┆ Orange ┆ … ┆ COVID19 PCR Result ┆ Olfactory ┆ Weighted  ┆ Group        │\n",
       "│ ---    ┆ ---     ┆ ---  ┆ ---    ┆   ┆ ---                ┆ Score     ┆ Olfactory ┆ ---          │\n",
       "│ i64    ┆ i64     ┆ i64  ┆ i64    ┆   ┆ i64                ┆ ---       ┆ Score     ┆ str          │\n",
       "│        ┆         ┆      ┆        ┆   ┆                    ┆ i64       ┆ ---       ┆              │\n",
       "│        ┆         ┆      ┆        ┆   ┆                    ┆           ┆ f64       ┆              │\n",
       "╞════════╪═════════╪══════╪════════╪═══╪════════════════════╪═══════════╪═══════════╪══════════════╡\n",
       "│ 0      ┆ 0       ┆ 1    ┆ 0      ┆ … ┆ 1                  ┆ 3         ┆ 0.72001   ┆ PCR Positive │\n",
       "│ 0      ┆ 1       ┆ 1    ┆ 1      ┆ … ┆ 1                  ┆ 4         ┆ 0.72      ┆ PCR Positive │\n",
       "│ 0      ┆ 1       ┆ 1    ┆ 0      ┆ … ┆ 1                  ┆ 4         ┆ 0.81333   ┆ PCR Positive │\n",
       "│ 0      ┆ 0       ┆ 1    ┆ 1      ┆ … ┆ 1                  ┆ 3         ┆ 0.62668   ┆ PCR Positive │\n",
       "│ 0      ┆ 1       ┆ 1    ┆ 0      ┆ … ┆ 1                  ┆ 3         ┆ 0.62666   ┆ PCR Positive │\n",
       "│ …      ┆ …       ┆ …    ┆ …      ┆ … ┆ …                  ┆ …         ┆ …         ┆ …            │\n",
       "│ 1      ┆ 1       ┆ 1    ┆ 1      ┆ … ┆ 0                  ┆ 6         ┆ 0.99999   ┆ PCR Negative │\n",
       "│ 1      ┆ 1       ┆ 1    ┆ 1      ┆ … ┆ 0                  ┆ 5         ┆ 0.81333   ┆ PCR Negative │\n",
       "│ 1      ┆ 1       ┆ 1    ┆ 1      ┆ … ┆ 0                  ┆ 5         ┆ 0.81333   ┆ PCR Negative │\n",
       "│ 1      ┆ 1       ┆ 1    ┆ 0      ┆ … ┆ 0                  ┆ 5         ┆ 0.90665   ┆ PCR Negative │\n",
       "│ 1      ┆ 1       ┆ 1    ┆ 1      ┆ … ┆ 0                  ┆ 6         ┆ 0.99999   ┆ PCR Negative │\n",
       "└────────┴─────────┴──────┴────────┴───┴────────────────────┴───────────┴───────────┴──────────────┘"
      ]
     },
     "execution_count": 15,
     "metadata": {},
     "output_type": "execute_result"
    }
   ],
   "source": [
    "df = df.with_columns(\n",
    "    [\n",
    "        pl.sum_horizontal(\n",
    "            pl.col(scent) * olfcatory_weights[scent] for scent in scents\n",
    "        ).alias(\"Weighted Olfactory Score\"),\n",
    "    ]\n",
    ")\n",
    "\n",
    "df = df.with_columns(\n",
    "    pl.when(pl.col(\"COVID19 PCR Result\") == 1)\n",
    "    .then(pl.lit(\"PCR Positive\"))\n",
    "    .otherwise(pl.lit(\"PCR Negative\"))\n",
    "    .alias(\"Group\"),\n",
    ")\n",
    "df"
   ]
  },
  {
   "cell_type": "code",
   "execution_count": 16,
   "id": "0aa920ef",
   "metadata": {},
   "outputs": [
    {
     "data": {
      "application/vnd.plotly.v1+json": {
       "config": {
        "plotlyServerURL": "https://plot.ly"
       },
       "data": [
        {
         "alignmentgroup": "True",
         "hovertemplate": "Group=%{x}<br>Weighted Olfactory Score=%{y}<extra></extra>",
         "legendgroup": "PCR Positive",
         "marker": {
          "color": "#636efa"
         },
         "name": "PCR Positive",
         "notched": false,
         "offsetgroup": "PCR Positive",
         "orientation": "v",
         "showlegend": true,
         "type": "box",
         "x": [
          "PCR Positive",
          "PCR Positive",
          "PCR Positive",
          "PCR Positive",
          "PCR Positive",
          "PCR Positive",
          "PCR Positive",
          "PCR Positive",
          "PCR Positive",
          "PCR Positive",
          "PCR Positive",
          "PCR Positive",
          "PCR Positive",
          "PCR Positive",
          "PCR Positive",
          "PCR Positive",
          "PCR Positive",
          "PCR Positive",
          "PCR Positive",
          "PCR Positive",
          "PCR Positive",
          "PCR Positive",
          "PCR Positive",
          "PCR Positive",
          "PCR Positive",
          "PCR Positive",
          "PCR Positive",
          "PCR Positive",
          "PCR Positive",
          "PCR Positive",
          "PCR Positive",
          "PCR Positive",
          "PCR Positive",
          "PCR Positive",
          "PCR Positive",
          "PCR Positive",
          "PCR Positive",
          "PCR Positive",
          "PCR Positive",
          "PCR Positive",
          "PCR Positive",
          "PCR Positive",
          "PCR Positive",
          "PCR Positive",
          "PCR Positive",
          "PCR Positive",
          "PCR Positive",
          "PCR Positive",
          "PCR Positive",
          "PCR Positive",
          "PCR Positive",
          "PCR Positive",
          "PCR Positive",
          "PCR Positive",
          "PCR Positive",
          "PCR Positive",
          "PCR Positive",
          "PCR Positive",
          "PCR Positive",
          "PCR Positive",
          "PCR Positive",
          "PCR Positive",
          "PCR Positive",
          "PCR Positive",
          "PCR Positive",
          "PCR Positive",
          "PCR Positive",
          "PCR Positive",
          "PCR Positive",
          "PCR Positive",
          "PCR Positive",
          "PCR Positive",
          "PCR Positive",
          "PCR Positive",
          "PCR Positive",
          "PCR Positive",
          "PCR Positive",
          "PCR Positive",
          "PCR Positive",
          "PCR Positive",
          "PCR Positive",
          "PCR Positive",
          "PCR Positive",
          "PCR Positive",
          "PCR Positive",
          "PCR Positive",
          "PCR Positive",
          "PCR Positive",
          "PCR Positive",
          "PCR Positive",
          "PCR Positive",
          "PCR Positive",
          "PCR Positive",
          "PCR Positive",
          "PCR Positive",
          "PCR Positive",
          "PCR Positive",
          "PCR Positive",
          "PCR Positive",
          "PCR Positive",
          "PCR Positive",
          "PCR Positive",
          "PCR Positive",
          "PCR Positive",
          "PCR Positive",
          "PCR Positive",
          "PCR Positive",
          "PCR Positive",
          "PCR Positive",
          "PCR Positive",
          "PCR Positive",
          "PCR Positive",
          "PCR Positive",
          "PCR Positive",
          "PCR Positive",
          "PCR Positive",
          "PCR Positive",
          "PCR Positive",
          "PCR Positive",
          "PCR Positive",
          "PCR Positive",
          "PCR Positive",
          "PCR Positive",
          "PCR Positive",
          "PCR Positive",
          "PCR Positive",
          "PCR Positive",
          "PCR Positive",
          "PCR Positive",
          "PCR Positive",
          "PCR Positive",
          "PCR Positive",
          "PCR Positive",
          "PCR Positive",
          "PCR Positive",
          "PCR Positive",
          "PCR Positive",
          "PCR Positive",
          "PCR Positive",
          "PCR Positive",
          "PCR Positive",
          "PCR Positive",
          "PCR Positive",
          "PCR Positive",
          "PCR Positive",
          "PCR Positive",
          "PCR Positive",
          "PCR Positive",
          "PCR Positive",
          "PCR Positive",
          "PCR Positive",
          "PCR Positive",
          "PCR Positive",
          "PCR Positive",
          "PCR Positive",
          "PCR Positive",
          "PCR Positive",
          "PCR Positive",
          "PCR Positive",
          "PCR Positive",
          "PCR Positive",
          "PCR Positive",
          "PCR Positive",
          "PCR Positive",
          "PCR Positive",
          "PCR Positive",
          "PCR Positive",
          "PCR Positive",
          "PCR Positive",
          "PCR Positive",
          "PCR Positive",
          "PCR Positive",
          "PCR Positive",
          "PCR Positive",
          "PCR Positive",
          "PCR Positive",
          "PCR Positive",
          "PCR Positive",
          "PCR Positive",
          "PCR Positive",
          "PCR Positive",
          "PCR Positive",
          "PCR Positive",
          "PCR Positive",
          "PCR Positive",
          "PCR Positive",
          "PCR Positive",
          "PCR Positive",
          "PCR Positive",
          "PCR Positive",
          "PCR Positive",
          "PCR Positive",
          "PCR Positive",
          "PCR Positive",
          "PCR Positive",
          "PCR Positive",
          "PCR Positive",
          "PCR Positive",
          "PCR Positive",
          "PCR Positive",
          "PCR Positive",
          "PCR Positive",
          "PCR Positive",
          "PCR Positive",
          "PCR Positive",
          "PCR Positive",
          "PCR Positive",
          "PCR Positive",
          "PCR Positive",
          "PCR Positive",
          "PCR Positive",
          "PCR Positive",
          "PCR Positive",
          "PCR Positive",
          "PCR Positive",
          "PCR Positive",
          "PCR Positive",
          "PCR Positive",
          "PCR Positive",
          "PCR Positive",
          "PCR Positive",
          "PCR Positive",
          "PCR Positive",
          "PCR Positive",
          "PCR Positive",
          "PCR Positive",
          "PCR Positive",
          "PCR Positive",
          "PCR Positive",
          "PCR Positive",
          "PCR Positive",
          "PCR Positive",
          "PCR Positive",
          "PCR Positive",
          "PCR Positive",
          "PCR Positive",
          "PCR Positive",
          "PCR Positive",
          "PCR Positive",
          "PCR Positive",
          "PCR Positive",
          "PCR Positive",
          "PCR Positive",
          "PCR Positive",
          "PCR Positive",
          "PCR Positive",
          "PCR Positive",
          "PCR Positive",
          "PCR Positive",
          "PCR Positive",
          "PCR Positive",
          "PCR Positive",
          "PCR Positive",
          "PCR Positive",
          "PCR Positive",
          "PCR Positive",
          "PCR Positive",
          "PCR Positive",
          "PCR Positive",
          "PCR Positive",
          "PCR Positive",
          "PCR Positive",
          "PCR Positive",
          "PCR Positive",
          "PCR Positive",
          "PCR Positive",
          "PCR Positive",
          "PCR Positive",
          "PCR Positive",
          "PCR Positive",
          "PCR Positive",
          "PCR Positive",
          "PCR Positive",
          "PCR Positive",
          "PCR Positive",
          "PCR Positive",
          "PCR Positive",
          "PCR Positive",
          "PCR Positive",
          "PCR Positive",
          "PCR Positive",
          "PCR Positive",
          "PCR Positive",
          "PCR Positive",
          "PCR Positive",
          "PCR Positive",
          "PCR Positive",
          "PCR Positive",
          "PCR Positive",
          "PCR Positive",
          "PCR Positive",
          "PCR Positive",
          "PCR Positive",
          "PCR Positive",
          "PCR Positive",
          "PCR Positive",
          "PCR Positive",
          "PCR Positive",
          "PCR Positive",
          "PCR Positive",
          "PCR Positive",
          "PCR Positive",
          "PCR Positive",
          "PCR Positive",
          "PCR Positive",
          "PCR Positive",
          "PCR Positive",
          "PCR Positive",
          "PCR Positive"
         ],
         "x0": " ",
         "xaxis": "x",
         "y": {
          "bdata": "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",
          "dtype": "f8"
         },
         "y0": " ",
         "yaxis": "y"
        },
        {
         "alignmentgroup": "True",
         "hovertemplate": "Group=%{x}<br>Weighted Olfactory Score=%{y}<extra></extra>",
         "legendgroup": "PCR Negative",
         "marker": {
          "color": "#EF553B"
         },
         "name": "PCR Negative",
         "notched": false,
         "offsetgroup": "PCR Negative",
         "orientation": "v",
         "showlegend": true,
         "type": "box",
         "x": [
          "PCR Negative",
          "PCR Negative",
          "PCR Negative",
          "PCR Negative",
          "PCR Negative",
          "PCR Negative",
          "PCR Negative",
          "PCR Negative",
          "PCR Negative",
          "PCR Negative",
          "PCR Negative",
          "PCR Negative",
          "PCR Negative",
          "PCR Negative",
          "PCR Negative",
          "PCR Negative",
          "PCR Negative",
          "PCR Negative",
          "PCR Negative",
          "PCR Negative",
          "PCR Negative",
          "PCR Negative",
          "PCR Negative",
          "PCR Negative",
          "PCR Negative",
          "PCR Negative",
          "PCR Negative",
          "PCR Negative",
          "PCR Negative",
          "PCR Negative",
          "PCR Negative",
          "PCR Negative",
          "PCR Negative",
          "PCR Negative",
          "PCR Negative",
          "PCR Negative",
          "PCR Negative",
          "PCR Negative",
          "PCR Negative",
          "PCR Negative",
          "PCR Negative",
          "PCR Negative",
          "PCR Negative",
          "PCR Negative",
          "PCR Negative",
          "PCR Negative",
          "PCR Negative",
          "PCR Negative",
          "PCR Negative",
          "PCR Negative",
          "PCR Negative",
          "PCR Negative",
          "PCR Negative",
          "PCR Negative",
          "PCR Negative",
          "PCR Negative",
          "PCR Negative",
          "PCR Negative",
          "PCR Negative",
          "PCR Negative",
          "PCR Negative",
          "PCR Negative",
          "PCR Negative",
          "PCR Negative",
          "PCR Negative",
          "PCR Negative",
          "PCR Negative",
          "PCR Negative",
          "PCR Negative",
          "PCR Negative",
          "PCR Negative",
          "PCR Negative",
          "PCR Negative",
          "PCR Negative",
          "PCR Negative",
          "PCR Negative",
          "PCR Negative",
          "PCR Negative",
          "PCR Negative",
          "PCR Negative",
          "PCR Negative",
          "PCR Negative",
          "PCR Negative",
          "PCR Negative",
          "PCR Negative",
          "PCR Negative",
          "PCR Negative",
          "PCR Negative",
          "PCR Negative",
          "PCR Negative",
          "PCR Negative",
          "PCR Negative",
          "PCR Negative",
          "PCR Negative",
          "PCR Negative",
          "PCR Negative",
          "PCR Negative",
          "PCR Negative",
          "PCR Negative",
          "PCR Negative",
          "PCR Negative",
          "PCR Negative",
          "PCR Negative",
          "PCR Negative",
          "PCR Negative",
          "PCR Negative",
          "PCR Negative",
          "PCR Negative",
          "PCR Negative",
          "PCR Negative",
          "PCR Negative",
          "PCR Negative",
          "PCR Negative",
          "PCR Negative",
          "PCR Negative",
          "PCR Negative",
          "PCR Negative",
          "PCR Negative",
          "PCR Negative",
          "PCR Negative",
          "PCR Negative",
          "PCR Negative",
          "PCR Negative",
          "PCR Negative",
          "PCR Negative",
          "PCR Negative",
          "PCR Negative",
          "PCR Negative",
          "PCR Negative",
          "PCR Negative",
          "PCR Negative",
          "PCR Negative",
          "PCR Negative",
          "PCR Negative",
          "PCR Negative",
          "PCR Negative",
          "PCR Negative",
          "PCR Negative",
          "PCR Negative",
          "PCR Negative",
          "PCR Negative",
          "PCR Negative",
          "PCR Negative",
          "PCR Negative",
          "PCR Negative",
          "PCR Negative",
          "PCR Negative",
          "PCR Negative",
          "PCR Negative",
          "PCR Negative",
          "PCR Negative",
          "PCR Negative",
          "PCR Negative",
          "PCR Negative",
          "PCR Negative",
          "PCR Negative",
          "PCR Negative",
          "PCR Negative",
          "PCR Negative",
          "PCR Negative",
          "PCR Negative",
          "PCR Negative",
          "PCR Negative",
          "PCR Negative",
          "PCR Negative",
          "PCR Negative",
          "PCR Negative",
          "PCR Negative",
          "PCR Negative",
          "PCR Negative",
          "PCR Negative",
          "PCR Negative",
          "PCR Negative",
          "PCR Negative",
          "PCR Negative",
          "PCR Negative",
          "PCR Negative",
          "PCR Negative",
          "PCR Negative",
          "PCR Negative",
          "PCR Negative",
          "PCR Negative",
          "PCR Negative",
          "PCR Negative",
          "PCR Negative",
          "PCR Negative",
          "PCR Negative",
          "PCR Negative",
          "PCR Negative",
          "PCR Negative",
          "PCR Negative",
          "PCR Negative",
          "PCR Negative",
          "PCR Negative",
          "PCR Negative",
          "PCR Negative",
          "PCR Negative",
          "PCR Negative",
          "PCR Negative",
          "PCR Negative",
          "PCR Negative",
          "PCR Negative",
          "PCR Negative",
          "PCR Negative",
          "PCR Negative",
          "PCR Negative",
          "PCR Negative",
          "PCR Negative",
          "PCR Negative",
          "PCR Negative",
          "PCR Negative",
          "PCR Negative",
          "PCR Negative",
          "PCR Negative",
          "PCR Negative",
          "PCR Negative",
          "PCR Negative",
          "PCR Negative",
          "PCR Negative",
          "PCR Negative",
          "PCR Negative",
          "PCR Negative",
          "PCR Negative",
          "PCR Negative",
          "PCR Negative",
          "PCR Negative",
          "PCR Negative",
          "PCR Negative",
          "PCR Negative",
          "PCR Negative",
          "PCR Negative",
          "PCR Negative",
          "PCR Negative",
          "PCR Negative",
          "PCR Negative",
          "PCR Negative",
          "PCR Negative",
          "PCR Negative",
          "PCR Negative",
          "PCR Negative",
          "PCR Negative",
          "PCR Negative",
          "PCR Negative",
          "PCR Negative",
          "PCR Negative",
          "PCR Negative",
          "PCR Negative",
          "PCR Negative",
          "PCR Negative",
          "PCR Negative",
          "PCR Negative",
          "PCR Negative",
          "PCR Negative",
          "PCR Negative",
          "PCR Negative",
          "PCR Negative",
          "PCR Negative",
          "PCR Negative",
          "PCR Negative",
          "PCR Negative",
          "PCR Negative",
          "PCR Negative",
          "PCR Negative",
          "PCR Negative",
          "PCR Negative",
          "PCR Negative",
          "PCR Negative",
          "PCR Negative",
          "PCR Negative",
          "PCR Negative",
          "PCR Negative",
          "PCR Negative",
          "PCR Negative",
          "PCR Negative",
          "PCR Negative",
          "PCR Negative",
          "PCR Negative",
          "PCR Negative",
          "PCR Negative",
          "PCR Negative",
          "PCR Negative",
          "PCR Negative",
          "PCR Negative",
          "PCR Negative",
          "PCR Negative",
          "PCR Negative",
          "PCR Negative",
          "PCR Negative",
          "PCR Negative",
          "PCR Negative",
          "PCR Negative",
          "PCR Negative",
          "PCR Negative",
          "PCR Negative",
          "PCR Negative",
          "PCR Negative",
          "PCR Negative",
          "PCR Negative",
          "PCR Negative",
          "PCR Negative",
          "PCR Negative",
          "PCR Negative",
          "PCR Negative",
          "PCR Negative",
          "PCR Negative",
          "PCR Negative",
          "PCR Negative",
          "PCR Negative",
          "PCR Negative",
          "PCR Negative",
          "PCR Negative",
          "PCR Negative",
          "PCR Negative",
          "PCR Negative",
          "PCR Negative",
          "PCR Negative",
          "PCR Negative",
          "PCR Negative",
          "PCR Negative",
          "PCR Negative",
          "PCR Negative",
          "PCR Negative",
          "PCR Negative",
          "PCR Negative",
          "PCR Negative",
          "PCR Negative",
          "PCR Negative",
          "PCR Negative",
          "PCR Negative",
          "PCR Negative",
          "PCR Negative",
          "PCR Negative",
          "PCR Negative",
          "PCR Negative",
          "PCR Negative",
          "PCR Negative",
          "PCR Negative",
          "PCR Negative",
          "PCR Negative",
          "PCR Negative",
          "PCR Negative",
          "PCR Negative",
          "PCR Negative",
          "PCR Negative",
          "PCR Negative",
          "PCR Negative",
          "PCR Negative",
          "PCR Negative",
          "PCR Negative",
          "PCR Negative",
          "PCR Negative",
          "PCR Negative",
          "PCR Negative",
          "PCR Negative",
          "PCR Negative",
          "PCR Negative",
          "PCR Negative",
          "PCR Negative",
          "PCR Negative",
          "PCR Negative",
          "PCR Negative",
          "PCR Negative",
          "PCR Negative",
          "PCR Negative",
          "PCR Negative",
          "PCR Negative",
          "PCR Negative",
          "PCR Negative",
          "PCR Negative",
          "PCR Negative",
          "PCR Negative",
          "PCR Negative",
          "PCR Negative",
          "PCR Negative",
          "PCR Negative",
          "PCR Negative",
          "PCR Negative",
          "PCR Negative",
          "PCR Negative",
          "PCR Negative",
          "PCR Negative",
          "PCR Negative",
          "PCR Negative",
          "PCR Negative",
          "PCR Negative",
          "PCR Negative",
          "PCR Negative",
          "PCR Negative",
          "PCR Negative",
          "PCR Negative",
          "PCR Negative",
          "PCR Negative",
          "PCR Negative",
          "PCR Negative",
          "PCR Negative",
          "PCR Negative",
          "PCR Negative",
          "PCR Negative",
          "PCR Negative",
          "PCR Negative",
          "PCR Negative",
          "PCR Negative",
          "PCR Negative",
          "PCR Negative",
          "PCR Negative",
          "PCR Negative",
          "PCR Negative",
          "PCR Negative",
          "PCR Negative",
          "PCR Negative",
          "PCR Negative",
          "PCR Negative",
          "PCR Negative",
          "PCR Negative",
          "PCR Negative",
          "PCR Negative",
          "PCR Negative",
          "PCR Negative",
          "PCR Negative",
          "PCR Negative",
          "PCR Negative",
          "PCR Negative",
          "PCR Negative",
          "PCR Negative",
          "PCR Negative",
          "PCR Negative",
          "PCR Negative",
          "PCR Negative",
          "PCR Negative",
          "PCR Negative",
          "PCR Negative",
          "PCR Negative",
          "PCR Negative",
          "PCR Negative",
          "PCR Negative",
          "PCR Negative",
          "PCR Negative",
          "PCR Negative",
          "PCR Negative",
          "PCR Negative",
          "PCR Negative",
          "PCR Negative",
          "PCR Negative",
          "PCR Negative",
          "PCR Negative",
          "PCR Negative",
          "PCR Negative",
          "PCR Negative",
          "PCR Negative",
          "PCR Negative",
          "PCR Negative",
          "PCR Negative",
          "PCR Negative",
          "PCR Negative",
          "PCR Negative",
          "PCR Negative",
          "PCR Negative",
          "PCR Negative",
          "PCR Negative",
          "PCR Negative",
          "PCR Negative",
          "PCR Negative",
          "PCR Negative",
          "PCR Negative",
          "PCR Negative",
          "PCR Negative",
          "PCR Negative",
          "PCR Negative",
          "PCR Negative",
          "PCR Negative",
          "PCR Negative",
          "PCR Negative",
          "PCR Negative",
          "PCR Negative",
          "PCR Negative",
          "PCR Negative",
          "PCR Negative",
          "PCR Negative",
          "PCR Negative",
          "PCR Negative",
          "PCR Negative",
          "PCR Negative",
          "PCR Negative",
          "PCR Negative",
          "PCR Negative",
          "PCR Negative",
          "PCR Negative",
          "PCR Negative",
          "PCR Negative",
          "PCR Negative",
          "PCR Negative",
          "PCR Negative",
          "PCR Negative",
          "PCR Negative",
          "PCR Negative",
          "PCR Negative",
          "PCR Negative",
          "PCR Negative",
          "PCR Negative",
          "PCR Negative",
          "PCR Negative",
          "PCR Negative",
          "PCR Negative",
          "PCR Negative",
          "PCR Negative",
          "PCR Negative",
          "PCR Negative",
          "PCR Negative",
          "PCR Negative",
          "PCR Negative",
          "PCR Negative",
          "PCR Negative",
          "PCR Negative",
          "PCR Negative",
          "PCR Negative",
          "PCR Negative",
          "PCR Negative",
          "PCR Negative",
          "PCR Negative",
          "PCR Negative",
          "PCR Negative",
          "PCR Negative",
          "PCR Negative",
          "PCR Negative",
          "PCR Negative",
          "PCR Negative",
          "PCR Negative",
          "PCR Negative",
          "PCR Negative",
          "PCR Negative",
          "PCR Negative",
          "PCR Negative",
          "PCR Negative",
          "PCR Negative",
          "PCR Negative",
          "PCR Negative",
          "PCR Negative",
          "PCR Negative",
          "PCR Negative",
          "PCR Negative",
          "PCR Negative",
          "PCR Negative",
          "PCR Negative",
          "PCR Negative",
          "PCR Negative",
          "PCR Negative",
          "PCR Negative",
          "PCR Negative",
          "PCR Negative",
          "PCR Negative",
          "PCR Negative",
          "PCR Negative",
          "PCR Negative",
          "PCR Negative",
          "PCR Negative",
          "PCR Negative",
          "PCR Negative",
          "PCR Negative",
          "PCR Negative",
          "PCR Negative",
          "PCR Negative",
          "PCR Negative",
          "PCR Negative",
          "PCR Negative",
          "PCR Negative",
          "PCR Negative",
          "PCR Negative",
          "PCR Negative",
          "PCR Negative",
          "PCR Negative",
          "PCR Negative",
          "PCR Negative",
          "PCR Negative",
          "PCR Negative",
          "PCR Negative",
          "PCR Negative",
          "PCR Negative",
          "PCR Negative",
          "PCR Negative",
          "PCR Negative",
          "PCR Negative",
          "PCR Negative",
          "PCR Negative",
          "PCR Negative",
          "PCR Negative",
          "PCR Negative",
          "PCR Negative",
          "PCR Negative",
          "PCR Negative",
          "PCR Negative",
          "PCR Negative",
          "PCR Negative",
          "PCR Negative",
          "PCR Negative",
          "PCR Negative",
          "PCR Negative",
          "PCR Negative",
          "PCR Negative",
          "PCR Negative",
          "PCR Negative",
          "PCR Negative",
          "PCR Negative",
          "PCR Negative",
          "PCR Negative",
          "PCR Negative",
          "PCR Negative",
          "PCR Negative",
          "PCR Negative",
          "PCR Negative",
          "PCR Negative",
          "PCR Negative",
          "PCR Negative",
          "PCR Negative",
          "PCR Negative",
          "PCR Negative",
          "PCR Negative",
          "PCR Negative"
         ],
         "x0": " ",
         "xaxis": "x",
         "y": {
          "bdata": "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",
          "dtype": "f8"
         },
         "y0": " ",
         "yaxis": "y"
        }
       ],
       "layout": {
        "boxmode": "overlay",
        "legend": {
         "title": {
          "text": "Group"
         },
         "tracegroupgap": 0
        },
        "template": {
         "data": {
          "bar": [
           {
            "error_x": {
             "color": "#2a3f5f"
            },
            "error_y": {
             "color": "#2a3f5f"
            },
            "marker": {
             "line": {
              "color": "#E5ECF6",
              "width": 0.5
             },
             "pattern": {
              "fillmode": "overlay",
              "size": 10,
              "solidity": 0.2
             }
            },
            "type": "bar"
           }
          ],
          "barpolar": [
           {
            "marker": {
             "line": {
              "color": "#E5ECF6",
              "width": 0.5
             },
             "pattern": {
              "fillmode": "overlay",
              "size": 10,
              "solidity": 0.2
             }
            },
            "type": "barpolar"
           }
          ],
          "carpet": [
           {
            "aaxis": {
             "endlinecolor": "#2a3f5f",
             "gridcolor": "white",
             "linecolor": "white",
             "minorgridcolor": "white",
             "startlinecolor": "#2a3f5f"
            },
            "baxis": {
             "endlinecolor": "#2a3f5f",
             "gridcolor": "white",
             "linecolor": "white",
             "minorgridcolor": "white",
             "startlinecolor": "#2a3f5f"
            },
            "type": "carpet"
           }
          ],
          "choropleth": [
           {
            "colorbar": {
             "outlinewidth": 0,
             "ticks": ""
            },
            "type": "choropleth"
           }
          ],
          "contour": [
           {
            "colorbar": {
             "outlinewidth": 0,
             "ticks": ""
            },
            "colorscale": [
             [
              0,
              "#0d0887"
             ],
             [
              0.1111111111111111,
              "#46039f"
             ],
             [
              0.2222222222222222,
              "#7201a8"
             ],
             [
              0.3333333333333333,
              "#9c179e"
             ],
             [
              0.4444444444444444,
              "#bd3786"
             ],
             [
              0.5555555555555556,
              "#d8576b"
             ],
             [
              0.6666666666666666,
              "#ed7953"
             ],
             [
              0.7777777777777778,
              "#fb9f3a"
             ],
             [
              0.8888888888888888,
              "#fdca26"
             ],
             [
              1,
              "#f0f921"
             ]
            ],
            "type": "contour"
           }
          ],
          "contourcarpet": [
           {
            "colorbar": {
             "outlinewidth": 0,
             "ticks": ""
            },
            "type": "contourcarpet"
           }
          ],
          "heatmap": [
           {
            "colorbar": {
             "outlinewidth": 0,
             "ticks": ""
            },
            "colorscale": [
             [
              0,
              "#0d0887"
             ],
             [
              0.1111111111111111,
              "#46039f"
             ],
             [
              0.2222222222222222,
              "#7201a8"
             ],
             [
              0.3333333333333333,
              "#9c179e"
             ],
             [
              0.4444444444444444,
              "#bd3786"
             ],
             [
              0.5555555555555556,
              "#d8576b"
             ],
             [
              0.6666666666666666,
              "#ed7953"
             ],
             [
              0.7777777777777778,
              "#fb9f3a"
             ],
             [
              0.8888888888888888,
              "#fdca26"
             ],
             [
              1,
              "#f0f921"
             ]
            ],
            "type": "heatmap"
           }
          ],
          "histogram": [
           {
            "marker": {
             "pattern": {
              "fillmode": "overlay",
              "size": 10,
              "solidity": 0.2
             }
            },
            "type": "histogram"
           }
          ],
          "histogram2d": [
           {
            "colorbar": {
             "outlinewidth": 0,
             "ticks": ""
            },
            "colorscale": [
             [
              0,
              "#0d0887"
             ],
             [
              0.1111111111111111,
              "#46039f"
             ],
             [
              0.2222222222222222,
              "#7201a8"
             ],
             [
              0.3333333333333333,
              "#9c179e"
             ],
             [
              0.4444444444444444,
              "#bd3786"
             ],
             [
              0.5555555555555556,
              "#d8576b"
             ],
             [
              0.6666666666666666,
              "#ed7953"
             ],
             [
              0.7777777777777778,
              "#fb9f3a"
             ],
             [
              0.8888888888888888,
              "#fdca26"
             ],
             [
              1,
              "#f0f921"
             ]
            ],
            "type": "histogram2d"
           }
          ],
          "histogram2dcontour": [
           {
            "colorbar": {
             "outlinewidth": 0,
             "ticks": ""
            },
            "colorscale": [
             [
              0,
              "#0d0887"
             ],
             [
              0.1111111111111111,
              "#46039f"
             ],
             [
              0.2222222222222222,
              "#7201a8"
             ],
             [
              0.3333333333333333,
              "#9c179e"
             ],
             [
              0.4444444444444444,
              "#bd3786"
             ],
             [
              0.5555555555555556,
              "#d8576b"
             ],
             [
              0.6666666666666666,
              "#ed7953"
             ],
             [
              0.7777777777777778,
              "#fb9f3a"
             ],
             [
              0.8888888888888888,
              "#fdca26"
             ],
             [
              1,
              "#f0f921"
             ]
            ],
            "type": "histogram2dcontour"
           }
          ],
          "mesh3d": [
           {
            "colorbar": {
             "outlinewidth": 0,
             "ticks": ""
            },
            "type": "mesh3d"
           }
          ],
          "parcoords": [
           {
            "line": {
             "colorbar": {
              "outlinewidth": 0,
              "ticks": ""
             }
            },
            "type": "parcoords"
           }
          ],
          "pie": [
           {
            "automargin": true,
            "type": "pie"
           }
          ],
          "scatter": [
           {
            "fillpattern": {
             "fillmode": "overlay",
             "size": 10,
             "solidity": 0.2
            },
            "type": "scatter"
           }
          ],
          "scatter3d": [
           {
            "line": {
             "colorbar": {
              "outlinewidth": 0,
              "ticks": ""
             }
            },
            "marker": {
             "colorbar": {
              "outlinewidth": 0,
              "ticks": ""
             }
            },
            "type": "scatter3d"
           }
          ],
          "scattercarpet": [
           {
            "marker": {
             "colorbar": {
              "outlinewidth": 0,
              "ticks": ""
             }
            },
            "type": "scattercarpet"
           }
          ],
          "scattergeo": [
           {
            "marker": {
             "colorbar": {
              "outlinewidth": 0,
              "ticks": ""
             }
            },
            "type": "scattergeo"
           }
          ],
          "scattergl": [
           {
            "marker": {
             "colorbar": {
              "outlinewidth": 0,
              "ticks": ""
             }
            },
            "type": "scattergl"
           }
          ],
          "scattermap": [
           {
            "marker": {
             "colorbar": {
              "outlinewidth": 0,
              "ticks": ""
             }
            },
            "type": "scattermap"
           }
          ],
          "scattermapbox": [
           {
            "marker": {
             "colorbar": {
              "outlinewidth": 0,
              "ticks": ""
             }
            },
            "type": "scattermapbox"
           }
          ],
          "scatterpolar": [
           {
            "marker": {
             "colorbar": {
              "outlinewidth": 0,
              "ticks": ""
             }
            },
            "type": "scatterpolar"
           }
          ],
          "scatterpolargl": [
           {
            "marker": {
             "colorbar": {
              "outlinewidth": 0,
              "ticks": ""
             }
            },
            "type": "scatterpolargl"
           }
          ],
          "scatterternary": [
           {
            "marker": {
             "colorbar": {
              "outlinewidth": 0,
              "ticks": ""
             }
            },
            "type": "scatterternary"
           }
          ],
          "surface": [
           {
            "colorbar": {
             "outlinewidth": 0,
             "ticks": ""
            },
            "colorscale": [
             [
              0,
              "#0d0887"
             ],
             [
              0.1111111111111111,
              "#46039f"
             ],
             [
              0.2222222222222222,
              "#7201a8"
             ],
             [
              0.3333333333333333,
              "#9c179e"
             ],
             [
              0.4444444444444444,
              "#bd3786"
             ],
             [
              0.5555555555555556,
              "#d8576b"
             ],
             [
              0.6666666666666666,
              "#ed7953"
             ],
             [
              0.7777777777777778,
              "#fb9f3a"
             ],
             [
              0.8888888888888888,
              "#fdca26"
             ],
             [
              1,
              "#f0f921"
             ]
            ],
            "type": "surface"
           }
          ],
          "table": [
           {
            "cells": {
             "fill": {
              "color": "#EBF0F8"
             },
             "line": {
              "color": "white"
             }
            },
            "header": {
             "fill": {
              "color": "#C8D4E3"
             },
             "line": {
              "color": "white"
             }
            },
            "type": "table"
           }
          ]
         },
         "layout": {
          "annotationdefaults": {
           "arrowcolor": "#2a3f5f",
           "arrowhead": 0,
           "arrowwidth": 1
          },
          "autotypenumbers": "strict",
          "coloraxis": {
           "colorbar": {
            "outlinewidth": 0,
            "ticks": ""
           }
          },
          "colorscale": {
           "diverging": [
            [
             0,
             "#8e0152"
            ],
            [
             0.1,
             "#c51b7d"
            ],
            [
             0.2,
             "#de77ae"
            ],
            [
             0.3,
             "#f1b6da"
            ],
            [
             0.4,
             "#fde0ef"
            ],
            [
             0.5,
             "#f7f7f7"
            ],
            [
             0.6,
             "#e6f5d0"
            ],
            [
             0.7,
             "#b8e186"
            ],
            [
             0.8,
             "#7fbc41"
            ],
            [
             0.9,
             "#4d9221"
            ],
            [
             1,
             "#276419"
            ]
           ],
           "sequential": [
            [
             0,
             "#0d0887"
            ],
            [
             0.1111111111111111,
             "#46039f"
            ],
            [
             0.2222222222222222,
             "#7201a8"
            ],
            [
             0.3333333333333333,
             "#9c179e"
            ],
            [
             0.4444444444444444,
             "#bd3786"
            ],
            [
             0.5555555555555556,
             "#d8576b"
            ],
            [
             0.6666666666666666,
             "#ed7953"
            ],
            [
             0.7777777777777778,
             "#fb9f3a"
            ],
            [
             0.8888888888888888,
             "#fdca26"
            ],
            [
             1,
             "#f0f921"
            ]
           ],
           "sequentialminus": [
            [
             0,
             "#0d0887"
            ],
            [
             0.1111111111111111,
             "#46039f"
            ],
            [
             0.2222222222222222,
             "#7201a8"
            ],
            [
             0.3333333333333333,
             "#9c179e"
            ],
            [
             0.4444444444444444,
             "#bd3786"
            ],
            [
             0.5555555555555556,
             "#d8576b"
            ],
            [
             0.6666666666666666,
             "#ed7953"
            ],
            [
             0.7777777777777778,
             "#fb9f3a"
            ],
            [
             0.8888888888888888,
             "#fdca26"
            ],
            [
             1,
             "#f0f921"
            ]
           ]
          },
          "colorway": [
           "#636efa",
           "#EF553B",
           "#00cc96",
           "#ab63fa",
           "#FFA15A",
           "#19d3f3",
           "#FF6692",
           "#B6E880",
           "#FF97FF",
           "#FECB52"
          ],
          "font": {
           "color": "#2a3f5f"
          },
          "geo": {
           "bgcolor": "white",
           "lakecolor": "white",
           "landcolor": "#E5ECF6",
           "showlakes": true,
           "showland": true,
           "subunitcolor": "white"
          },
          "hoverlabel": {
           "align": "left"
          },
          "hovermode": "closest",
          "mapbox": {
           "style": "light"
          },
          "paper_bgcolor": "white",
          "plot_bgcolor": "#E5ECF6",
          "polar": {
           "angularaxis": {
            "gridcolor": "white",
            "linecolor": "white",
            "ticks": ""
           },
           "bgcolor": "#E5ECF6",
           "radialaxis": {
            "gridcolor": "white",
            "linecolor": "white",
            "ticks": ""
           }
          },
          "scene": {
           "xaxis": {
            "backgroundcolor": "#E5ECF6",
            "gridcolor": "white",
            "gridwidth": 2,
            "linecolor": "white",
            "showbackground": true,
            "ticks": "",
            "zerolinecolor": "white"
           },
           "yaxis": {
            "backgroundcolor": "#E5ECF6",
            "gridcolor": "white",
            "gridwidth": 2,
            "linecolor": "white",
            "showbackground": true,
            "ticks": "",
            "zerolinecolor": "white"
           },
           "zaxis": {
            "backgroundcolor": "#E5ECF6",
            "gridcolor": "white",
            "gridwidth": 2,
            "linecolor": "white",
            "showbackground": true,
            "ticks": "",
            "zerolinecolor": "white"
           }
          },
          "shapedefaults": {
           "line": {
            "color": "#2a3f5f"
           }
          },
          "ternary": {
           "aaxis": {
            "gridcolor": "white",
            "linecolor": "white",
            "ticks": ""
           },
           "baxis": {
            "gridcolor": "white",
            "linecolor": "white",
            "ticks": ""
           },
           "bgcolor": "#E5ECF6",
           "caxis": {
            "gridcolor": "white",
            "linecolor": "white",
            "ticks": ""
           }
          },
          "title": {
           "x": 0.05
          },
          "xaxis": {
           "automargin": true,
           "gridcolor": "white",
           "linecolor": "white",
           "ticks": "",
           "title": {
            "standoff": 15
           },
           "zerolinecolor": "white",
           "zerolinewidth": 2
          },
          "yaxis": {
           "automargin": true,
           "gridcolor": "white",
           "linecolor": "white",
           "ticks": "",
           "title": {
            "standoff": 15
           },
           "zerolinecolor": "white",
           "zerolinewidth": 2
          }
         }
        },
        "title": {
         "text": "Weighted Olfactory Score by PCR Result"
        },
        "xaxis": {
         "anchor": "y",
         "categoryarray": [
          "PCR Positive",
          "PCR Negative"
         ],
         "categoryorder": "array",
         "domain": [
          0,
          1
         ],
         "title": {
          "text": "Group"
         }
        },
        "yaxis": {
         "anchor": "x",
         "domain": [
          0,
          1
         ],
         "title": {
          "text": "Weighted Olfactory Score"
         }
        }
       }
      }
     },
     "metadata": {},
     "output_type": "display_data"
    }
   ],
   "source": [
    "fig = px.box(\n",
    "    df,\n",
    "    x=\"Group\",\n",
    "    y=\"Weighted Olfactory Score\",\n",
    "    color=\"Group\",\n",
    "    title=\"Weighted Olfactory Score by PCR Result\",\n",
    ")\n",
    "fig.show()"
   ]
  },
  {
   "cell_type": "markdown",
   "id": "800c1ca6",
   "metadata": {},
   "source": [
    "Based on these results we want to see if there is a relationship between the symptoms and the olfactory score, not just based on the positive/negative results of the PCR."
   ]
  },
  {
   "cell_type": "markdown",
   "id": "56dc3d66",
   "metadata": {},
   "source": [
    "## Logistic Regression\n",
    "Using logistic regression on the weighted olfactory score\n",
    "\n",
    "NOTE: Due to lack of time, a visual analysis of the data was not performed."
   ]
  },
  {
   "cell_type": "code",
   "execution_count": 17,
   "id": "c0802e61",
   "metadata": {},
   "outputs": [
    {
     "data": {
      "text/html": [
       "<style>#sk-container-id-1 {\n",
       "  /* Definition of color scheme common for light and dark mode */\n",
       "  --sklearn-color-text: #000;\n",
       "  --sklearn-color-text-muted: #666;\n",
       "  --sklearn-color-line: gray;\n",
       "  /* Definition of color scheme for unfitted estimators */\n",
       "  --sklearn-color-unfitted-level-0: #fff5e6;\n",
       "  --sklearn-color-unfitted-level-1: #f6e4d2;\n",
       "  --sklearn-color-unfitted-level-2: #ffe0b3;\n",
       "  --sklearn-color-unfitted-level-3: chocolate;\n",
       "  /* Definition of color scheme for fitted estimators */\n",
       "  --sklearn-color-fitted-level-0: #f0f8ff;\n",
       "  --sklearn-color-fitted-level-1: #d4ebff;\n",
       "  --sklearn-color-fitted-level-2: #b3dbfd;\n",
       "  --sklearn-color-fitted-level-3: cornflowerblue;\n",
       "\n",
       "  /* Specific color for light theme */\n",
       "  --sklearn-color-text-on-default-background: var(--sg-text-color, var(--theme-code-foreground, var(--jp-content-font-color1, black)));\n",
       "  --sklearn-color-background: var(--sg-background-color, var(--theme-background, var(--jp-layout-color0, white)));\n",
       "  --sklearn-color-border-box: var(--sg-text-color, var(--theme-code-foreground, var(--jp-content-font-color1, black)));\n",
       "  --sklearn-color-icon: #696969;\n",
       "\n",
       "  @media (prefers-color-scheme: dark) {\n",
       "    /* Redefinition of color scheme for dark theme */\n",
       "    --sklearn-color-text-on-default-background: var(--sg-text-color, var(--theme-code-foreground, var(--jp-content-font-color1, white)));\n",
       "    --sklearn-color-background: var(--sg-background-color, var(--theme-background, var(--jp-layout-color0, #111)));\n",
       "    --sklearn-color-border-box: var(--sg-text-color, var(--theme-code-foreground, var(--jp-content-font-color1, white)));\n",
       "    --sklearn-color-icon: #878787;\n",
       "  }\n",
       "}\n",
       "\n",
       "#sk-container-id-1 {\n",
       "  color: var(--sklearn-color-text);\n",
       "}\n",
       "\n",
       "#sk-container-id-1 pre {\n",
       "  padding: 0;\n",
       "}\n",
       "\n",
       "#sk-container-id-1 input.sk-hidden--visually {\n",
       "  border: 0;\n",
       "  clip: rect(1px 1px 1px 1px);\n",
       "  clip: rect(1px, 1px, 1px, 1px);\n",
       "  height: 1px;\n",
       "  margin: -1px;\n",
       "  overflow: hidden;\n",
       "  padding: 0;\n",
       "  position: absolute;\n",
       "  width: 1px;\n",
       "}\n",
       "\n",
       "#sk-container-id-1 div.sk-dashed-wrapped {\n",
       "  border: 1px dashed var(--sklearn-color-line);\n",
       "  margin: 0 0.4em 0.5em 0.4em;\n",
       "  box-sizing: border-box;\n",
       "  padding-bottom: 0.4em;\n",
       "  background-color: var(--sklearn-color-background);\n",
       "}\n",
       "\n",
       "#sk-container-id-1 div.sk-container {\n",
       "  /* jupyter's `normalize.less` sets `[hidden] { display: none; }`\n",
       "     but bootstrap.min.css set `[hidden] { display: none !important; }`\n",
       "     so we also need the `!important` here to be able to override the\n",
       "     default hidden behavior on the sphinx rendered scikit-learn.org.\n",
       "     See: https://github.com/scikit-learn/scikit-learn/issues/21755 */\n",
       "  display: inline-block !important;\n",
       "  position: relative;\n",
       "}\n",
       "\n",
       "#sk-container-id-1 div.sk-text-repr-fallback {\n",
       "  display: none;\n",
       "}\n",
       "\n",
       "div.sk-parallel-item,\n",
       "div.sk-serial,\n",
       "div.sk-item {\n",
       "  /* draw centered vertical line to link estimators */\n",
       "  background-image: linear-gradient(var(--sklearn-color-text-on-default-background), var(--sklearn-color-text-on-default-background));\n",
       "  background-size: 2px 100%;\n",
       "  background-repeat: no-repeat;\n",
       "  background-position: center center;\n",
       "}\n",
       "\n",
       "/* Parallel-specific style estimator block */\n",
       "\n",
       "#sk-container-id-1 div.sk-parallel-item::after {\n",
       "  content: \"\";\n",
       "  width: 100%;\n",
       "  border-bottom: 2px solid var(--sklearn-color-text-on-default-background);\n",
       "  flex-grow: 1;\n",
       "}\n",
       "\n",
       "#sk-container-id-1 div.sk-parallel {\n",
       "  display: flex;\n",
       "  align-items: stretch;\n",
       "  justify-content: center;\n",
       "  background-color: var(--sklearn-color-background);\n",
       "  position: relative;\n",
       "}\n",
       "\n",
       "#sk-container-id-1 div.sk-parallel-item {\n",
       "  display: flex;\n",
       "  flex-direction: column;\n",
       "}\n",
       "\n",
       "#sk-container-id-1 div.sk-parallel-item:first-child::after {\n",
       "  align-self: flex-end;\n",
       "  width: 50%;\n",
       "}\n",
       "\n",
       "#sk-container-id-1 div.sk-parallel-item:last-child::after {\n",
       "  align-self: flex-start;\n",
       "  width: 50%;\n",
       "}\n",
       "\n",
       "#sk-container-id-1 div.sk-parallel-item:only-child::after {\n",
       "  width: 0;\n",
       "}\n",
       "\n",
       "/* Serial-specific style estimator block */\n",
       "\n",
       "#sk-container-id-1 div.sk-serial {\n",
       "  display: flex;\n",
       "  flex-direction: column;\n",
       "  align-items: center;\n",
       "  background-color: var(--sklearn-color-background);\n",
       "  padding-right: 1em;\n",
       "  padding-left: 1em;\n",
       "}\n",
       "\n",
       "\n",
       "/* Toggleable style: style used for estimator/Pipeline/ColumnTransformer box that is\n",
       "clickable and can be expanded/collapsed.\n",
       "- Pipeline and ColumnTransformer use this feature and define the default style\n",
       "- Estimators will overwrite some part of the style using the `sk-estimator` class\n",
       "*/\n",
       "\n",
       "/* Pipeline and ColumnTransformer style (default) */\n",
       "\n",
       "#sk-container-id-1 div.sk-toggleable {\n",
       "  /* Default theme specific background. It is overwritten whether we have a\n",
       "  specific estimator or a Pipeline/ColumnTransformer */\n",
       "  background-color: var(--sklearn-color-background);\n",
       "}\n",
       "\n",
       "/* Toggleable label */\n",
       "#sk-container-id-1 label.sk-toggleable__label {\n",
       "  cursor: pointer;\n",
       "  display: flex;\n",
       "  width: 100%;\n",
       "  margin-bottom: 0;\n",
       "  padding: 0.5em;\n",
       "  box-sizing: border-box;\n",
       "  text-align: center;\n",
       "  align-items: start;\n",
       "  justify-content: space-between;\n",
       "  gap: 0.5em;\n",
       "}\n",
       "\n",
       "#sk-container-id-1 label.sk-toggleable__label .caption {\n",
       "  font-size: 0.6rem;\n",
       "  font-weight: lighter;\n",
       "  color: var(--sklearn-color-text-muted);\n",
       "}\n",
       "\n",
       "#sk-container-id-1 label.sk-toggleable__label-arrow:before {\n",
       "  /* Arrow on the left of the label */\n",
       "  content: \"▸\";\n",
       "  float: left;\n",
       "  margin-right: 0.25em;\n",
       "  color: var(--sklearn-color-icon);\n",
       "}\n",
       "\n",
       "#sk-container-id-1 label.sk-toggleable__label-arrow:hover:before {\n",
       "  color: var(--sklearn-color-text);\n",
       "}\n",
       "\n",
       "/* Toggleable content - dropdown */\n",
       "\n",
       "#sk-container-id-1 div.sk-toggleable__content {\n",
       "  max-height: 0;\n",
       "  max-width: 0;\n",
       "  overflow: hidden;\n",
       "  text-align: left;\n",
       "  /* unfitted */\n",
       "  background-color: var(--sklearn-color-unfitted-level-0);\n",
       "}\n",
       "\n",
       "#sk-container-id-1 div.sk-toggleable__content.fitted {\n",
       "  /* fitted */\n",
       "  background-color: var(--sklearn-color-fitted-level-0);\n",
       "}\n",
       "\n",
       "#sk-container-id-1 div.sk-toggleable__content pre {\n",
       "  margin: 0.2em;\n",
       "  border-radius: 0.25em;\n",
       "  color: var(--sklearn-color-text);\n",
       "  /* unfitted */\n",
       "  background-color: var(--sklearn-color-unfitted-level-0);\n",
       "}\n",
       "\n",
       "#sk-container-id-1 div.sk-toggleable__content.fitted pre {\n",
       "  /* unfitted */\n",
       "  background-color: var(--sklearn-color-fitted-level-0);\n",
       "}\n",
       "\n",
       "#sk-container-id-1 input.sk-toggleable__control:checked~div.sk-toggleable__content {\n",
       "  /* Expand drop-down */\n",
       "  max-height: 200px;\n",
       "  max-width: 100%;\n",
       "  overflow: auto;\n",
       "}\n",
       "\n",
       "#sk-container-id-1 input.sk-toggleable__control:checked~label.sk-toggleable__label-arrow:before {\n",
       "  content: \"▾\";\n",
       "}\n",
       "\n",
       "/* Pipeline/ColumnTransformer-specific style */\n",
       "\n",
       "#sk-container-id-1 div.sk-label input.sk-toggleable__control:checked~label.sk-toggleable__label {\n",
       "  color: var(--sklearn-color-text);\n",
       "  background-color: var(--sklearn-color-unfitted-level-2);\n",
       "}\n",
       "\n",
       "#sk-container-id-1 div.sk-label.fitted input.sk-toggleable__control:checked~label.sk-toggleable__label {\n",
       "  background-color: var(--sklearn-color-fitted-level-2);\n",
       "}\n",
       "\n",
       "/* Estimator-specific style */\n",
       "\n",
       "/* Colorize estimator box */\n",
       "#sk-container-id-1 div.sk-estimator input.sk-toggleable__control:checked~label.sk-toggleable__label {\n",
       "  /* unfitted */\n",
       "  background-color: var(--sklearn-color-unfitted-level-2);\n",
       "}\n",
       "\n",
       "#sk-container-id-1 div.sk-estimator.fitted input.sk-toggleable__control:checked~label.sk-toggleable__label {\n",
       "  /* fitted */\n",
       "  background-color: var(--sklearn-color-fitted-level-2);\n",
       "}\n",
       "\n",
       "#sk-container-id-1 div.sk-label label.sk-toggleable__label,\n",
       "#sk-container-id-1 div.sk-label label {\n",
       "  /* The background is the default theme color */\n",
       "  color: var(--sklearn-color-text-on-default-background);\n",
       "}\n",
       "\n",
       "/* On hover, darken the color of the background */\n",
       "#sk-container-id-1 div.sk-label:hover label.sk-toggleable__label {\n",
       "  color: var(--sklearn-color-text);\n",
       "  background-color: var(--sklearn-color-unfitted-level-2);\n",
       "}\n",
       "\n",
       "/* Label box, darken color on hover, fitted */\n",
       "#sk-container-id-1 div.sk-label.fitted:hover label.sk-toggleable__label.fitted {\n",
       "  color: var(--sklearn-color-text);\n",
       "  background-color: var(--sklearn-color-fitted-level-2);\n",
       "}\n",
       "\n",
       "/* Estimator label */\n",
       "\n",
       "#sk-container-id-1 div.sk-label label {\n",
       "  font-family: monospace;\n",
       "  font-weight: bold;\n",
       "  display: inline-block;\n",
       "  line-height: 1.2em;\n",
       "}\n",
       "\n",
       "#sk-container-id-1 div.sk-label-container {\n",
       "  text-align: center;\n",
       "}\n",
       "\n",
       "/* Estimator-specific */\n",
       "#sk-container-id-1 div.sk-estimator {\n",
       "  font-family: monospace;\n",
       "  border: 1px dotted var(--sklearn-color-border-box);\n",
       "  border-radius: 0.25em;\n",
       "  box-sizing: border-box;\n",
       "  margin-bottom: 0.5em;\n",
       "  /* unfitted */\n",
       "  background-color: var(--sklearn-color-unfitted-level-0);\n",
       "}\n",
       "\n",
       "#sk-container-id-1 div.sk-estimator.fitted {\n",
       "  /* fitted */\n",
       "  background-color: var(--sklearn-color-fitted-level-0);\n",
       "}\n",
       "\n",
       "/* on hover */\n",
       "#sk-container-id-1 div.sk-estimator:hover {\n",
       "  /* unfitted */\n",
       "  background-color: var(--sklearn-color-unfitted-level-2);\n",
       "}\n",
       "\n",
       "#sk-container-id-1 div.sk-estimator.fitted:hover {\n",
       "  /* fitted */\n",
       "  background-color: var(--sklearn-color-fitted-level-2);\n",
       "}\n",
       "\n",
       "/* Specification for estimator info (e.g. \"i\" and \"?\") */\n",
       "\n",
       "/* Common style for \"i\" and \"?\" */\n",
       "\n",
       ".sk-estimator-doc-link,\n",
       "a:link.sk-estimator-doc-link,\n",
       "a:visited.sk-estimator-doc-link {\n",
       "  float: right;\n",
       "  font-size: smaller;\n",
       "  line-height: 1em;\n",
       "  font-family: monospace;\n",
       "  background-color: var(--sklearn-color-background);\n",
       "  border-radius: 1em;\n",
       "  height: 1em;\n",
       "  width: 1em;\n",
       "  text-decoration: none !important;\n",
       "  margin-left: 0.5em;\n",
       "  text-align: center;\n",
       "  /* unfitted */\n",
       "  border: var(--sklearn-color-unfitted-level-1) 1pt solid;\n",
       "  color: var(--sklearn-color-unfitted-level-1);\n",
       "}\n",
       "\n",
       ".sk-estimator-doc-link.fitted,\n",
       "a:link.sk-estimator-doc-link.fitted,\n",
       "a:visited.sk-estimator-doc-link.fitted {\n",
       "  /* fitted */\n",
       "  border: var(--sklearn-color-fitted-level-1) 1pt solid;\n",
       "  color: var(--sklearn-color-fitted-level-1);\n",
       "}\n",
       "\n",
       "/* On hover */\n",
       "div.sk-estimator:hover .sk-estimator-doc-link:hover,\n",
       ".sk-estimator-doc-link:hover,\n",
       "div.sk-label-container:hover .sk-estimator-doc-link:hover,\n",
       ".sk-estimator-doc-link:hover {\n",
       "  /* unfitted */\n",
       "  background-color: var(--sklearn-color-unfitted-level-3);\n",
       "  color: var(--sklearn-color-background);\n",
       "  text-decoration: none;\n",
       "}\n",
       "\n",
       "div.sk-estimator.fitted:hover .sk-estimator-doc-link.fitted:hover,\n",
       ".sk-estimator-doc-link.fitted:hover,\n",
       "div.sk-label-container:hover .sk-estimator-doc-link.fitted:hover,\n",
       ".sk-estimator-doc-link.fitted:hover {\n",
       "  /* fitted */\n",
       "  background-color: var(--sklearn-color-fitted-level-3);\n",
       "  color: var(--sklearn-color-background);\n",
       "  text-decoration: none;\n",
       "}\n",
       "\n",
       "/* Span, style for the box shown on hovering the info icon */\n",
       ".sk-estimator-doc-link span {\n",
       "  display: none;\n",
       "  z-index: 9999;\n",
       "  position: relative;\n",
       "  font-weight: normal;\n",
       "  right: .2ex;\n",
       "  padding: .5ex;\n",
       "  margin: .5ex;\n",
       "  width: min-content;\n",
       "  min-width: 20ex;\n",
       "  max-width: 50ex;\n",
       "  color: var(--sklearn-color-text);\n",
       "  box-shadow: 2pt 2pt 4pt #999;\n",
       "  /* unfitted */\n",
       "  background: var(--sklearn-color-unfitted-level-0);\n",
       "  border: .5pt solid var(--sklearn-color-unfitted-level-3);\n",
       "}\n",
       "\n",
       ".sk-estimator-doc-link.fitted span {\n",
       "  /* fitted */\n",
       "  background: var(--sklearn-color-fitted-level-0);\n",
       "  border: var(--sklearn-color-fitted-level-3);\n",
       "}\n",
       "\n",
       ".sk-estimator-doc-link:hover span {\n",
       "  display: block;\n",
       "}\n",
       "\n",
       "/* \"?\"-specific style due to the `<a>` HTML tag */\n",
       "\n",
       "#sk-container-id-1 a.estimator_doc_link {\n",
       "  float: right;\n",
       "  font-size: 1rem;\n",
       "  line-height: 1em;\n",
       "  font-family: monospace;\n",
       "  background-color: var(--sklearn-color-background);\n",
       "  border-radius: 1rem;\n",
       "  height: 1rem;\n",
       "  width: 1rem;\n",
       "  text-decoration: none;\n",
       "  /* unfitted */\n",
       "  color: var(--sklearn-color-unfitted-level-1);\n",
       "  border: var(--sklearn-color-unfitted-level-1) 1pt solid;\n",
       "}\n",
       "\n",
       "#sk-container-id-1 a.estimator_doc_link.fitted {\n",
       "  /* fitted */\n",
       "  border: var(--sklearn-color-fitted-level-1) 1pt solid;\n",
       "  color: var(--sklearn-color-fitted-level-1);\n",
       "}\n",
       "\n",
       "/* On hover */\n",
       "#sk-container-id-1 a.estimator_doc_link:hover {\n",
       "  /* unfitted */\n",
       "  background-color: var(--sklearn-color-unfitted-level-3);\n",
       "  color: var(--sklearn-color-background);\n",
       "  text-decoration: none;\n",
       "}\n",
       "\n",
       "#sk-container-id-1 a.estimator_doc_link.fitted:hover {\n",
       "  /* fitted */\n",
       "  background-color: var(--sklearn-color-fitted-level-3);\n",
       "}\n",
       "</style><div id=\"sk-container-id-1\" class=\"sk-top-container\"><div class=\"sk-text-repr-fallback\"><pre>LogisticRegression()</pre><b>In a Jupyter environment, please rerun this cell to show the HTML representation or trust the notebook. <br />On GitHub, the HTML representation is unable to render, please try loading this page with nbviewer.org.</b></div><div class=\"sk-container\" hidden><div class=\"sk-item\"><div class=\"sk-estimator fitted sk-toggleable\"><input class=\"sk-toggleable__control sk-hidden--visually\" id=\"sk-estimator-id-1\" type=\"checkbox\" checked><label for=\"sk-estimator-id-1\" class=\"sk-toggleable__label fitted sk-toggleable__label-arrow\"><div><div>LogisticRegression</div></div><div><a class=\"sk-estimator-doc-link fitted\" rel=\"noreferrer\" target=\"_blank\" href=\"https://scikit-learn.org/1.6/modules/generated/sklearn.linear_model.LogisticRegression.html\">?<span>Documentation for LogisticRegression</span></a><span class=\"sk-estimator-doc-link fitted\">i<span>Fitted</span></span></div></label><div class=\"sk-toggleable__content fitted\"><pre>LogisticRegression()</pre></div> </div></div></div></div>"
      ],
      "text/plain": [
       "LogisticRegression()"
      ]
     },
     "execution_count": 17,
     "metadata": {},
     "output_type": "execute_result"
    }
   ],
   "source": [
    "# Model training\n",
    "X = df.select('Weighted Olfactory Score').to_numpy()\n",
    "y = df.select('COVID19 PCR Result').to_numpy().ravel()\n",
    "\n",
    "\n",
    "model = linear_model.LogisticRegression()\n",
    "model.fit(X, y)\n",
    "\n"
   ]
  },
  {
   "cell_type": "code",
   "execution_count": 18,
   "id": "0c5c11be",
   "metadata": {},
   "outputs": [
    {
     "name": "stdout",
     "output_type": "stream",
     "text": [
      "(1000,)\n",
      "(1000,)\n"
     ]
    },
    {
     "data": {
      "application/vnd.plotly.v1+json": {
       "config": {
        "plotlyServerURL": "https://plot.ly"
       },
       "data": [
        {
         "hovertemplate": "Weighted Olfactory Score=%{x}<br>Probability of PCR Positive=%{y}<extra></extra>",
         "legendgroup": "",
         "marker": {
          "color": "#636efa",
          "symbol": "circle"
         },
         "mode": "markers",
         "name": "",
         "orientation": "v",
         "showlegend": false,
         "type": "scatter",
         "x": {
          "bdata": "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",
          "dtype": "f8"
         },
         "xaxis": "x",
         "y": {
          "bdata": "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",
          "dtype": "f8"
         },
         "yaxis": "y"
        },
        {
         "marker": {
          "color": "gray",
          "opacity": 0.4
         },
         "mode": "markers",
         "name": "PCR Results",
         "type": "scatter",
         "x": {
          "bdata": "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",
          "dtype": "f8"
         },
         "y": {
          "bdata": "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",
          "dtype": "f8"
         }
        }
       ],
       "layout": {
        "legend": {
         "tracegroupgap": 0
        },
        "template": {
         "data": {
          "bar": [
           {
            "error_x": {
             "color": "#2a3f5f"
            },
            "error_y": {
             "color": "#2a3f5f"
            },
            "marker": {
             "line": {
              "color": "#E5ECF6",
              "width": 0.5
             },
             "pattern": {
              "fillmode": "overlay",
              "size": 10,
              "solidity": 0.2
             }
            },
            "type": "bar"
           }
          ],
          "barpolar": [
           {
            "marker": {
             "line": {
              "color": "#E5ECF6",
              "width": 0.5
             },
             "pattern": {
              "fillmode": "overlay",
              "size": 10,
              "solidity": 0.2
             }
            },
            "type": "barpolar"
           }
          ],
          "carpet": [
           {
            "aaxis": {
             "endlinecolor": "#2a3f5f",
             "gridcolor": "white",
             "linecolor": "white",
             "minorgridcolor": "white",
             "startlinecolor": "#2a3f5f"
            },
            "baxis": {
             "endlinecolor": "#2a3f5f",
             "gridcolor": "white",
             "linecolor": "white",
             "minorgridcolor": "white",
             "startlinecolor": "#2a3f5f"
            },
            "type": "carpet"
           }
          ],
          "choropleth": [
           {
            "colorbar": {
             "outlinewidth": 0,
             "ticks": ""
            },
            "type": "choropleth"
           }
          ],
          "contour": [
           {
            "colorbar": {
             "outlinewidth": 0,
             "ticks": ""
            },
            "colorscale": [
             [
              0,
              "#0d0887"
             ],
             [
              0.1111111111111111,
              "#46039f"
             ],
             [
              0.2222222222222222,
              "#7201a8"
             ],
             [
              0.3333333333333333,
              "#9c179e"
             ],
             [
              0.4444444444444444,
              "#bd3786"
             ],
             [
              0.5555555555555556,
              "#d8576b"
             ],
             [
              0.6666666666666666,
              "#ed7953"
             ],
             [
              0.7777777777777778,
              "#fb9f3a"
             ],
             [
              0.8888888888888888,
              "#fdca26"
             ],
             [
              1,
              "#f0f921"
             ]
            ],
            "type": "contour"
           }
          ],
          "contourcarpet": [
           {
            "colorbar": {
             "outlinewidth": 0,
             "ticks": ""
            },
            "type": "contourcarpet"
           }
          ],
          "heatmap": [
           {
            "colorbar": {
             "outlinewidth": 0,
             "ticks": ""
            },
            "colorscale": [
             [
              0,
              "#0d0887"
             ],
             [
              0.1111111111111111,
              "#46039f"
             ],
             [
              0.2222222222222222,
              "#7201a8"
             ],
             [
              0.3333333333333333,
              "#9c179e"
             ],
             [
              0.4444444444444444,
              "#bd3786"
             ],
             [
              0.5555555555555556,
              "#d8576b"
             ],
             [
              0.6666666666666666,
              "#ed7953"
             ],
             [
              0.7777777777777778,
              "#fb9f3a"
             ],
             [
              0.8888888888888888,
              "#fdca26"
             ],
             [
              1,
              "#f0f921"
             ]
            ],
            "type": "heatmap"
           }
          ],
          "histogram": [
           {
            "marker": {
             "pattern": {
              "fillmode": "overlay",
              "size": 10,
              "solidity": 0.2
             }
            },
            "type": "histogram"
           }
          ],
          "histogram2d": [
           {
            "colorbar": {
             "outlinewidth": 0,
             "ticks": ""
            },
            "colorscale": [
             [
              0,
              "#0d0887"
             ],
             [
              0.1111111111111111,
              "#46039f"
             ],
             [
              0.2222222222222222,
              "#7201a8"
             ],
             [
              0.3333333333333333,
              "#9c179e"
             ],
             [
              0.4444444444444444,
              "#bd3786"
             ],
             [
              0.5555555555555556,
              "#d8576b"
             ],
             [
              0.6666666666666666,
              "#ed7953"
             ],
             [
              0.7777777777777778,
              "#fb9f3a"
             ],
             [
              0.8888888888888888,
              "#fdca26"
             ],
             [
              1,
              "#f0f921"
             ]
            ],
            "type": "histogram2d"
           }
          ],
          "histogram2dcontour": [
           {
            "colorbar": {
             "outlinewidth": 0,
             "ticks": ""
            },
            "colorscale": [
             [
              0,
              "#0d0887"
             ],
             [
              0.1111111111111111,
              "#46039f"
             ],
             [
              0.2222222222222222,
              "#7201a8"
             ],
             [
              0.3333333333333333,
              "#9c179e"
             ],
             [
              0.4444444444444444,
              "#bd3786"
             ],
             [
              0.5555555555555556,
              "#d8576b"
             ],
             [
              0.6666666666666666,
              "#ed7953"
             ],
             [
              0.7777777777777778,
              "#fb9f3a"
             ],
             [
              0.8888888888888888,
              "#fdca26"
             ],
             [
              1,
              "#f0f921"
             ]
            ],
            "type": "histogram2dcontour"
           }
          ],
          "mesh3d": [
           {
            "colorbar": {
             "outlinewidth": 0,
             "ticks": ""
            },
            "type": "mesh3d"
           }
          ],
          "parcoords": [
           {
            "line": {
             "colorbar": {
              "outlinewidth": 0,
              "ticks": ""
             }
            },
            "type": "parcoords"
           }
          ],
          "pie": [
           {
            "automargin": true,
            "type": "pie"
           }
          ],
          "scatter": [
           {
            "fillpattern": {
             "fillmode": "overlay",
             "size": 10,
             "solidity": 0.2
            },
            "type": "scatter"
           }
          ],
          "scatter3d": [
           {
            "line": {
             "colorbar": {
              "outlinewidth": 0,
              "ticks": ""
             }
            },
            "marker": {
             "colorbar": {
              "outlinewidth": 0,
              "ticks": ""
             }
            },
            "type": "scatter3d"
           }
          ],
          "scattercarpet": [
           {
            "marker": {
             "colorbar": {
              "outlinewidth": 0,
              "ticks": ""
             }
            },
            "type": "scattercarpet"
           }
          ],
          "scattergeo": [
           {
            "marker": {
             "colorbar": {
              "outlinewidth": 0,
              "ticks": ""
             }
            },
            "type": "scattergeo"
           }
          ],
          "scattergl": [
           {
            "marker": {
             "colorbar": {
              "outlinewidth": 0,
              "ticks": ""
             }
            },
            "type": "scattergl"
           }
          ],
          "scattermap": [
           {
            "marker": {
             "colorbar": {
              "outlinewidth": 0,
              "ticks": ""
             }
            },
            "type": "scattermap"
           }
          ],
          "scattermapbox": [
           {
            "marker": {
             "colorbar": {
              "outlinewidth": 0,
              "ticks": ""
             }
            },
            "type": "scattermapbox"
           }
          ],
          "scatterpolar": [
           {
            "marker": {
             "colorbar": {
              "outlinewidth": 0,
              "ticks": ""
             }
            },
            "type": "scatterpolar"
           }
          ],
          "scatterpolargl": [
           {
            "marker": {
             "colorbar": {
              "outlinewidth": 0,
              "ticks": ""
             }
            },
            "type": "scatterpolargl"
           }
          ],
          "scatterternary": [
           {
            "marker": {
             "colorbar": {
              "outlinewidth": 0,
              "ticks": ""
             }
            },
            "type": "scatterternary"
           }
          ],
          "surface": [
           {
            "colorbar": {
             "outlinewidth": 0,
             "ticks": ""
            },
            "colorscale": [
             [
              0,
              "#0d0887"
             ],
             [
              0.1111111111111111,
              "#46039f"
             ],
             [
              0.2222222222222222,
              "#7201a8"
             ],
             [
              0.3333333333333333,
              "#9c179e"
             ],
             [
              0.4444444444444444,
              "#bd3786"
             ],
             [
              0.5555555555555556,
              "#d8576b"
             ],
             [
              0.6666666666666666,
              "#ed7953"
             ],
             [
              0.7777777777777778,
              "#fb9f3a"
             ],
             [
              0.8888888888888888,
              "#fdca26"
             ],
             [
              1,
              "#f0f921"
             ]
            ],
            "type": "surface"
           }
          ],
          "table": [
           {
            "cells": {
             "fill": {
              "color": "#EBF0F8"
             },
             "line": {
              "color": "white"
             }
            },
            "header": {
             "fill": {
              "color": "#C8D4E3"
             },
             "line": {
              "color": "white"
             }
            },
            "type": "table"
           }
          ]
         },
         "layout": {
          "annotationdefaults": {
           "arrowcolor": "#2a3f5f",
           "arrowhead": 0,
           "arrowwidth": 1
          },
          "autotypenumbers": "strict",
          "coloraxis": {
           "colorbar": {
            "outlinewidth": 0,
            "ticks": ""
           }
          },
          "colorscale": {
           "diverging": [
            [
             0,
             "#8e0152"
            ],
            [
             0.1,
             "#c51b7d"
            ],
            [
             0.2,
             "#de77ae"
            ],
            [
             0.3,
             "#f1b6da"
            ],
            [
             0.4,
             "#fde0ef"
            ],
            [
             0.5,
             "#f7f7f7"
            ],
            [
             0.6,
             "#e6f5d0"
            ],
            [
             0.7,
             "#b8e186"
            ],
            [
             0.8,
             "#7fbc41"
            ],
            [
             0.9,
             "#4d9221"
            ],
            [
             1,
             "#276419"
            ]
           ],
           "sequential": [
            [
             0,
             "#0d0887"
            ],
            [
             0.1111111111111111,
             "#46039f"
            ],
            [
             0.2222222222222222,
             "#7201a8"
            ],
            [
             0.3333333333333333,
             "#9c179e"
            ],
            [
             0.4444444444444444,
             "#bd3786"
            ],
            [
             0.5555555555555556,
             "#d8576b"
            ],
            [
             0.6666666666666666,
             "#ed7953"
            ],
            [
             0.7777777777777778,
             "#fb9f3a"
            ],
            [
             0.8888888888888888,
             "#fdca26"
            ],
            [
             1,
             "#f0f921"
            ]
           ],
           "sequentialminus": [
            [
             0,
             "#0d0887"
            ],
            [
             0.1111111111111111,
             "#46039f"
            ],
            [
             0.2222222222222222,
             "#7201a8"
            ],
            [
             0.3333333333333333,
             "#9c179e"
            ],
            [
             0.4444444444444444,
             "#bd3786"
            ],
            [
             0.5555555555555556,
             "#d8576b"
            ],
            [
             0.6666666666666666,
             "#ed7953"
            ],
            [
             0.7777777777777778,
             "#fb9f3a"
            ],
            [
             0.8888888888888888,
             "#fdca26"
            ],
            [
             1,
             "#f0f921"
            ]
           ]
          },
          "colorway": [
           "#636efa",
           "#EF553B",
           "#00cc96",
           "#ab63fa",
           "#FFA15A",
           "#19d3f3",
           "#FF6692",
           "#B6E880",
           "#FF97FF",
           "#FECB52"
          ],
          "font": {
           "color": "#2a3f5f"
          },
          "geo": {
           "bgcolor": "white",
           "lakecolor": "white",
           "landcolor": "#E5ECF6",
           "showlakes": true,
           "showland": true,
           "subunitcolor": "white"
          },
          "hoverlabel": {
           "align": "left"
          },
          "hovermode": "closest",
          "mapbox": {
           "style": "light"
          },
          "paper_bgcolor": "white",
          "plot_bgcolor": "#E5ECF6",
          "polar": {
           "angularaxis": {
            "gridcolor": "white",
            "linecolor": "white",
            "ticks": ""
           },
           "bgcolor": "#E5ECF6",
           "radialaxis": {
            "gridcolor": "white",
            "linecolor": "white",
            "ticks": ""
           }
          },
          "scene": {
           "xaxis": {
            "backgroundcolor": "#E5ECF6",
            "gridcolor": "white",
            "gridwidth": 2,
            "linecolor": "white",
            "showbackground": true,
            "ticks": "",
            "zerolinecolor": "white"
           },
           "yaxis": {
            "backgroundcolor": "#E5ECF6",
            "gridcolor": "white",
            "gridwidth": 2,
            "linecolor": "white",
            "showbackground": true,
            "ticks": "",
            "zerolinecolor": "white"
           },
           "zaxis": {
            "backgroundcolor": "#E5ECF6",
            "gridcolor": "white",
            "gridwidth": 2,
            "linecolor": "white",
            "showbackground": true,
            "ticks": "",
            "zerolinecolor": "white"
           }
          },
          "shapedefaults": {
           "line": {
            "color": "#2a3f5f"
           }
          },
          "ternary": {
           "aaxis": {
            "gridcolor": "white",
            "linecolor": "white",
            "ticks": ""
           },
           "baxis": {
            "gridcolor": "white",
            "linecolor": "white",
            "ticks": ""
           },
           "bgcolor": "#E5ECF6",
           "caxis": {
            "gridcolor": "white",
            "linecolor": "white",
            "ticks": ""
           }
          },
          "title": {
           "x": 0.05
          },
          "xaxis": {
           "automargin": true,
           "gridcolor": "white",
           "linecolor": "white",
           "ticks": "",
           "title": {
            "standoff": 15
           },
           "zerolinecolor": "white",
           "zerolinewidth": 2
          },
          "yaxis": {
           "automargin": true,
           "gridcolor": "white",
           "linecolor": "white",
           "ticks": "",
           "title": {
            "standoff": 15
           },
           "zerolinecolor": "white",
           "zerolinewidth": 2
          }
         }
        },
        "title": {
         "text": "Logistic Regression Model"
        },
        "xaxis": {
         "anchor": "y",
         "domain": [
          0,
          1
         ],
         "title": {
          "text": "Weighted Olfactory Score"
         }
        },
        "yaxis": {
         "anchor": "x",
         "domain": [
          0,
          1
         ],
         "title": {
          "text": "Probability of PCR Positive"
         }
        }
       }
      }
     },
     "metadata": {},
     "output_type": "display_data"
    }
   ],
   "source": [
    "x_vals = np.linspace(X.min(), X.max(), 1000).reshape(-1, 1)\n",
    "y_pred = model.predict_proba(x_vals)[:, 1]\n",
    "\n",
    "print(x_vals.flatten().shape)\n",
    "print(y_pred.shape)\n",
    "fig = px.scatter(\n",
    "    x=x_vals.flatten(),\n",
    "    y=y_pred,\n",
    "    title=\"Logistic Regression Model\",\n",
    "    labels={\"x\": \"Weighted Olfactory Score\", \"y\": \"Probability of PCR Positive\"},\n",
    ")\n",
    "\n",
    "y_jittered = y + np.random.normal(0, 0.03, size=y.shape) # Jittering of the y-values was added to better visualize the points\n",
    "fig.add_scatter(\n",
    "    x=X.flatten(),\n",
    "    y=y_jittered,\n",
    "    mode=\"markers\",\n",
    "    name=\"PCR Results\",\n",
    "    marker=dict(color=\"gray\", opacity=0.4),\n",
    ")\n",
    "fig.show()"
   ]
  }
 ],
 "metadata": {
  "kernelspec": {
   "display_name": "stat",
   "language": "python",
   "name": "python3"
  },
  "language_info": {
   "codemirror_mode": {
    "name": "ipython",
    "version": 3
   },
   "file_extension": ".py",
   "mimetype": "text/x-python",
   "name": "python",
   "nbconvert_exporter": "python",
   "pygments_lexer": "ipython3",
   "version": "3.13.2"
  }
 },
 "nbformat": 4,
 "nbformat_minor": 5
}
