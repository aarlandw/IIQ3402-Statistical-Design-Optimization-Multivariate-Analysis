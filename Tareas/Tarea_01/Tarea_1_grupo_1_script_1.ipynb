{
 "cells": [
  {
   "cell_type": "markdown",
   "id": "26d356a9",
   "metadata": {},
   "source": [
    "# IIQ3402 - Tarea 1 \n",
    "This task entails the Exploratory Data Analysis (EDA) of a dataset containing information whether individuals could smell certain smells, and comorbitities such as fever, coughing, muscle pain, and more. At last it contains a column with the result of a PCR test for that individual."
   ]
  },
  {
   "cell_type": "code",
   "execution_count": null,
   "id": "ba2498de",
   "metadata": {},
   "outputs": [],
   "source": [
    "import polars as pl\n",
    "import numpy as np\n",
    "import plotly.express as px\n",
    "from sklearn import linear_model"
   ]
  },
  {
   "cell_type": "code",
   "execution_count": null,
   "id": "ea078098",
   "metadata": {},
   "outputs": [],
   "source": [
    "df = pl.read_csv(\"Enunciado_Tarea1/datos_tarea1.csv\")\n",
    "df = df.rename(\n",
    "    {\n",
    "        \"1__Cold\": \"Cold\",\n",
    "        \"2__Cough\": \"Cough\",\n",
    "        \"3__Fever\": \"Fever\",\n",
    "        \"4__Muscular_pain\": \"Muscular Pain\",\n",
    "        \"5__Breathing_difficulty\": \"Breathing difficulty\",\n",
    "        \"6__Self_reported_anosmia\": \"Self-reported anosmia\",\n",
    "        \"7__Self_reported_ageusia\": \"Self-reported ageusia\",\n",
    "        \"COVID19_PCR\": \"COVID19 PCR Result\",\n",
    "    }\n",
    ")\n",
    "df"
   ]
  },
  {
   "cell_type": "code",
   "execution_count": null,
   "id": "3d5dc1b0",
   "metadata": {},
   "outputs": [],
   "source": [
    "df_neg = df.filter(pl.col(\"COVID19 PCR Result\") == 0)\n",
    "df_pos = df.filter(pl.col(\"COVID19 PCR Result\") == 1)\n",
    "\n",
    "neg_pcr = df.filter(pl.col(\"COVID19 PCR Result\") == 0).shape[0]\n",
    "pos_pcr = df.filter(pl.col(\"COVID19 PCR Result\") == 1).shape[0]\n",
    "\n",
    "print(f\"Total number of positive PCR: {pos_pcr}\")\n",
    "print(f\"Total number of negative PCR: {neg_pcr}\")"
   ]
  },
  {
   "cell_type": "markdown",
   "id": "faddf402",
   "metadata": {},
   "source": [
    "## Hypothesis 1\n",
    "\n",
    "**Covid-positive individuals most frequently identify orange, pineapple and mint odors.**\n"
   ]
  },
  {
   "cell_type": "code",
   "execution_count": null,
   "id": "a5595c54",
   "metadata": {},
   "outputs": [],
   "source": [
    "scent_cols = [\"Banana\", \"Caramel\", \"Mint\", \"Orange\", \"Pineapple\", \"Vanilla\"]\n",
    "\n",
    "scent_data = {\n",
    "    \"Scent\": [],\n",
    "    \"Group\": [],\n",
    "    \"Count\": [],\n",
    "    \"Percentage\": [],\n",
    "}\n",
    "\n",
    "for i, scent in enumerate(scent_cols):\n",
    "    scent_data[\"Scent\"].append(scent)\n",
    "    scent_data[\"Group\"].append(\"PCR Positive\")\n",
    "    scent_data[\"Count\"].append(df_pos.filter(pl.col(scent) == 1).shape[0])\n",
    "    scent_data[\"Percentage\"].append(round(\n",
    "        100 * df_pos.filter(pl.col(scent) == 1).shape[0] / pos_pcr, 1\n",
    "    ))\n",
    "\n",
    "    scent_data[\"Scent\"].append(scent)\n",
    "    scent_data[\"Group\"].append(\"PCR Negative\")\n",
    "    scent_data[\"Count\"].append(df_neg.filter(pl.col(scent) == 1).shape[0])\n",
    "    scent_data[\"Percentage\"].append(round(\n",
    "        100 * df_neg.filter(pl.col(scent) == 1).shape[0] / neg_pcr, 1\n",
    "        ))\n",
    "\n",
    "scent_df = pl.from_dict(scent_data)\n",
    "scent_df"
   ]
  },
  {
   "cell_type": "code",
   "execution_count": null,
   "id": "1ea5adc9",
   "metadata": {},
   "outputs": [],
   "source": [
    "fig = px.bar(\n",
    "    scent_df,\n",
    "    x=\"Scent\",\n",
    "    y=\"Count\",\n",
    "    color=\"Group\",\n",
    "    barmode=\"group\",\n",
    "    labels={\"Count\": \"Count of Patients\"},\n",
    "    title=\"Scent Detection by PCR Result\",\n",
    "    text=\"Count\",\n",
    ")\n",
    "fig.show()"
   ]
  },
  {
   "cell_type": "code",
   "execution_count": null,
   "id": "a912c824",
   "metadata": {},
   "outputs": [],
   "source": [
    "fig = px.bar(\n",
    "    scent_df,\n",
    "    x=\"Scent\",\n",
    "    y=\"Percentage\",\n",
    "    color=\"Group\",\n",
    "    barmode=\"group\",\n",
    "    labels={\"Percentage\": \"Percentage of Patients\"},\n",
    "    title=\"Relative Scent Detection by PCR Result\",\n",
    "    text=\"Percentage\",\n",
    "    range_y=[0, 100],\n",
    ")\n",
    "fig.show()"
   ]
  },
  {
   "cell_type": "markdown",
   "id": "55e4f081",
   "metadata": {},
   "source": [
    "Based on the plot, the hypothesis does not seem to be supported. \n",
    "Here the relative scent detection is the number of individuals who could smell the scent divided by the total number of individuals who tested positive, and negative for COVID-19.\n"
   ]
  },
  {
   "cell_type": "markdown",
   "id": "1aae3325",
   "metadata": {},
   "source": [
    "## Hypothesis 2\n",
    "**¿Son las personas con comorbilidades menos propensas a contraer COVID - 19?**\n",
    "\n",
    "English: Are people with comorbidities less prone to contracting\n",
    "COVID - 19?\n",
    "\n",
    "Meaning that we have to check if there is a correlation between the people with e.g. fever and the PCR test result."
   ]
  },
  {
   "cell_type": "code",
   "execution_count": null,
   "id": "c70de03b",
   "metadata": {},
   "outputs": [],
   "source": [
    "symptoms = [\n",
    "    \"Cold\",\n",
    "    \"Cough\",\n",
    "    \"Fever\",\n",
    "    \"Muscular Pain\",\n",
    "    \"Breathing difficulty\",\n",
    "    \"Self-reported anosmia\",\n",
    "    \"Self-reported ageusia\",\n",
    "]\n",
    "symptom_data = {\n",
    "    \"Symptom\": [],\n",
    "    \"Group\": [],\n",
    "    \"Count\": [],\n",
    "    \"Percentage\": [],\n",
    "}\n",
    "for symptom in symptoms:\n",
    "    # Positive\n",
    "    symptom_data[\"Symptom\"].append(symptom)\n",
    "    symptom_data[\"Group\"].append(\"Positive PCR\")\n",
    "    symptom_data[\"Count\"].append(df_pos.filter(pl.col(symptom) == 1).shape[0])\n",
    "    symptom_data[\"Percentage\"].append(round(\n",
    "        100 * df_pos.filter(pl.col(symptom) == 1).shape[0] / pos_pcr, 1\n",
    "        ))\n",
    "\n",
    "    # Negative\n",
    "    symptom_data[\"Symptom\"].append(symptom)\n",
    "    symptom_data[\"Group\"].append(\"Negative PCR\")\n",
    "    symptom_data[\"Count\"].append(df_neg.filter(pl.col(symptom) == 1).shape[0])\n",
    "    symptom_data[\"Percentage\"].append(round(\n",
    "        100 * df_neg.filter(pl.col(symptom) == 1).shape[0] / neg_pcr, 1\n",
    "        ))\n",
    "    \n",
    "symptom_df = pl.from_dict(symptom_data)\n",
    "symptom_df"
   ]
  },
  {
   "cell_type": "code",
   "execution_count": null,
   "id": "bc771271",
   "metadata": {},
   "outputs": [],
   "source": [
    "fig = px.bar(\n",
    "    symptom_df,\n",
    "    x=\"Symptom\",\n",
    "    y=\"Count\",\n",
    "    color=\"Group\",\n",
    "    barmode=\"group\",\n",
    "    labels={\"Count\": \"Count of Patients\"},\n",
    "    title=\"Symptoms by PCR Result\",\n",
    "    text=\"Count\",\n",
    ")\n",
    "fig.show()"
   ]
  },
  {
   "cell_type": "code",
   "execution_count": null,
   "id": "f2d675b7",
   "metadata": {},
   "outputs": [],
   "source": [
    "fig = px.bar(\n",
    "    symptom_df,\n",
    "    x=\"Symptom\",\n",
    "    y=\"Percentage\",\n",
    "    color=\"Group\",\n",
    "    barmode=\"group\",\n",
    "    labels={\"Percentage\": \"Percentage of Patients\"},\n",
    "    title=\"Relative Symptoms by PCR Result\",\n",
    "    text=\"Percentage\",\n",
    "    range_y=[0, 100],\n",
    ")\n",
    "fig.show()"
   ]
  },
  {
   "cell_type": "markdown",
   "id": "b7c82223",
   "metadata": {},
   "source": [
    "## Hypthesis 3\n",
    "¿Existe une relación entre las dificultades respiratorias y la función\n",
    "olfativa en individuos?\n",
    "\n",
    "English: Is there a relationship between breathing difficulties and olfactory function in individuals\n",
    "\n",
    "### Thought process\n",
    "Make a an olfactory score, summing the number of olfactory tests that were positive. \n",
    "Then, check if there is a correlation between the olfactory score and the breathing difficulties."
   ]
  },
  {
   "cell_type": "code",
   "execution_count": null,
   "id": "8d1403c1",
   "metadata": {},
   "outputs": [],
   "source": [
    "scents = [\"Banana\", \"Caramel\", \"Mint\", \"Orange\", \"Pineapple\", \"Vanilla\"]\n",
    "df = df.with_columns(\n",
    "    [\n",
    "       pl.sum_horizontal(pl.col(scent) for scent in scents).alias(\"Olfactory Score\"),\n",
    "    ]\n",
    ")\n",
    "olfactory_df = df.select(scents + [\"Olfactory Score\", \"Breathing difficulty\"])\n",
    "olfactory_df.columns"
   ]
  },
  {
   "cell_type": "code",
   "execution_count": null,
   "id": "96cc135c",
   "metadata": {},
   "outputs": [],
   "source": [
    "olfactory_df = olfactory_df.with_columns(\n",
    "    pl.when(pl.col(\"Breathing difficulty\") == 1)\n",
    "    .then(pl.lit(\"Yes\"))\n",
    "    .otherwise(pl.lit(\"No\"))\n",
    "    .alias(\"Difficulties breathing\")\n",
    ")\n",
    "\n",
    "fig = px.box(\n",
    "    olfactory_df,\n",
    "    x=\"Difficulties breathing\",\n",
    "    y=\"Olfactory Score\",\n",
    "    color=\"Difficulties breathing\",\n",
    "    title=\"Olfactory Score by Breathing Difficulty\",\n",
    "    # range_y=[0, 6],\n",
    ")\n",
    "fig.show()"
   ]
  },
  {
   "cell_type": "code",
   "execution_count": null,
   "id": "3e500e08",
   "metadata": {},
   "outputs": [],
   "source": [
    "olfactory_scores = [0, 1, 2, 3, 4, 5, 6]\n",
    "olfactory_data = {\n",
    "    \"Olfactory Score\": [],\n",
    "    \"Group\": [],\n",
    "    \"Count\": []\n",
    "}\n",
    "\n",
    "for score in olfactory_scores:\n",
    "    olfactory_data[\"Olfactory Score\"].append(score)\n",
    "    olfactory_data[\"Group\"].append(\"Difficulties Breathing\")\n",
    "    olfactory_data[\"Count\"].append(df.filter(pl.col(\"Breathing difficulty\") == 1).filter(pl.col(\"Olfactory Score\") == score).shape[0])\n",
    "    \n",
    "    olfactory_data[\"Olfactory Score\"].append(score)\n",
    "    olfactory_data[\"Group\"].append(\"No Difficulties Breathing\")\n",
    "    olfactory_data[\"Count\"].append(df.filter(pl.col(\"Breathing difficulty\") == 0).filter(pl.col(\"Olfactory Score\") == score).shape[0])\n",
    "    \n",
    "olfactory_df = pl.from_dict(olfactory_data)\n",
    "olfactory_df\n"
   ]
  },
  {
   "cell_type": "code",
   "execution_count": null,
   "id": "1a503eae",
   "metadata": {},
   "outputs": [],
   "source": [
    "fig = px.bar(\n",
    "    olfactory_df,\n",
    "    x=\"Olfactory Score\",\n",
    "    y=\"Count\",\n",
    "    color=\"Group\",\n",
    "    barmode=\"group\",\n",
    "    labels={\"Count\": \"Count of Patients\"},\n",
    "    title=\"Olfactory Score by Breathing Difficulty\",\n",
    "    text=\"Count\",\n",
    ")\n",
    "fig.show()"
   ]
  },
  {
   "cell_type": "markdown",
   "id": "ebc06a90",
   "metadata": {},
   "source": [
    "# Part 4\n",
    "## Weighted Olifactory Score\n",
    "\n",
    "By giving certain weight to the olfactory tests, we can create a continuous variable that can be used to indicate COVID19 in patients. \n",
    "The score is defined as follows:\n",
    "\n",
    "$$\n",
    "y = \\sum_{{i=1}}^{{6}} w_{i} x_{i}\n",
    "$$\n",
    "\n",
    "where\n",
    "- $y$ is the olfactory score\n",
    "- $x_{i}$ is the result of the olfactory test $i$ (1 if positive, 0 if negative)\n",
    "- $w_{i}$ is the weight of the olfactory test $i$.\n",
    "\n",
    "The weights can be found in Table 1 in [Enunciado Tarea 1](Enunciado_Tarea1/Enunciado%20Tarea%201.pdf)."
   ]
  },
  {
   "cell_type": "code",
   "execution_count": null,
   "id": "e5fbc323",
   "metadata": {},
   "outputs": [],
   "source": [
    "olfcatory_weights = {\n",
    "    \"Banana\": 0.09332,\n",
    "    \"Caramel\": 0.09332,\n",
    "    \"Mint\": 0.34668,\n",
    "    \"Orange\": 0.09334,\n",
    "    \"Pineapple\": 0.18667,\n",
    "    \"Vanilla\": 0.18666,\n",
    "}"
   ]
  },
  {
   "cell_type": "code",
   "execution_count": null,
   "id": "6181e84a",
   "metadata": {},
   "outputs": [],
   "source": [
    "df = df.with_columns(\n",
    "    [\n",
    "        pl.sum_horizontal(\n",
    "            pl.col(scent) * olfcatory_weights[scent] for scent in scents\n",
    "        ).alias(\"Weighted Olfactory Score\"),\n",
    "    ]\n",
    ")\n",
    "\n",
    "df = df.with_columns(\n",
    "    pl.when(pl.col(\"COVID19 PCR Result\") == 1)\n",
    "    .then(pl.lit(\"PCR Positive\"))\n",
    "    .otherwise(pl.lit(\"PCR Negative\"))\n",
    "    .alias(\"Group\"),\n",
    ")\n",
    "df"
   ]
  },
  {
   "cell_type": "code",
   "execution_count": null,
   "id": "0aa920ef",
   "metadata": {},
   "outputs": [],
   "source": [
    "fig = px.box(\n",
    "    df,\n",
    "    x=\"Group\",\n",
    "    y=\"Weighted Olfactory Score\",\n",
    "    color=\"Group\",\n",
    "    title=\"Weighted Olfactory Score by PCR Result\",\n",
    ")\n",
    "fig.show()"
   ]
  },
  {
   "cell_type": "markdown",
   "id": "800c1ca6",
   "metadata": {},
   "source": [
    "Based on these results we want to see if there is a relationship between the symptoms and the olfactory score, not just based on the positive/negative results of the PCR."
   ]
  },
  {
   "cell_type": "markdown",
   "id": "56dc3d66",
   "metadata": {},
   "source": [
    "## Logistic Regression\n",
    "Using logistic regression on the weighted olfactory score\n",
    "\n",
    "NOTE: Due to lack of time, a visual analysis of the data was not performed."
   ]
  },
  {
   "cell_type": "code",
   "execution_count": null,
   "id": "c0802e61",
   "metadata": {},
   "outputs": [],
   "source": [
    "# Model training\n",
    "X = df.select('Weighted Olfactory Score').to_numpy()\n",
    "y = df.select('COVID19 PCR Result').to_numpy().ravel()\n",
    "\n",
    "\n",
    "model = linear_model.LogisticRegression()\n",
    "model.fit(X, y)\n",
    "\n"
   ]
  },
  {
   "cell_type": "code",
   "execution_count": null,
   "id": "0c5c11be",
   "metadata": {},
   "outputs": [],
   "source": [
    "x_vals = np.linspace(X.min(), X.max(), 1000).reshape(-1, 1)\n",
    "y_pred = model.predict_proba(x_vals)[:, 1]\n",
    "\n",
    "print(x_vals.flatten().shape)\n",
    "print(y_pred.shape)\n",
    "fig = px.scatter(\n",
    "    x=x_vals.flatten(),\n",
    "    y=y_pred,\n",
    "    title=\"Logistic Regression Model\",\n",
    "    labels={\"x\": \"Weighted Olfactory Score\", \"y\": \"Probability of PCR Positive\"},\n",
    ")\n",
    "\n",
    "y_jittered = y + np.random.normal(0, 0.03, size=y.shape) # Jittering of the y-values was added to better visualize the points\n",
    "fig.add_scatter(\n",
    "    x=X.flatten(),\n",
    "    y=y_jittered,\n",
    "    mode=\"markers\",\n",
    "    name=\"PCR Results\",\n",
    "    marker=dict(color=\"gray\", opacity=0.4),\n",
    ")\n",
    "fig.show()"
   ]
  }
 ],
 "metadata": {
  "kernelspec": {
   "display_name": "stat",
   "language": "python",
   "name": "python3"
  },
  "language_info": {
   "codemirror_mode": {
    "name": "ipython",
    "version": 3
   },
   "file_extension": ".py",
   "mimetype": "text/x-python",
   "name": "python",
   "nbconvert_exporter": "python",
   "pygments_lexer": "ipython3",
   "version": "3.13.2"
  }
 },
 "nbformat": 4,
 "nbformat_minor": 5
}
